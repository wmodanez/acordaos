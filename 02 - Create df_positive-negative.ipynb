{
 "cells": [
  {
   "cell_type": "code",
   "execution_count": 1,
   "metadata": {},
   "outputs": [],
   "source": [
    "import re\n",
    "\n",
    "import pandas as pd\n",
    "\n",
    "from tools import criaChaveAcordao\n",
    "from sklearn import preprocessing"
   ]
  },
  {
   "cell_type": "code",
   "execution_count": null,
   "metadata": {},
   "outputs": [],
   "source": [
    "# # Transforma o texto em string; letras maiúsculas; remove espaços nas laterais da strig\n",
    "# def padronizaTexto(texto):\n",
    "#     return str(texto.upper().strip())\n",
    "\n",
    "\n",
    "# # Função que gera a chave para os acordãos, criada para ser aplicada na coluna \"Título\" do dataset positivo\n",
    "# def criaChaveAcordao(texto):\n",
    "    \n",
    "#     # Atribui valor inicil para a variável indicadors do tipo da sessão\n",
    "#     tipoSessao = 'PL'\n",
    "    \n",
    "#     # Aplica função de padronizar o dado de entrada\n",
    "#     texto = padronizaTexto(texto)\n",
    " \n",
    "#     # Extraindo os valores para variável tipoDecisao:        \n",
    "#     if len(re.findall('AC[O|Ó]RD[Ã|A]O\\s[A-Z]',texto)) > 0:\n",
    "#         tipoDecisao = 'AR'\n",
    "#     elif len(re.findall('DECIS[Ã|A]O',texto)) > 0:\n",
    "#         tipoDecisao = 'DE'\n",
    "#     else:\n",
    "#         tipoDecisao = 'AC'\n",
    "    \n",
    "#     # Extraindo os valores para as variáveis nrAcordao e ano:    \n",
    "#     ## Procura no texto todos os números e gera uma lista\n",
    "#     anoAcordao = re.findall(\"[0-9]+\",texto)\n",
    "    \n",
    "#     if len(anoAcordao[1]) < 4:\n",
    "#         if int(anoAcordao[1]) <= 30:\n",
    "#             anoAcordao[1] = '20' + anoAcordao[1]\n",
    "#         else:\n",
    "#             anoAcordao[1] = '19' + anoAcordao[1]\n",
    "\n",
    "#     # Extraindo os valores para variável tipoSessao:\n",
    "    \n",
    "#     ### Atribui valores à variável de acordo com o tipo de sessão. Caso seja PLENÁRIO, a variável tiposessão recebe valor \"PL\";\n",
    "#     ### caso seja PRIMEIRA CÂMARA, a variável tiposessão recebe valor \"1C\";\n",
    "#     ### caso seja SEGUNDA CÂMARA, a variável tiposessão recebe valor \"2C\"\n",
    "#     if(len(re.findall('PLEN[Á|A]RIO',texto)) == 0):\n",
    "#         if(len(re.findall('PRIMEIRA',texto)) != 0):\n",
    "#             tipoSessao = '1C'\n",
    "#         elif(len(re.findall('SEGUNDA',texto)) > 0):\n",
    "#             tipoSessao = '2C'\n",
    " \n",
    "#     return tipoDecisao + '-' + anoAcordao[0].zfill(6) + '-' + anoAcordao[1] + '-' + tipoSessao"
   ]
  },
  {
   "cell_type": "markdown",
   "metadata": {},
   "source": [
    "## Conhecer a classe positiva"
   ]
  },
  {
   "cell_type": "markdown",
   "metadata": {},
   "source": [
    "Os acórdãos da classe positiva foram encontrados a partir de pesquisa no sitio eletrônico do TCU (portal de jurisprudência), por meio de pesquisa de termos chave que fazem referência à tipologias de cláusulas restritivas de editais de licitação (cf. NAVES, Fernanda de Moura Ribeiro. TCU e stare decisis administrativo: o caso das cláusulas restritivas em editais de licitação de obras de engenharia. Dissertação (Mestrado Profissional em Direito e Políticas Públicas) - Universidade Federal e Goiás, 2019, p. 83-88).\n",
    "<https://pesquisa.apps.tcu.gov.br/#/pesquisa/acordao-completo>. Acesso em 18 out 2019."
   ]
  },
  {
   "cell_type": "code",
   "execution_count": 3,
   "metadata": {},
   "outputs": [],
   "source": [
    "df_positivo = pd.read_excel('dados/acordaopositivo.xlsx', sheet_name='Sheet1')\n",
    "df_positivo.insert(0, 'ID', '')"
   ]
  },
  {
   "cell_type": "markdown",
   "metadata": {},
   "source": [
    "## Conhecer a classe negativa"
   ]
  },
  {
   "cell_type": "markdown",
   "metadata": {},
   "source": [
    "Os acórdãos da classe negativa foram obtidos a partir de pesquisa na jurisprudência selecionada do TCU. O TCU classifica aproximadamente 14 mil acórdãos em 10 áreas, 393 temas e 817 subtemas. Excluiu-se temas e subtemas que poderiam estar associados à \"cláusulas restritivas de editais de licitação\", restando 10.688 acórdãos previamente classificados pelo TCu e que, em tese, não guardam relação com a temática em estudo, sendo, por isso, utilizados como a classe negativa.\n",
    "<https://pesquisa.apps.tcu.gov.br/#/pesquisa/jurisprudencia-selecionada>. Acesso em 18 out 2019."
   ]
  },
  {
   "cell_type": "code",
   "execution_count": 4,
   "metadata": {},
   "outputs": [],
   "source": [
    "df_negativo = pd.read_excel('dados/acordaonegativo.xlsx', sheet_name='Sheet1')\n",
    "df_negativo.insert(0, 'ID', '')"
   ]
  },
  {
   "cell_type": "code",
   "execution_count": 5,
   "metadata": {},
   "outputs": [
    {
     "name": "stdout",
     "output_type": "stream",
     "text": [
      "<class 'pandas.core.frame.DataFrame'>\n",
      "RangeIndex: 634 entries, 0 to 633\n",
      "Data columns (total 16 columns):\n",
      " #   Column                                  Non-Null Count  Dtype \n",
      "---  ------                                  --------------  ----- \n",
      " 0   ID                                      634 non-null    object\n",
      " 1   LabelClasse                             634 non-null    object\n",
      " 2   Tipo                                    634 non-null    object\n",
      " 3   Título                                  634 non-null    object\n",
      " 4   Data                                    634 non-null    object\n",
      " 5   Relator                                 634 non-null    object\n",
      " 6   Sumário                                 626 non-null    object\n",
      " 7   Processo                                634 non-null    object\n",
      " 8   Tipo de processo                        634 non-null    object\n",
      " 9   Interessado / Responsável / Recorrente  630 non-null    object\n",
      " 10  Entidade                                573 non-null    object\n",
      " 11  Representante do Ministério Público     452 non-null    object\n",
      " 12  Unidade Técnica                         614 non-null    object\n",
      " 13  Representante Legal                     534 non-null    object\n",
      " 14  Assunto                                 306 non-null    object\n",
      " 15  Endereço do Arquivo                     634 non-null    object\n",
      "dtypes: object(16)\n",
      "memory usage: 79.4+ KB\n",
      "None \n",
      "\n",
      "<class 'pandas.core.frame.DataFrame'>\n",
      "RangeIndex: 10685 entries, 0 to 10684\n",
      "Data columns (total 7 columns):\n",
      " #   Column            Non-Null Count  Dtype \n",
      "---  ------            --------------  ----- \n",
      " 0   ID                10685 non-null  object\n",
      " 1   Acórdão           10685 non-null  object\n",
      " 2   Área              10685 non-null  object\n",
      " 3   Tema              10685 non-null  object\n",
      " 4   Subtema           10685 non-null  object\n",
      " 5   Enunciado         10685 non-null  object\n",
      " 6   Tipo do processo  10685 non-null  object\n",
      "dtypes: object(7)\n",
      "memory usage: 584.5+ KB\n",
      "None\n"
     ]
    }
   ],
   "source": [
    "print(df_positivo.info(), '\\n')\n",
    "print(df_negativo.info())"
   ]
  },
  {
   "cell_type": "code",
   "execution_count": 6,
   "metadata": {},
   "outputs": [],
   "source": [
    "df_positivo.rename(str.upper, axis='columns', inplace=True)\n",
    "df_positivo.rename(columns={'LABELCLASSE': 'CLASSE', 'TÍTULO': 'TITULO', 'SUMÁRIO': 'SUMARIO', \n",
    "                            'TIPO DE PROCESSO': 'TIPO_PROCESSO',\n",
    "                           'INTERESSADO / RESPONSÁVEL / RECORRENTE': 'INTERESSADO', \n",
    "                           'REPRESENTANTE DO MINISTÉRIO PÚBLICO': 'REP_MP',\n",
    "                           'UNIDADE TÉCNICA': 'UNIDADE_TECNICA', 'REPRESENTANTE LEGAL': 'REP_LEGAL',\n",
    "                           'ENDEREÇO DO ARQUIVO': 'FILE_PATH'}, inplace=True)\n"
   ]
  },
  {
   "cell_type": "code",
   "execution_count": 7,
   "metadata": {},
   "outputs": [],
   "source": [
    "df_negativo.rename(str.upper, axis='columns', inplace=True)\n",
    "df_negativo.rename(columns={'ACÓRDÃO': 'ACORDAO', 'ÁREA':'AREA', \n",
    "                            'TIPO DO PROCESSO': 'TIPO_PROCESSO'}, inplace=True)\n"
   ]
  },
  {
   "cell_type": "code",
   "execution_count": 8,
   "metadata": {},
   "outputs": [
    {
     "name": "stdout",
     "output_type": "stream",
     "text": [
      "<class 'pandas.core.frame.DataFrame'>\n",
      "RangeIndex: 634 entries, 0 to 633\n",
      "Data columns (total 16 columns):\n",
      " #   Column           Non-Null Count  Dtype \n",
      "---  ------           --------------  ----- \n",
      " 0   ID               634 non-null    object\n",
      " 1   CLASSE           634 non-null    object\n",
      " 2   TIPO             634 non-null    object\n",
      " 3   TITULO           634 non-null    object\n",
      " 4   DATA             634 non-null    object\n",
      " 5   RELATOR          634 non-null    object\n",
      " 6   SUMARIO          626 non-null    object\n",
      " 7   PROCESSO         634 non-null    object\n",
      " 8   TIPO_PROCESSO    634 non-null    object\n",
      " 9   INTERESSADO      630 non-null    object\n",
      " 10  ENTIDADE         573 non-null    object\n",
      " 11  REP_MP           452 non-null    object\n",
      " 12  UNIDADE_TECNICA  614 non-null    object\n",
      " 13  REP_LEGAL        534 non-null    object\n",
      " 14  ASSUNTO          306 non-null    object\n",
      " 15  FILE_PATH        634 non-null    object\n",
      "dtypes: object(16)\n",
      "memory usage: 79.4+ KB\n",
      "None \n",
      "\n",
      "<class 'pandas.core.frame.DataFrame'>\n",
      "RangeIndex: 10685 entries, 0 to 10684\n",
      "Data columns (total 7 columns):\n",
      " #   Column         Non-Null Count  Dtype \n",
      "---  ------         --------------  ----- \n",
      " 0   ID             10685 non-null  object\n",
      " 1   ACORDAO        10685 non-null  object\n",
      " 2   AREA           10685 non-null  object\n",
      " 3   TEMA           10685 non-null  object\n",
      " 4   SUBTEMA        10685 non-null  object\n",
      " 5   ENUNCIADO      10685 non-null  object\n",
      " 6   TIPO_PROCESSO  10685 non-null  object\n",
      "dtypes: object(7)\n",
      "memory usage: 584.5+ KB\n",
      "None\n"
     ]
    }
   ],
   "source": [
    "print(df_positivo.info(), '\\n')\n",
    "print(df_negativo.info())"
   ]
  },
  {
   "cell_type": "code",
   "execution_count": 9,
   "metadata": {},
   "outputs": [],
   "source": [
    "# Converte a classe em categorias\n",
    "for i in range(0,14):\n",
    "    df_positivo.loc[df_positivo['CLASSE'] == 'classe' + str(i+1), ['CLASSE']] = i+1"
   ]
  },
  {
   "cell_type": "code",
   "execution_count": 10,
   "metadata": {},
   "outputs": [
    {
     "data": {
      "text/plain": [
       "13    107\n",
       "5      96\n",
       "14     82\n",
       "8      57\n",
       "9      49\n",
       "11     46\n",
       "7      46\n",
       "10     41\n",
       "6      25\n",
       "12     22\n",
       "4      21\n",
       "3      19\n",
       "2      17\n",
       "1       6\n",
       "Name: CLASSE, dtype: int64"
      ]
     },
     "execution_count": 10,
     "metadata": {},
     "output_type": "execute_result"
    }
   ],
   "source": [
    "df_positivo.CLASSE.value_counts()"
   ]
  },
  {
   "cell_type": "code",
   "execution_count": 11,
   "metadata": {},
   "outputs": [],
   "source": [
    "# Insere o valor do campo ID\n",
    "for index, row in df_positivo.iterrows():\n",
    "    df_positivo.iloc[index, 0] = criaChaveAcordao(df_positivo.iloc[index].TITULO)\n",
    "    \n",
    "df_positivo.insert(1, 'LABEL', 1)"
   ]
  },
  {
   "cell_type": "code",
   "execution_count": 12,
   "metadata": {},
   "outputs": [],
   "source": [
    "# Insere o valor do campo ID\n",
    "for index, row in df_negativo.iterrows():\n",
    "    df_negativo.iloc[index, 0] = criaChaveAcordao(df_negativo.iloc[index].ACORDAO)\n",
    "    \n",
    "df_negativo.insert(1, 'LABEL', 0)"
   ]
  },
  {
   "cell_type": "code",
   "execution_count": 13,
   "metadata": {},
   "outputs": [],
   "source": [
    "df_positivo.to_csv('dados/positivos.csv', sep='|', encoding='utf-8', index=False)\n",
    "df_negativo.to_csv('dados/negativos.csv', sep='|', encoding='utf-8', index=False)"
   ]
  },
  {
   "cell_type": "code",
   "execution_count": 14,
   "metadata": {},
   "outputs": [
    {
     "data": {
      "text/plain": [
       "ACÓRDÃO               609\n",
       "DECISÃO                19\n",
       "ACÓRDÃO DE RELAÇÃO      6\n",
       "Name: TIPO, dtype: int64"
      ]
     },
     "execution_count": 14,
     "metadata": {},
     "output_type": "execute_result"
    }
   ],
   "source": [
    "df_positivo.TIPO.value_counts()"
   ]
  },
  {
   "cell_type": "code",
   "execution_count": 15,
   "metadata": {},
   "outputs": [
    {
     "name": "stdout",
     "output_type": "stream",
     "text": [
      "32\n",
      "17\n"
     ]
    }
   ],
   "source": [
    "print(df_negativo.TIPO_PROCESSO.value_counts().shape[0])\n",
    "print(df_positivo.TIPO_PROCESSO.value_counts().shape[0])"
   ]
  },
  {
   "cell_type": "code",
   "execution_count": 16,
   "metadata": {},
   "outputs": [
    {
     "name": "stdout",
     "output_type": "stream",
     "text": [
      "REPRESENTAÇÃO (REPR)                        323\n",
      "RELATÓRIO DE AUDITORIA (RA)                 175\n",
      "RELATÓRIO DE LEVANTAMENTO (RL)               49\n",
      "TOMADA DE CONTAS ESPECIAL (TCE)              21\n",
      "DENÚNCIA (DEN)                               13\n",
      "SOLICITAÇÃO DO CONGRESSO NACIONAL (SCN)       7\n",
      "TOMADA DE CONTAS SIMPLIFICADA (TCSP)          7\n",
      "MONITORAMENTO (MON)                           6\n",
      "PRESTAÇÃO DE CONTAS (PC)                      5\n",
      "RELATÓRIO DE MONITORAMENTO (RMON)             5\n",
      "PRESTAÇÃO DE CONTAS SIMPLIFICADA (PCSP)       5\n",
      "DESESTATIZAÇÃO (DES)                          5\n",
      "ACOMPANHAMENTO (ACOM)                         4\n",
      "RELATÓRIO DE ACOMPANHAMENTO (RACOM)           3\n",
      "CONSULTA (CONS)                               3\n",
      "CONTAS DO PRESIDENTE DA REPÚBLICA (CGOV)      2\n",
      "ADMINISTRATIVO (ADM)                          1\n",
      "Name: TIPO_PROCESSO, dtype: int64 \n",
      "\n",
      "TOMADA DE CONTAS ESPECIAL                             3344\n",
      "APOSENTADORIA                                         1665\n",
      "REPRESENTAÇÃO                                         1589\n",
      "RELATÓRIO DE AUDITORIA                                1013\n",
      "PENSÃO CIVIL                                           630\n",
      "PRESTAÇÃO DE CONTAS                                    423\n",
      "CONSULTA                                               303\n",
      "RELATÓRIO DE LEVANTAMENTO                              213\n",
      "DENÚNCIA                                               175\n",
      "ATOS DE ADMISSÃO                                       170\n",
      "ADMINISTRATIVO                                         167\n",
      "SOLICITAÇÃO DO CONGRESSO NACIONAL                      155\n",
      "PRESTAÇÃO DE CONTAS SIMPLIFICADA                       125\n",
      "TOMADA DE CONTAS                                       111\n",
      "MONITORAMENTO                                          105\n",
      "TOMADA DE CONTAS SIMPLIFICADA                           81\n",
      "ACOMPANHAMENTO                                          61\n",
      "DESESTATIZAÇÃO                                          56\n",
      "PENSÃO ESPECIAL DE EX-COMBATENTE                        55\n",
      "RELATÓRIO DE ACOMPANHAMENTO                             53\n",
      "PENSÃO MILITAR                                          51\n",
      "RELATÓRIO DE MONITORAMENTO                              38\n",
      "RELATÓRIO DE INSPEÇÃO                                   34\n",
      "SOLICITAÇÃO                                             22\n",
      "CONTAS DO PRESIDENTE DA REPÚBLICA                       13\n",
      "INDISPONIBILIDADE DE BENS                               10\n",
      "REFORMA                                                  9\n",
      "CONTESTAÇÃO DE COEFICIENTES DE TRANSF.OBRIGATÓRIAS       8\n",
      "AÇÕES JUDICIAIS_SOLICITAÇÃO DE SUBSÍDIOS                 3\n",
      "PRESTAÇÃO DE CONTAS EXTRAORDINÁRIA                       1\n",
      "COBRANÇA EXECUTIVA                                       1\n",
      "RELATÓRIO DE AUDITORIA - APOSENTADORIA                   1\n",
      "Name: TIPO_PROCESSO, dtype: int64\n"
     ]
    }
   ],
   "source": [
    "print(df_positivo.TIPO_PROCESSO.value_counts(), '\\n')\n",
    "print(df_negativo.TIPO_PROCESSO.value_counts())"
   ]
  },
  {
   "cell_type": "code",
   "execution_count": 17,
   "metadata": {},
   "outputs": [
    {
     "data": {
      "text/html": [
       "<div>\n",
       "<style scoped>\n",
       "    .dataframe tbody tr th:only-of-type {\n",
       "        vertical-align: middle;\n",
       "    }\n",
       "\n",
       "    .dataframe tbody tr th {\n",
       "        vertical-align: top;\n",
       "    }\n",
       "\n",
       "    .dataframe thead th {\n",
       "        text-align: right;\n",
       "    }\n",
       "</style>\n",
       "<table border=\"1\" class=\"dataframe\">\n",
       "  <thead>\n",
       "    <tr style=\"text-align: right;\">\n",
       "      <th></th>\n",
       "      <th>ID_x</th>\n",
       "      <th>LABEL_x</th>\n",
       "      <th>CLASSE</th>\n",
       "      <th>TIPO</th>\n",
       "      <th>TITULO</th>\n",
       "      <th>DATA</th>\n",
       "      <th>RELATOR</th>\n",
       "      <th>SUMARIO</th>\n",
       "      <th>PROCESSO</th>\n",
       "      <th>TIPO_PROCESSO</th>\n",
       "      <th>INTERESSADO</th>\n",
       "      <th>ENTIDADE</th>\n",
       "      <th>REP_MP</th>\n",
       "      <th>UNIDADE_TECNICA</th>\n",
       "      <th>REP_LEGAL</th>\n",
       "      <th>ASSUNTO</th>\n",
       "      <th>FILE_PATH</th>\n",
       "      <th>ID_y</th>\n",
       "      <th>LABEL_y</th>\n",
       "      <th>ACORDAO</th>\n",
       "      <th>AREA</th>\n",
       "      <th>TEMA</th>\n",
       "      <th>SUBTEMA</th>\n",
       "      <th>ENUNCIADO</th>\n",
       "    </tr>\n",
       "  </thead>\n",
       "  <tbody>\n",
       "  </tbody>\n",
       "</table>\n",
       "</div>"
      ],
      "text/plain": [
       "Empty DataFrame\n",
       "Columns: [ID_x, LABEL_x, CLASSE, TIPO, TITULO, DATA, RELATOR, SUMARIO, PROCESSO, TIPO_PROCESSO, INTERESSADO, ENTIDADE, REP_MP, UNIDADE_TECNICA, REP_LEGAL, ASSUNTO, FILE_PATH, ID_y, LABEL_y, ACORDAO, AREA, TEMA, SUBTEMA, ENUNCIADO]\n",
       "Index: []"
      ]
     },
     "execution_count": 17,
     "metadata": {},
     "output_type": "execute_result"
    }
   ],
   "source": [
    "pd.merge(df_positivo, df_negativo, on=['TIPO_PROCESSO'], how='inner')"
   ]
  },
  {
   "cell_type": "code",
   "execution_count": 18,
   "metadata": {},
   "outputs": [
    {
     "data": {
      "text/plain": [
       "set()"
      ]
     },
     "execution_count": 18,
     "metadata": {},
     "output_type": "execute_result"
    }
   ],
   "source": [
    "set(df_positivo.TIPO_PROCESSO).intersection(set(df_negativo.TIPO_PROCESSO))"
   ]
  }
 ],
 "metadata": {
  "kernelspec": {
   "display_name": "xpython",
   "language": "python",
   "name": "xpython"
  },
  "language_info": {
   "file_extension": ".py",
   "mimetype": "text/x-python",
   "name": "python",
   "version": "3.8.2"
  }
 },
 "nbformat": 4,
 "nbformat_minor": 4
}
