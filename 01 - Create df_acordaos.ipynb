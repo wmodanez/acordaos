{
 "cells": [
  {
   "cell_type": "code",
   "execution_count": 1,
   "metadata": {},
   "outputs": [],
   "source": [
    "import sqlite3\n",
    "import zipfile\n",
    "\n",
    "import pandas as pd"
   ]
  },
  {
   "cell_type": "markdown",
   "metadata": {},
   "source": [
    "## Conhecer a base de dados dos acórdãos do TCU"
   ]
  },
  {
   "cell_type": "markdown",
   "metadata": {},
   "source": [
    "A base de dados dos acórdãos do TCU foi disponibilizada para download público na plataforma Kaggle. Os dados dizem respeito aos acórdãos proferidos pelo TCU entre os anos de 1992 até 30/08/2019.\n",
    "Acesse o endereço <https://www.kaggle.com/ferraz/acordaos-tcu> e baixe o arquivo no link Download (4GB) e salve na pasta '/dados'.\n",
    "github: <https://github.com/netoferraz/acordaos-tcu>"
   ]
  },
  {
   "cell_type": "code",
   "execution_count": null,
   "metadata": {},
   "outputs": [],
   "source": [
    "with zipfile.ZipFile('dados/330881_660826_bundle_archive.zip', 'r') as zip_ref:\n",
    "    zip_ref.extractall()"
   ]
  },
  {
   "cell_type": "code",
   "execution_count": 3,
   "metadata": {},
   "outputs": [],
   "source": [
    "# Cria conexão com a base de datos sqlite\n",
    "conn = sqlite3.connect('dados/tcu-acordaos.db')"
   ]
  },
  {
   "cell_type": "code",
   "execution_count": 4,
   "metadata": {},
   "outputs": [],
   "source": [
    "# Cria o dataframe df_acordaos\n",
    "df_acordaos = pd.read_sql_query('SELECT * from acordaos', conn)"
   ]
  },
  {
   "cell_type": "code",
   "execution_count": 5,
   "metadata": {},
   "outputs": [
    {
     "name": "stdout",
     "output_type": "stream",
     "text": [
      "(298942, 20) \n",
      "\n",
      "Index(['id', 'urn', 'ano_acordao', 'numero_acordao', 'relator', 'processo',\n",
      "       'tipo_processo', 'data_sessao', 'numero_ata',\n",
      "       'interessado_reponsavel_recorrente', 'entidade', 'representante_mp',\n",
      "       'unidade_tecnica', 'repr_legal', 'assunto', 'sumario', 'acordao',\n",
      "       'quorum', 'relatorio', 'voto'],\n",
      "      dtype='object') \n",
      "\n",
      "<class 'pandas.core.frame.DataFrame'>\n",
      "RangeIndex: 298942 entries, 0 to 298941\n",
      "Data columns (total 20 columns):\n",
      " #   Column                             Non-Null Count   Dtype \n",
      "---  ------                             --------------   ----- \n",
      " 0   id                                 298942 non-null  int64 \n",
      " 1   urn                                298942 non-null  object\n",
      " 2   ano_acordao                        298942 non-null  int64 \n",
      " 3   numero_acordao                     298123 non-null  object\n",
      " 4   relator                            298470 non-null  object\n",
      " 5   processo                           298562 non-null  object\n",
      " 6   tipo_processo                      298470 non-null  object\n",
      " 7   data_sessao                        298562 non-null  object\n",
      " 8   numero_ata                         298470 non-null  object\n",
      " 9   interessado_reponsavel_recorrente  297679 non-null  object\n",
      " 10  entidade                           297777 non-null  object\n",
      " 11  representante_mp                   297854 non-null  object\n",
      " 12  unidade_tecnica                    298138 non-null  object\n",
      " 13  repr_legal                         298285 non-null  object\n",
      " 14  assunto                            266551 non-null  object\n",
      " 15  sumario                            269290 non-null  object\n",
      " 16  acordao                            298447 non-null  object\n",
      " 17  quorum                             269543 non-null  object\n",
      " 18  relatorio                          269199 non-null  object\n",
      " 19  voto                               269199 non-null  object\n",
      "dtypes: int64(2), object(18)\n",
      "memory usage: 45.6+ MB\n",
      "None \n",
      "\n"
     ]
    }
   ],
   "source": [
    "print(df_acordaos.shape, '\\n')\n",
    "\n",
    "# Mostra as colunas da base\n",
    "print(df_acordaos.columns, '\\n')\n",
    "\n",
    "print(df_acordaos.info(), '\\n')"
   ]
  },
  {
   "cell_type": "code",
   "execution_count": 6,
   "metadata": {},
   "outputs": [],
   "source": [
    "# Transfora em string as colunas ano_acordao\n",
    "df_acordaos['ano_acordao'] = df_acordaos['ano_acordao'].map(str)"
   ]
  },
  {
   "cell_type": "code",
   "execution_count": 7,
   "metadata": {},
   "outputs": [],
   "source": [
    "# Retira colunas que não interessam para o trabalho\n",
    "df_acordaos = df_acordaos.drop(['representante_mp', 'assunto', 'unidade_tecnica', 'repr_legal', 'quorum',\n",
    "                               'interessado_reponsavel_recorrente'], axis=1)"
   ]
  },
  {
   "cell_type": "code",
   "execution_count": 8,
   "metadata": {},
   "outputs": [
    {
     "name": "stdout",
     "output_type": "stream",
     "text": [
      "<class 'pandas.core.frame.DataFrame'>\n",
      "RangeIndex: 298942 entries, 0 to 298941\n",
      "Data columns (total 14 columns):\n",
      " #   Column          Non-Null Count   Dtype \n",
      "---  ------          --------------   ----- \n",
      " 0   id              298942 non-null  int64 \n",
      " 1   urn             298942 non-null  object\n",
      " 2   ano_acordao     298942 non-null  object\n",
      " 3   numero_acordao  298123 non-null  object\n",
      " 4   relator         298470 non-null  object\n",
      " 5   processo        298562 non-null  object\n",
      " 6   tipo_processo   298470 non-null  object\n",
      " 7   data_sessao     298562 non-null  object\n",
      " 8   numero_ata      298470 non-null  object\n",
      " 9   entidade        297777 non-null  object\n",
      " 10  sumario         269290 non-null  object\n",
      " 11  acordao         298447 non-null  object\n",
      " 12  relatorio       269199 non-null  object\n",
      " 13  voto            269199 non-null  object\n",
      "dtypes: int64(1), object(13)\n",
      "memory usage: 31.9+ MB\n"
     ]
    }
   ],
   "source": [
    "df_acordaos.info()"
   ]
  },
  {
   "cell_type": "code",
   "execution_count": 9,
   "metadata": {},
   "outputs": [
    {
     "name": "stdout",
     "output_type": "stream",
     "text": [
      "Qtde de acordãos sem número de processo:  380\n",
      "Qtde de acordãos com tipo de processo SIGILOSO:  5201\n",
      "Qtde de acordãos com acordao SIGILOSO:  1787\n",
      "Qtde de acordãos com voto SIGILOSO:  2597\n",
      "Qtde de acordãos com entidade SIGILOSO:  5542\n",
      "Qtde de acordãos com Número de Acórdão não utilizado:  92\n"
     ]
    }
   ],
   "source": [
    "print('Qtde de acordãos sem número de processo: ', df_acordaos[df_acordaos.processo.isnull()].shape[0])\n",
    "print('Qtde de acordãos com tipo de processo SIGILOSO: ', df_acordaos[(df_acordaos.tipo_processo == 'SIGILOSO')].shape[0])\n",
    "print('Qtde de acordãos com acordao SIGILOSO: ', df_acordaos[(df_acordaos.acordao == 'SIGILOSO') | (df_acordaos.acordao == 'None')].shape[0])\n",
    "print('Qtde de acordãos com voto SIGILOSO: ', df_acordaos[(df_acordaos.voto == 'SIGILOSO')  | (df_acordaos.voto == 'None')].shape[0])\n",
    "print('Qtde de acordãos com entidade SIGILOSO: ', df_acordaos[(df_acordaos.entidade == 'SIGILOSO')  | (df_acordaos.entidade == 'None')].shape[0])\n",
    "print('Qtde de acordãos com Número de Acórdão não utilizado: ', df_acordaos[df_acordaos.sumario == 'Número de Acórdão não utilizado'].shape[0])"
   ]
  },
  {
   "cell_type": "code",
   "execution_count": 10,
   "metadata": {},
   "outputs": [
    {
     "data": {
      "text/plain": [
       "5630"
      ]
     },
     "execution_count": 10,
     "metadata": {},
     "output_type": "execute_result"
    }
   ],
   "source": [
    "df_acordaos[(df_acordaos['entidade'] == 'SIGILOSO') | (df_acordaos['tipo_processo'].str.upper == 'SIGILOGO')\n",
    "       | (df_acordaos['sumario'].str.upper == 'SIGILOGO')\n",
    "       | (df_acordaos['acordao'].str.upper == 'SIGILOGO')\n",
    "       | (df_acordaos['relatorio'].str.upper == 'SIGILOGO')\n",
    "       | (df_acordaos['entidade'].str.upper == 'SIGILOGO')\n",
    "       | (df_acordaos['voto'].str.upper == 'SIGILOGO')\n",
    "        | (df_acordaos.sumario == 'Número de Acórdão não utilizado')].shape[0]"
   ]
  },
  {
   "cell_type": "code",
   "execution_count": 11,
   "metadata": {},
   "outputs": [
    {
     "name": "stdout",
     "output_type": "stream",
     "text": [
      "298562\n",
      "293361\n",
      "293087\n",
      "292277\n",
      "292207\n",
      "292115\n"
     ]
    }
   ],
   "source": [
    "df_acordaos = df_acordaos[df_acordaos.processo.notnull()]\n",
    "print(df_acordaos.shape[0])\n",
    "df_acordaos = df_acordaos.drop(df_acordaos.index[df_acordaos['tipo_processo'] =='SIGILOSO'])\n",
    "print(df_acordaos.shape[0])\n",
    "df_acordaos = df_acordaos.drop(df_acordaos.index[(df_acordaos['acordao'] == 'SIGILOSO') | (df_acordaos['acordao'] == 'None')])\n",
    "print(df_acordaos.shape[0])\n",
    "df_acordaos = df_acordaos.drop(df_acordaos.index[(df_acordaos['voto'] == 'SIGILOSO') | (df_acordaos['voto'] == 'None')])\n",
    "print(df_acordaos.shape[0])\n",
    "df_acordaos = df_acordaos.drop(df_acordaos.index[(df_acordaos['entidade'] == 'SIGILOSO') | (df_acordaos['entidade'] == 'None')])\n",
    "print(df_acordaos.shape[0])\n",
    "df_acordaos = df_acordaos.drop(df_acordaos.index[(df_acordaos['sumario'] == 'Número de Acórdão não utilizado')])\n",
    "print(df_acordaos.shape[0])"
   ]
  },
  {
   "cell_type": "code",
   "execution_count": 12,
   "metadata": {},
   "outputs": [
    {
     "name": "stdout",
     "output_type": "stream",
     "text": [
      "Qtde de acordãos sem número de processo:  0\n",
      "Qtde de acordãos com tipo de processo SIGILOSO:  0\n",
      "Qtde de acordãos com acordao SIGILOSO:  0\n",
      "Qtde de acordãos com voto SIGILOSO:  0\n",
      "Qtde de acordãos com entidade SIGILOSO:  0\n",
      "Qtde de acordãos com Número de Acórdão não utilizado:  0\n"
     ]
    }
   ],
   "source": [
    "print('Qtde de acordãos sem número de processo: ', df_acordaos[df_acordaos.processo.isnull()].shape[0])\n",
    "print('Qtde de acordãos com tipo de processo SIGILOSO: ', df_acordaos[(df_acordaos.tipo_processo == 'SIGILOSO')].shape[0])\n",
    "print('Qtde de acordãos com acordao SIGILOSO: ', df_acordaos[(df_acordaos.acordao == 'SIGILOSO') | (df_acordaos.acordao == 'None')].shape[0])\n",
    "print('Qtde de acordãos com voto SIGILOSO: ', df_acordaos[(df_acordaos.voto == 'SIGILOSO')  | (df_acordaos.voto == 'None')].shape[0])\n",
    "print('Qtde de acordãos com entidade SIGILOSO: ', df_acordaos[(df_acordaos.entidade == 'SIGILOSO')  | (df_acordaos.entidade == 'None')].shape[0])\n",
    "print('Qtde de acordãos com Número de Acórdão não utilizado: ', df_acordaos[df_acordaos.sumario == 'Número de Acórdão não utilizado'].shape[0])"
   ]
  },
  {
   "cell_type": "code",
   "execution_count": 13,
   "metadata": {},
   "outputs": [
    {
     "data": {
      "text/plain": [
       "0"
      ]
     },
     "execution_count": 13,
     "metadata": {},
     "output_type": "execute_result"
    }
   ],
   "source": [
    "df_acordaos[(df_acordaos['entidade'] == 'SIGILOSO') | (df_acordaos['tipo_processo'].str.upper == 'SIGILOGO')\n",
    "       | (df_acordaos['sumario'].str.upper == 'SIGILOGO')\n",
    "       | (df_acordaos['acordao'].str.upper == 'SIGILOGO')\n",
    "       | (df_acordaos['relatorio'].str.upper == 'SIGILOGO')\n",
    "       | (df_acordaos['voto'].str.upper == 'SIGILOGO')\n",
    "        | (df_acordaos.sumario == 'Número de Acórdão não utilizado')].shape[0]"
   ]
  },
  {
   "cell_type": "code",
   "execution_count": 14,
   "metadata": {},
   "outputs": [
    {
     "data": {
      "text/html": [
       "<div>\n",
       "<style scoped>\n",
       "    .dataframe tbody tr th:only-of-type {\n",
       "        vertical-align: middle;\n",
       "    }\n",
       "\n",
       "    .dataframe tbody tr th {\n",
       "        vertical-align: top;\n",
       "    }\n",
       "\n",
       "    .dataframe thead th {\n",
       "        text-align: right;\n",
       "    }\n",
       "</style>\n",
       "<table border=\"1\" class=\"dataframe\">\n",
       "  <thead>\n",
       "    <tr style=\"text-align: right;\">\n",
       "      <th></th>\n",
       "      <th>id</th>\n",
       "      <th>urn</th>\n",
       "      <th>ano_acordao</th>\n",
       "      <th>numero_acordao</th>\n",
       "      <th>relator</th>\n",
       "      <th>processo</th>\n",
       "      <th>tipo_processo</th>\n",
       "      <th>data_sessao</th>\n",
       "      <th>numero_ata</th>\n",
       "      <th>entidade</th>\n",
       "      <th>sumario</th>\n",
       "      <th>acordao</th>\n",
       "      <th>relatorio</th>\n",
       "      <th>voto</th>\n",
       "    </tr>\n",
       "  </thead>\n",
       "  <tbody>\n",
       "    <tr>\n",
       "      <th>294848</th>\n",
       "      <td>294849</td>\n",
       "      <td>NA</td>\n",
       "      <td>2019</td>\n",
       "      <td>2011</td>\n",
       "      <td>AROLDO CEDRAZ</td>\n",
       "      <td>017.162/2007-1</td>\n",
       "      <td>Tomada de contas especial instaurada em razão ...</td>\n",
       "      <td>28/08/2019</td>\n",
       "      <td>33/2019-Plenário</td>\n",
       "      <td>Associação dos Irrigantes da Barragem de Terra...</td>\n",
       "      <td>TOMADA DE CONTAS ESPECIAL. NÃO COMPROVAÇÃO DA ...</td>\n",
       "      <td>VISTOS, relatados e discutidos estes autos de ...</td>\n",
       "      <td>Inicio este Relatório transcrevendo, com algun...</td>\n",
       "      <td>Conforme consignado no Relatório precedente, t...</td>\n",
       "    </tr>\n",
       "    <tr>\n",
       "      <th>295941</th>\n",
       "      <td>295942</td>\n",
       "      <td>NA</td>\n",
       "      <td>2019</td>\n",
       "      <td>2011</td>\n",
       "      <td>AROLDO CEDRAZ</td>\n",
       "      <td>017.162/2007-1</td>\n",
       "      <td>Tomada de contas especial instaurada em razão ...</td>\n",
       "      <td>28/08/2019</td>\n",
       "      <td>33/2019-Plenário</td>\n",
       "      <td>Associação dos Irrigantes da Barragem de Terra...</td>\n",
       "      <td>TOMADA DE CONTAS ESPECIAL. NÃO COMPROVAÇÃO DA ...</td>\n",
       "      <td>VISTOS, relatados e discutidos estes autos de ...</td>\n",
       "      <td>Inicio este Relatório transcrevendo, com algun...</td>\n",
       "      <td>Conforme consignado no Relatório precedente, t...</td>\n",
       "    </tr>\n",
       "  </tbody>\n",
       "</table>\n",
       "</div>"
      ],
      "text/plain": [
       "            id urn ano_acordao  ...                                            acordao                                          relatorio                                               voto\n",
       "294848  294849  NA        2019  ...  VISTOS, relatados e discutidos estes autos de ...  Inicio este Relatório transcrevendo, com algun...  Conforme consignado no Relatório precedente, t...\n",
       "295941  295942  NA        2019  ...  VISTOS, relatados e discutidos estes autos de ...  Inicio este Relatório transcrevendo, com algun...  Conforme consignado no Relatório precedente, t...\n",
       "\n",
       "[2 rows x 14 columns]"
      ]
     },
     "execution_count": 14,
     "metadata": {},
     "output_type": "execute_result"
    }
   ],
   "source": [
    "df_acordaos[df_acordaos.duplicated(['numero_acordao', 'processo', 'data_sessao'])]"
   ]
  },
  {
   "cell_type": "code",
   "execution_count": 15,
   "metadata": {},
   "outputs": [],
   "source": [
    "df_acordaos = df_acordaos.drop(295941)"
   ]
  },
  {
   "cell_type": "code",
   "execution_count": null,
   "metadata": {},
   "outputs": [],
   "source": [
    "# Salva o arquivo em um csv compactado reduzindo o arquivo de 4GB para ~900MB\n",
    "df_acordaos.to_csv('dados/df_acordaos.csv', sep='|', index=False, compression='gzip', encoding='utf-8')"
   ]
  }
 ],
 "metadata": {
  "kernelspec": {
   "display_name": "xpython",
   "language": "python",
   "name": "xpython"
  },
  "language_info": {
   "file_extension": ".py",
   "mimetype": "text/x-python",
   "name": "python",
   "version": "3.8.2"
  }
 },
 "nbformat": 4,
 "nbformat_minor": 4
}
