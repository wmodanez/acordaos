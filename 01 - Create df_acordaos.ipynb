{
 "cells": [
  {
   "cell_type": "code",
   "execution_count": 1,
   "metadata": {
    "collapsed": false,
    "jupyter": {
     "outputs_hidden": false
    },
    "pycharm": {
     "name": "#%%\n"
    }
   },
   "outputs": [],
   "source": [
    "import re\n",
    "\n",
    "import numpy as np\n",
    "import pandas as pd\n",
    "\n",
    "from pathlib import Path\n",
    "from datetime import datetime"
   ]
  },
  {
   "cell_type": "code",
   "execution_count": 2,
   "metadata": {},
   "outputs": [
    {
     "name": "stdout",
     "output_type": "stream",
     "text": [
      "Duration: 0:00:39.217373\n",
      "<class 'pandas.core.frame.DataFrame'>\n",
      "RangeIndex: 309806 entries, 0 to 309805\n",
      "Data columns (total 28 columns):\n",
      " #   Column                            Non-Null Count   Dtype  \n",
      "---  ------                            --------------   -----  \n",
      " 0   ACORDAO                           288120 non-null  object \n",
      " 1   ADVOGADO                          223477 non-null  object \n",
      " 2   ANOACORDAO                        309806 non-null  int64  \n",
      " 3   ASSUNTO                           77524 non-null   object \n",
      " 4   COLEGIADO                         309806 non-null  object \n",
      " 5   DATASESSAO                        308360 non-null  object \n",
      " 6   DECISAO                           19451 non-null   object \n",
      " 7   DECLARACAOVOTO                    3328 non-null    object \n",
      " 8   ENTIDADE                          253844 non-null  object \n",
      " 9   INTERESSADOS                      255674 non-null  object \n",
      " 10  MINISTROALEGOUIMPEDIMENTOSESSAO   5185 non-null    object \n",
      " 11  MINISTROAPRESENTOUDECLARACAOVOTO  744 non-null     object \n",
      " 12  MINISTROAUTORVOTOVENCEDOR         198161 non-null  object \n",
      " 13  MINISTROREVISOR                   4722 non-null    object \n",
      " 14  NUMACORDAO                        309806 non-null  object \n",
      " 15  NUMATA                            307239 non-null  object \n",
      " 16  PROC                              307121 non-null  object \n",
      " 17  RECURSOS                          6029 non-null    object \n",
      " 18  RELATOR                           307262 non-null  object \n",
      " 19  RELATORDELIBERACAORECORRIDA       0 non-null       float64\n",
      " 20  RELATORIO                         110737 non-null  object \n",
      " 21  REPRESENTANTEMP                   156269 non-null  object \n",
      " 22  SUMARIO                           115466 non-null  object \n",
      " 23  TIPOPROCESSO                      298928 non-null  object \n",
      " 24  UNIDADETECNICA                    245667 non-null  object \n",
      " 25  VOTO                              110475 non-null  object \n",
      " 26  VOTOCOMPLEMENTAR                  2517 non-null    object \n",
      " 27  VOTOMINISTROREVISOR               2925 non-null    object \n",
      "dtypes: float64(1), int64(1), object(26)\n",
      "memory usage: 66.2+ MB\n"
     ]
    }
   ],
   "source": [
    "# Carregar o dataframe df_acordaos\n",
    "start_time = datetime.now()\n",
    "df_acordaos = pd.read_csv('dados/acordaos.csv', sep=',', error_bad_lines=False, warn_bad_lines=False, low_memory=False)\n",
    "df_acordaos.rename(str.upper, axis='columns', inplace=True)\n",
    "print('Duration: {}'.format(datetime.now() - start_time))\n",
    "df_acordaos.info()"
   ]
  },
  {
   "cell_type": "code",
   "execution_count": 3,
   "metadata": {},
   "outputs": [
    {
     "name": "stdout",
     "output_type": "stream",
     "text": [
      "<class 'pandas.core.frame.DataFrame'>\n",
      "RangeIndex: 309806 entries, 0 to 309805\n",
      "Data columns (total 16 columns):\n",
      " #   Column               Non-Null Count   Dtype \n",
      "---  ------               --------------   ----- \n",
      " 0   ACORDAO              288120 non-null  object\n",
      " 1   ANO_ACORDAO          309806 non-null  int64 \n",
      " 2   ASSUNTO              77524 non-null   object\n",
      " 3   COLEGIADO            309806 non-null  object\n",
      " 4   DATA_SESSAO          308360 non-null  object\n",
      " 5   DECISAO              19451 non-null   object\n",
      " 6   NUMERO_ACORDAO       309806 non-null  object\n",
      " 7   NUMERO_ATA           307239 non-null  object\n",
      " 8   PROCESSO             307121 non-null  object\n",
      " 9   RELATOR              307262 non-null  object\n",
      " 10  RELATORIO            110737 non-null  object\n",
      " 11  SUMARIO              115466 non-null  object\n",
      " 12  TIPO_PROCESSO        298928 non-null  object\n",
      " 13  VOTO                 110475 non-null  object\n",
      " 14  VOTOCOMPLEMENTAR     2517 non-null    object\n",
      " 15  VOTOMINISTROREVISOR  2925 non-null    object\n",
      "dtypes: int64(1), object(15)\n",
      "memory usage: 37.8+ MB\n"
     ]
    }
   ],
   "source": [
    "df_acordaos.drop(['REPRESENTANTEMP', 'UNIDADETECNICA', 'UNIDADETECNICA', 'MINISTROREVISOR',\n",
    "                  'MINISTROAUTORVOTOVENCEDOR', 'MINISTROAPRESENTOUDECLARACAOVOTO',\n",
    "                 'MINISTROALEGOUIMPEDIMENTOSESSAO', 'INTERESSADOS', 'RECURSOS', 'ENTIDADE',\n",
    "                 'DECLARACAOVOTO', 'ADVOGADO', 'RELATORDELIBERACAORECORRIDA'], axis=1, inplace=True)\n",
    "\n",
    "df_acordaos.rename(columns={'ANOACORDAO':'ANO_ACORDAO', 'NUMACORDAO':'NUMERO_ACORDAO',\n",
    "                           'TIPOPROCESSO':'TIPO_PROCESSO', 'DATASESSAO':'DATA_SESSAO',\n",
    "                           'NUMATA':'NUMERO_ATA', 'PROC':'PROCESSO'}, inplace=True)\n",
    "\n",
    "df_acordaos.info()"
   ]
  },
  {
   "cell_type": "code",
   "execution_count": 4,
   "metadata": {},
   "outputs": [],
   "source": [
    "df_acordaos.insert(0, 'ID', range(1, len(df_acordaos)+1))\n",
    "# Transfora em string a coluna ID\n",
    "df_acordaos['ID'] = df_acordaos['ID'].map(str)\n",
    "df_acordaos['ANO_ACORDAO'] = df_acordaos['ANO_ACORDAO'].map(str)\n",
    "df_acordaos.insert(13, 'TIPO_DECISAO', np.NaN)"
   ]
  },
  {
   "cell_type": "code",
   "execution_count": 5,
   "metadata": {},
   "outputs": [],
   "source": [
    "# DE -> DECISAO = 19451 : 647 marcados como SIGILOSO por esse motivo não possui ACORDAO, VOTO, RELATORIO, SUMARIO\n",
    "df_acordaos.loc[(df_acordaos.DECISAO.notnull() == True) & ((df_acordaos.ACORDAO.isnull()==True) | (df_acordaos.ACORDAO.str.contains('SIGILOSO', na=False))), 'TIPO_DECISAO'] = 'DE'"
   ]
  },
  {
   "cell_type": "code",
   "execution_count": 6,
   "metadata": {},
   "outputs": [],
   "source": [
    "# AR -> ACORDAO DE RELACAO : 193963\n",
    "df_acordaos.loc[(df_acordaos.ACORDAO.notnull()) & (df_acordaos.DECISAO.isnull()) & (df_acordaos.RELATORIO.isnull()) & (df_acordaos.VOTO.isnull()), 'TIPO_DECISAO'] = 'AR'"
   ]
  },
  {
   "cell_type": "code",
   "execution_count": 7,
   "metadata": {},
   "outputs": [],
   "source": [
    "df_acordaos.loc[df_acordaos.TIPO_DECISAO.isna(), 'TIPO_DECISAO'] = 'AC'"
   ]
  },
  {
   "cell_type": "code",
   "execution_count": 8,
   "metadata": {},
   "outputs": [
    {
     "name": "stdout",
     "output_type": "stream",
     "text": [
      "<class 'pandas.core.frame.DataFrame'>\n",
      "RangeIndex: 309806 entries, 0 to 309805\n",
      "Data columns (total 18 columns):\n",
      " #   Column               Non-Null Count   Dtype \n",
      "---  ------               --------------   ----- \n",
      " 0   ID                   309806 non-null  object\n",
      " 1   ACORDAO              288120 non-null  object\n",
      " 2   ANO_ACORDAO          309806 non-null  object\n",
      " 3   ASSUNTO              77524 non-null   object\n",
      " 4   COLEGIADO            309806 non-null  object\n",
      " 5   DATA_SESSAO          308360 non-null  object\n",
      " 6   DECISAO              19451 non-null   object\n",
      " 7   NUMERO_ACORDAO       309806 non-null  object\n",
      " 8   NUMERO_ATA           307239 non-null  object\n",
      " 9   PROCESSO             307121 non-null  object\n",
      " 10  RELATOR              307262 non-null  object\n",
      " 11  RELATORIO            110737 non-null  object\n",
      " 12  SUMARIO              115466 non-null  object\n",
      " 13  TIPO_DECISAO         309806 non-null  object\n",
      " 14  TIPO_PROCESSO        298928 non-null  object\n",
      " 15  VOTO                 110475 non-null  object\n",
      " 16  VOTOCOMPLEMENTAR     2517 non-null    object\n",
      " 17  VOTOMINISTROREVISOR  2925 non-null    object\n",
      "dtypes: object(18)\n",
      "memory usage: 42.5+ MB\n"
     ]
    }
   ],
   "source": [
    "df_acordaos.info()"
   ]
  },
  {
   "cell_type": "code",
   "execution_count": 9,
   "metadata": {},
   "outputs": [],
   "source": [
    "def format_numero_acordao(valor):\n",
    "    string = re.sub(re.compile('\\D'), '', valor)\n",
    "    if len(string)>4:\n",
    "        return string[:-4]\n",
    "    else:\n",
    "        return string\n",
    "    \n",
    "    \n",
    "def extrairTipoSessao(texto):\n",
    "    if len(re.findall('PRIMEIRA', texto)) != 0:\n",
    "        return '1C'\n",
    "    elif len(re.findall('SEGUNDA', texto)) > 0:\n",
    "        return '2C'\n",
    "    else:\n",
    "        return 'PL'\n",
    "    \n",
    "    \n",
    "def criaChaveAcordao(row):\n",
    "\n",
    "    return row.TIPO_DECISAO + '-' + row.NUMERO_ACORDAO.zfill(6) + '-' + str(row.ANO_ACORDAO) + '-' + extrairTipoSessao(row.COLEGIADO.upper())"
   ]
  },
  {
   "cell_type": "code",
   "execution_count": 10,
   "metadata": {},
   "outputs": [],
   "source": [
    "df_acordaos.NUMERO_ACORDAO = df_acordaos.NUMERO_ACORDAO.apply(format_numero_acordao)"
   ]
  },
  {
   "cell_type": "code",
   "execution_count": 11,
   "metadata": {
    "collapsed": false,
    "jupyter": {
     "outputs_hidden": false
    },
    "pycharm": {
     "name": "#%%\n"
    }
   },
   "outputs": [
    {
     "name": "stdout",
     "output_type": "stream",
     "text": [
      "Duration: 0:00:07.705488\n"
     ]
    }
   ],
   "source": [
    "start_time = datetime.now()\n",
    "\n",
    "df_acordaos.ID = df_acordaos.apply(criaChaveAcordao, axis=1)\n",
    "\n",
    "print('Duration: {}'.format(datetime.now() - start_time))"
   ]
  },
  {
   "cell_type": "code",
   "execution_count": 12,
   "metadata": {},
   "outputs": [],
   "source": [
    "# 2871 registros com os campos, ACORDAO, DECISAO, VOTO e RELATORIO nulos simultaneamente e por isso excluídos\n",
    "df_acordaos.drop(df_acordaos.loc[(df_acordaos.ACORDAO.isnull()) & df_acordaos.DECISAO.isnull() & df_acordaos.RELATORIO.isnull() & df_acordaos.VOTO.isnull()].index, inplace=True)"
   ]
  },
  {
   "cell_type": "code",
   "execution_count": 13,
   "metadata": {},
   "outputs": [],
   "source": [
    "# Registros marcados como SILIGOSO e por esse motivo convertidos para NaN a fim de padronização\n",
    "df_acordaos.loc[(df_acordaos.ACORDAO.str.lower() == 'sigiloso'), 'ACORDAO'] = np.NaN\n",
    "df_acordaos.loc[(df_acordaos.DECISAO.str.lower() == 'sigiloso'), 'DECISAO'] = np.NaN\n",
    "df_acordaos.loc[(df_acordaos.RELATORIO.str.lower() == 'sigiloso'), 'RELATORIO'] = np.NaN\n",
    "df_acordaos.loc[(df_acordaos.VOTO.str.lower() == 'sigiloso'), 'VOTO'] = np.NaN"
   ]
  },
  {
   "cell_type": "code",
   "execution_count": 14,
   "metadata": {},
   "outputs": [],
   "source": [
    "df_acordaos.fillna('', inplace=True)"
   ]
  },
  {
   "cell_type": "code",
   "execution_count": 15,
   "metadata": {
    "collapsed": false,
    "jupyter": {
     "outputs_hidden": false
    },
    "pycharm": {
     "name": "#%%\n"
    }
   },
   "outputs": [],
   "source": [
    "df_acordaos['DECISAO'] = df_acordaos.ACORDAO + ' ' + df_acordaos.DECISAO + ' ' + df_acordaos.RELATORIO + ' ' + df_acordaos.VOTO + ' ' + df_acordaos.VOTOCOMPLEMENTAR + ' ' + df_acordaos.VOTOMINISTROREVISOR"
   ]
  },
  {
   "cell_type": "code",
   "execution_count": 16,
   "metadata": {
    "collapsed": false,
    "jupyter": {
     "outputs_hidden": false
    },
    "pycharm": {
     "name": "#%%\n"
    }
   },
   "outputs": [
    {
     "name": "stdout",
     "output_type": "stream",
     "text": [
      "<class 'pandas.core.frame.DataFrame'>\n",
      "Int64Index: 306935 entries, 0 to 309804\n",
      "Data columns (total 2 columns):\n",
      " #   Column   Non-Null Count   Dtype \n",
      "---  ------   --------------   ----- \n",
      " 0   ID       306935 non-null  object\n",
      " 1   DECISAO  306935 non-null  object\n",
      "dtypes: object(2)\n",
      "memory usage: 7.0+ MB\n"
     ]
    }
   ],
   "source": [
    "# Retira colunas que não interessam para o trabalho\n",
    "df_acordaos = df_acordaos.drop(['ANO_ACORDAO', 'ASSUNTO', 'COLEGIADO', 'DATA_SESSAO', 'NUMERO_ACORDAO', \n",
    "                                'NUMERO_ATA', 'PROCESSO', 'RELATOR', 'SUMARIO', 'TIPO_PROCESSO', 'ACORDAO', \n",
    "                                'VOTO', 'RELATORIO', 'VOTOCOMPLEMENTAR', 'VOTOMINISTROREVISOR', \n",
    "                                'TIPO_DECISAO'], axis=1)\n",
    "\n",
    "df_acordaos.info()"
   ]
  },
  {
   "cell_type": "code",
   "execution_count": 17,
   "metadata": {},
   "outputs": [
    {
     "data": {
      "text/html": [
       "<div>\n",
       "<style scoped>\n",
       "    .dataframe tbody tr th:only-of-type {\n",
       "        vertical-align: middle;\n",
       "    }\n",
       "\n",
       "    .dataframe tbody tr th {\n",
       "        vertical-align: top;\n",
       "    }\n",
       "\n",
       "    .dataframe thead th {\n",
       "        text-align: right;\n",
       "    }\n",
       "</style>\n",
       "<table border=\"1\" class=\"dataframe\">\n",
       "  <thead>\n",
       "    <tr style=\"text-align: right;\">\n",
       "      <th></th>\n",
       "      <th>ID</th>\n",
       "      <th>DECISAO</th>\n",
       "    </tr>\n",
       "  </thead>\n",
       "  <tbody>\n",
       "    <tr>\n",
       "      <th>249784</th>\n",
       "      <td>AC-008742-2016-2C</td>\n",
       "      <td>&lt;p class=\"tCU_-_Ac_-_item_9_-_§§\"&gt;VISTOS, rela...</td>\n",
       "    </tr>\n",
       "    <tr>\n",
       "      <th>107931</th>\n",
       "      <td>AR-002153-2009-2C</td>\n",
       "      <td>ACÓRDÃO Nº 2153/2009  - TCU - 2ª Câmara&lt;/b&gt;&lt;/p...</td>\n",
       "    </tr>\n",
       "  </tbody>\n",
       "</table>\n",
       "</div>"
      ],
      "text/plain": [
       "                       ID                                            DECISAO\n",
       "249784  AC-008742-2016-2C  <p class=\"tCU_-_Ac_-_item_9_-_§§\">VISTOS, rela...\n",
       "107931  AR-002153-2009-2C  ACÓRDÃO Nº 2153/2009  - TCU - 2ª Câmara</b></p..."
      ]
     },
     "execution_count": 17,
     "metadata": {},
     "output_type": "execute_result"
    }
   ],
   "source": [
    "df_acordaos.sample(2)"
   ]
  },
  {
   "cell_type": "code",
   "execution_count": 18,
   "metadata": {},
   "outputs": [],
   "source": [
    "df_acordaos.to_csv('dados/df_acordaos.csv', sep='|', index=False)"
   ]
  },
  {
   "cell_type": "code",
   "execution_count": null,
   "metadata": {},
   "outputs": [],
   "source": [
    "import os, signal\n",
    "os.kill(os.getpid(), signal.SIGKILL)"
   ]
  }
 ],
 "metadata": {
  "kernelspec": {
   "display_name": "Python 3",
   "language": "python",
   "name": "python3"
  },
  "language_info": {
   "codemirror_mode": {
    "name": "ipython",
    "version": 3
   },
   "file_extension": ".py",
   "mimetype": "text/x-python",
   "name": "python",
   "nbconvert_exporter": "python",
   "pygments_lexer": "ipython3",
   "version": "3.8.5"
  }
 },
 "nbformat": 4,
 "nbformat_minor": 4
}
