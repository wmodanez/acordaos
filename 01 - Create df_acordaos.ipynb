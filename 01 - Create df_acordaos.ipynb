{
 "cells": [
  {
   "cell_type": "code",
   "execution_count": 1,
   "metadata": {
    "collapsed": false,
    "jupyter": {
     "outputs_hidden": false
    },
    "pycharm": {
     "name": "#%%\n"
    }
   },
   "outputs": [],
   "source": [
    "import re, os, signal\n",
    "\n",
    "import numpy as np\n",
    "import pandas as pd\n",
    "import modanez_tools as mt\n",
    "\n",
    "from pathlib import Path\n",
    "from datetime import datetime"
   ]
  },
  {
   "cell_type": "code",
   "execution_count": 2,
   "metadata": {},
   "outputs": [
    {
     "name": "stdout",
     "output_type": "stream",
     "text": [
      "Duration: 0:00:38.898555\n",
      "<class 'pandas.core.frame.DataFrame'>\n",
      "RangeIndex: 309806 entries, 0 to 309805\n",
      "Data columns (total 30 columns):\n",
      " #   Column                            Non-Null Count   Dtype  \n",
      "---  ------                            --------------   -----  \n",
      " 0   ID                                309806 non-null  object \n",
      " 1   ACORDAO                           288120 non-null  object \n",
      " 2   ADVOGADO                          223477 non-null  object \n",
      " 3   ANOACORDAO                        309806 non-null  object \n",
      " 4   ASSUNTO                           77524 non-null   object \n",
      " 5   COLEGIADO                         309806 non-null  object \n",
      " 6   DATASESSAO                        308360 non-null  object \n",
      " 7   DECISAO                           19451 non-null   object \n",
      " 8   DECLARACAOVOTO                    3328 non-null    object \n",
      " 9   ENTIDADE                          253844 non-null  object \n",
      " 10  INTERESSADOS                      255674 non-null  object \n",
      " 11  MINISTROALEGOUIMPEDIMENTOSESSAO   5185 non-null    object \n",
      " 12  MINISTROAPRESENTOUDECLARACAOVOTO  744 non-null     object \n",
      " 13  TIPO_DECISAO                      0 non-null       float64\n",
      " 14  MINISTROAUTORVOTOVENCEDOR         198161 non-null  object \n",
      " 15  MINISTROREVISOR                   4722 non-null    object \n",
      " 16  NUMACORDAO                        309806 non-null  object \n",
      " 17  NUMATA                            307239 non-null  object \n",
      " 18  PROC                              307121 non-null  object \n",
      " 19  RECURSOS                          6029 non-null    object \n",
      " 20  RELATOR                           307262 non-null  object \n",
      " 21  RELATORDELIBERACAORECORRIDA       0 non-null       float64\n",
      " 22  RELATORIO                         110737 non-null  object \n",
      " 23  REPRESENTANTEMP                   156269 non-null  object \n",
      " 24  SUMARIO                           115466 non-null  object \n",
      " 25  TIPOPROCESSO                      298928 non-null  object \n",
      " 26  UNIDADETECNICA                    245667 non-null  object \n",
      " 27  VOTO                              110475 non-null  object \n",
      " 28  VOTOCOMPLEMENTAR                  2517 non-null    object \n",
      " 29  VOTOMINISTROREVISOR               2925 non-null    object \n",
      "dtypes: float64(2), object(28)\n",
      "memory usage: 70.9+ MB\n"
     ]
    }
   ],
   "source": [
    "# Carregar o dataframe df_acordaos\n",
    "start_time = datetime.now()\n",
    "\n",
    "df_acordaos = pd.read_csv('dados/acordaos.csv', sep=',', error_bad_lines=False, warn_bad_lines=False, low_memory=False)\n",
    "df_acordaos.rename(str.upper, axis='columns', inplace=True)\n",
    "\n",
    "df_acordaos.insert(0, 'ID', range(1, len(df_acordaos)+1))\n",
    "df_acordaos.ID = df_acordaos.ID.map(str)\n",
    "df_acordaos.ANOACORDAO = df_acordaos.ANOACORDAO.map(str)\n",
    "df_acordaos.insert(13, 'TIPO_DECISAO', np.NaN)\n",
    "\n",
    "print('Duration: {}'.format(datetime.now() - start_time))\n",
    "df_acordaos.info()"
   ]
  },
  {
   "cell_type": "code",
   "execution_count": 3,
   "metadata": {},
   "outputs": [
    {
     "name": "stdout",
     "output_type": "stream",
     "text": [
      "<class 'pandas.core.frame.DataFrame'>\n",
      "RangeIndex: 309806 entries, 0 to 309805\n",
      "Data columns (total 18 columns):\n",
      " #   Column               Non-Null Count   Dtype  \n",
      "---  ------               --------------   -----  \n",
      " 0   ID                   309806 non-null  object \n",
      " 1   ACORDAO              288120 non-null  object \n",
      " 2   ANO_ACORDAO          309806 non-null  object \n",
      " 3   ASSUNTO              77524 non-null   object \n",
      " 4   COLEGIADO            309806 non-null  object \n",
      " 5   DATA_SESSAO          308360 non-null  object \n",
      " 6   DECISAO              19451 non-null   object \n",
      " 7   TIPO_DECISAO         0 non-null       float64\n",
      " 8   NUMERO_ACORDAO       309806 non-null  object \n",
      " 9   NUMERO_ATA           307239 non-null  object \n",
      " 10  PROCESSO             307121 non-null  object \n",
      " 11  RELATOR              307262 non-null  object \n",
      " 12  RELATORIO            110737 non-null  object \n",
      " 13  SUMARIO              115466 non-null  object \n",
      " 14  TIPO_PROCESSO        298928 non-null  object \n",
      " 15  VOTO                 110475 non-null  object \n",
      " 16  VOTOCOMPLEMENTAR     2517 non-null    object \n",
      " 17  VOTOMINISTROREVISOR  2925 non-null    object \n",
      "dtypes: float64(1), object(17)\n",
      "memory usage: 42.5+ MB\n"
     ]
    }
   ],
   "source": [
    "df_acordaos.drop(['REPRESENTANTEMP', 'UNIDADETECNICA', 'UNIDADETECNICA', 'MINISTROREVISOR',\n",
    "                  'MINISTROAUTORVOTOVENCEDOR', 'MINISTROAPRESENTOUDECLARACAOVOTO',\n",
    "                 'MINISTROALEGOUIMPEDIMENTOSESSAO', 'INTERESSADOS', 'RECURSOS', 'ENTIDADE',\n",
    "                 'DECLARACAOVOTO', 'ADVOGADO', 'RELATORDELIBERACAORECORRIDA'], axis=1, inplace=True)\n",
    "\n",
    "df_acordaos.rename(columns={'ANOACORDAO':'ANO_ACORDAO', 'NUMACORDAO':'NUMERO_ACORDAO',\n",
    "                           'TIPOPROCESSO':'TIPO_PROCESSO', 'DATASESSAO':'DATA_SESSAO',\n",
    "                           'NUMATA':'NUMERO_ATA', 'PROC':'PROCESSO'}, inplace=True)\n",
    "\n",
    "df_acordaos.info()"
   ]
  },
  {
   "cell_type": "code",
   "execution_count": 4,
   "metadata": {},
   "outputs": [],
   "source": [
    "# DE -> DECISAO = 19451 : 647 marcados como SIGILOSO por esse motivo não possui ACORDAO, VOTO, RELATORIO, SUMARIO\n",
    "df_acordaos.loc[(df_acordaos.DECISAO.notnull() == True) & ((df_acordaos.ACORDAO.isnull()==True) | (df_acordaos.ACORDAO.str.contains('SIGILOSO', na=False))), 'TIPO_DECISAO'] = 'DE'"
   ]
  },
  {
   "cell_type": "code",
   "execution_count": 5,
   "metadata": {},
   "outputs": [],
   "source": [
    "# AR -> ACORDAO DE RELACAO : 193963\n",
    "df_acordaos.loc[(df_acordaos.ACORDAO.notnull()) & (df_acordaos.DECISAO.isnull()) & (df_acordaos.RELATORIO.isnull()) & (df_acordaos.VOTO.isnull()), 'TIPO_DECISAO'] = 'AR'"
   ]
  },
  {
   "cell_type": "code",
   "execution_count": 6,
   "metadata": {},
   "outputs": [],
   "source": [
    "df_acordaos.loc[df_acordaos.TIPO_DECISAO.isna(), 'TIPO_DECISAO'] = 'AC'"
   ]
  },
  {
   "cell_type": "code",
   "execution_count": 7,
   "metadata": {},
   "outputs": [
    {
     "name": "stdout",
     "output_type": "stream",
     "text": [
      "<class 'pandas.core.frame.DataFrame'>\n",
      "RangeIndex: 309806 entries, 0 to 309805\n",
      "Data columns (total 18 columns):\n",
      " #   Column               Non-Null Count   Dtype \n",
      "---  ------               --------------   ----- \n",
      " 0   ID                   309806 non-null  object\n",
      " 1   ACORDAO              288120 non-null  object\n",
      " 2   ANO_ACORDAO          309806 non-null  object\n",
      " 3   ASSUNTO              77524 non-null   object\n",
      " 4   COLEGIADO            309806 non-null  object\n",
      " 5   DATA_SESSAO          308360 non-null  object\n",
      " 6   DECISAO              19451 non-null   object\n",
      " 7   TIPO_DECISAO         309806 non-null  object\n",
      " 8   NUMERO_ACORDAO       309806 non-null  object\n",
      " 9   NUMERO_ATA           307239 non-null  object\n",
      " 10  PROCESSO             307121 non-null  object\n",
      " 11  RELATOR              307262 non-null  object\n",
      " 12  RELATORIO            110737 non-null  object\n",
      " 13  SUMARIO              115466 non-null  object\n",
      " 14  TIPO_PROCESSO        298928 non-null  object\n",
      " 15  VOTO                 110475 non-null  object\n",
      " 16  VOTOCOMPLEMENTAR     2517 non-null    object\n",
      " 17  VOTOMINISTROREVISOR  2925 non-null    object\n",
      "dtypes: object(18)\n",
      "memory usage: 42.5+ MB\n"
     ]
    }
   ],
   "source": [
    "df_acordaos.info()"
   ]
  },
  {
   "cell_type": "code",
   "execution_count": 8,
   "metadata": {},
   "outputs": [],
   "source": [
    "df_acordaos.NUMERO_ACORDAO = df_acordaos.NUMERO_ACORDAO.apply(mt.format_numero_acordao)"
   ]
  },
  {
   "cell_type": "code",
   "execution_count": 9,
   "metadata": {
    "collapsed": false,
    "jupyter": {
     "outputs_hidden": false
    },
    "pycharm": {
     "name": "#%%\n"
    }
   },
   "outputs": [
    {
     "name": "stdout",
     "output_type": "stream",
     "text": [
      "Duration: 0:00:07.378633\n"
     ]
    }
   ],
   "source": [
    "start_time = datetime.now()\n",
    "\n",
    "df_acordaos.ID = df_acordaos.apply(mt.criaChaveAcordao, axis=1)\n",
    "\n",
    "print('Duration: {}'.format(datetime.now() - start_time))"
   ]
  },
  {
   "cell_type": "code",
   "execution_count": 10,
   "metadata": {},
   "outputs": [],
   "source": [
    "# 2871 registros com os campos, ACORDAO, DECISAO, VOTO e RELATORIO nulos simultaneamente e por isso excluídos\n",
    "df_acordaos.drop(df_acordaos.loc[(df_acordaos.ACORDAO.isnull()) & df_acordaos.DECISAO.isnull() & df_acordaos.RELATORIO.isnull() & df_acordaos.VOTO.isnull()].index, inplace=True)"
   ]
  },
  {
   "cell_type": "code",
   "execution_count": 11,
   "metadata": {},
   "outputs": [],
   "source": [
    "# Registros marcados como SILIGOSO e por esse motivo convertidos para NaN a fim de padronização\n",
    "df_acordaos.loc[(df_acordaos.ACORDAO.str.lower() == 'sigiloso'), 'ACORDAO'] = np.NaN\n",
    "df_acordaos.loc[(df_acordaos.DECISAO.str.lower() == 'sigiloso'), 'DECISAO'] = np.NaN\n",
    "df_acordaos.loc[(df_acordaos.RELATORIO.str.lower() == 'sigiloso'), 'RELATORIO'] = np.NaN\n",
    "df_acordaos.loc[(df_acordaos.VOTO.str.lower() == 'sigiloso'), 'VOTO'] = np.NaN"
   ]
  },
  {
   "cell_type": "code",
   "execution_count": 12,
   "metadata": {},
   "outputs": [],
   "source": [
    "df_acordaos.fillna('', inplace=True)"
   ]
  },
  {
   "cell_type": "code",
   "execution_count": 13,
   "metadata": {
    "collapsed": false,
    "jupyter": {
     "outputs_hidden": false
    },
    "pycharm": {
     "name": "#%%\n"
    }
   },
   "outputs": [],
   "source": [
    "df_acordaos['DECISAO'] = df_acordaos.ACORDAO + ' ' + df_acordaos.DECISAO + ' ' + df_acordaos.RELATORIO + ' ' + df_acordaos.VOTO + ' ' + df_acordaos.VOTOCOMPLEMENTAR + ' ' + df_acordaos.VOTOMINISTROREVISOR"
   ]
  },
  {
   "cell_type": "code",
   "execution_count": 14,
   "metadata": {
    "collapsed": false,
    "jupyter": {
     "outputs_hidden": false
    },
    "pycharm": {
     "name": "#%%\n"
    }
   },
   "outputs": [
    {
     "name": "stdout",
     "output_type": "stream",
     "text": [
      "<class 'pandas.core.frame.DataFrame'>\n",
      "Int64Index: 306935 entries, 0 to 309804\n",
      "Data columns (total 2 columns):\n",
      " #   Column   Non-Null Count   Dtype \n",
      "---  ------   --------------   ----- \n",
      " 0   ID       306935 non-null  object\n",
      " 1   DECISAO  306935 non-null  object\n",
      "dtypes: object(2)\n",
      "memory usage: 7.0+ MB\n"
     ]
    }
   ],
   "source": [
    "# Retira colunas que não interessam para o trabalho\n",
    "df_acordaos = df_acordaos.drop(['ANO_ACORDAO', 'ASSUNTO', 'COLEGIADO', 'DATA_SESSAO', 'NUMERO_ACORDAO', \n",
    "                                'NUMERO_ATA', 'PROCESSO', 'RELATOR', 'SUMARIO', 'TIPO_PROCESSO', 'ACORDAO', \n",
    "                                'VOTO', 'RELATORIO', 'VOTOCOMPLEMENTAR', 'VOTOMINISTROREVISOR', \n",
    "                                'TIPO_DECISAO'], axis=1)\n",
    "\n",
    "df_acordaos.info()"
   ]
  },
  {
   "cell_type": "code",
   "execution_count": 15,
   "metadata": {},
   "outputs": [
    {
     "data": {
      "text/html": [
       "<div>\n",
       "<style scoped>\n",
       "    .dataframe tbody tr th:only-of-type {\n",
       "        vertical-align: middle;\n",
       "    }\n",
       "\n",
       "    .dataframe tbody tr th {\n",
       "        vertical-align: top;\n",
       "    }\n",
       "\n",
       "    .dataframe thead th {\n",
       "        text-align: right;\n",
       "    }\n",
       "</style>\n",
       "<table border=\"1\" class=\"dataframe\">\n",
       "  <thead>\n",
       "    <tr style=\"text-align: right;\">\n",
       "      <th></th>\n",
       "      <th>ID</th>\n",
       "      <th>DECISAO</th>\n",
       "    </tr>\n",
       "  </thead>\n",
       "  <tbody>\n",
       "    <tr>\n",
       "      <th>301355</th>\n",
       "      <td>AC-003468-2018-2C</td>\n",
       "      <td>&lt;p&gt;\\tVISTOS, relatados e discutidos estes auto...</td>\n",
       "    </tr>\n",
       "    <tr>\n",
       "      <th>281945</th>\n",
       "      <td>AC-004217-2017-2C</td>\n",
       "      <td>&lt;p&gt;VISTOS, relatados e discutidos estes autos ...</td>\n",
       "    </tr>\n",
       "  </tbody>\n",
       "</table>\n",
       "</div>"
      ],
      "text/plain": [
       "                       ID                                            DECISAO\n",
       "301355  AC-003468-2018-2C  <p>\\tVISTOS, relatados e discutidos estes auto...\n",
       "281945  AC-004217-2017-2C  <p>VISTOS, relatados e discutidos estes autos ..."
      ]
     },
     "execution_count": 15,
     "metadata": {},
     "output_type": "execute_result"
    }
   ],
   "source": [
    "df_acordaos.sample(2)"
   ]
  },
  {
   "cell_type": "code",
   "execution_count": 16,
   "metadata": {},
   "outputs": [
    {
     "data": {
      "text/html": [
       "<div>\n",
       "<style scoped>\n",
       "    .dataframe tbody tr th:only-of-type {\n",
       "        vertical-align: middle;\n",
       "    }\n",
       "\n",
       "    .dataframe tbody tr th {\n",
       "        vertical-align: top;\n",
       "    }\n",
       "\n",
       "    .dataframe thead th {\n",
       "        text-align: right;\n",
       "    }\n",
       "</style>\n",
       "<table border=\"1\" class=\"dataframe\">\n",
       "  <thead>\n",
       "    <tr style=\"text-align: right;\">\n",
       "      <th></th>\n",
       "      <th>ID</th>\n",
       "      <th>DECISAO</th>\n",
       "    </tr>\n",
       "  </thead>\n",
       "  <tbody>\n",
       "    <tr>\n",
       "      <th>309800</th>\n",
       "      <td>AC-000058-2018-PL</td>\n",
       "      <td>&lt;p class=\"tCU_-_Ac_-_item_9_-_§§_1\"&gt;Vistos, re...</td>\n",
       "    </tr>\n",
       "    <tr>\n",
       "      <th>309801</th>\n",
       "      <td>AC-000031-2018-PL</td>\n",
       "      <td>&lt;p class=\"normal_1\"&gt;VISTOS, relatados e discut...</td>\n",
       "    </tr>\n",
       "    <tr>\n",
       "      <th>309802</th>\n",
       "      <td>AC-000033-2018-PL</td>\n",
       "      <td>&lt;p class=\"normal_1\"&gt;VISTOS, relatados e discut...</td>\n",
       "    </tr>\n",
       "    <tr>\n",
       "      <th>309803</th>\n",
       "      <td>AC-000030-2018-PL</td>\n",
       "      <td>&lt;p class=\"normal_1\"&gt;VISTOS, relatados e discut...</td>\n",
       "    </tr>\n",
       "    <tr>\n",
       "      <th>309804</th>\n",
       "      <td>AR-000061-2018-PL</td>\n",
       "      <td>Documento classificado como sigiloso com funda...</td>\n",
       "    </tr>\n",
       "  </tbody>\n",
       "</table>\n",
       "</div>"
      ],
      "text/plain": [
       "                       ID                                            DECISAO\n",
       "309800  AC-000058-2018-PL  <p class=\"tCU_-_Ac_-_item_9_-_§§_1\">Vistos, re...\n",
       "309801  AC-000031-2018-PL  <p class=\"normal_1\">VISTOS, relatados e discut...\n",
       "309802  AC-000033-2018-PL  <p class=\"normal_1\">VISTOS, relatados e discut...\n",
       "309803  AC-000030-2018-PL  <p class=\"normal_1\">VISTOS, relatados e discut...\n",
       "309804  AR-000061-2018-PL  Documento classificado como sigiloso com funda..."
      ]
     },
     "execution_count": 16,
     "metadata": {},
     "output_type": "execute_result"
    }
   ],
   "source": [
    "df_acordaos.tail(5)"
   ]
  },
  {
   "cell_type": "code",
   "execution_count": 17,
   "metadata": {},
   "outputs": [],
   "source": [
    "for path in Path('dados/').rglob('**/*.txt'):\n",
    "    texto = ''\n",
    "    with path.open() as f:\n",
    "        texto += f.read()   \n",
    "    if df_acordaos.ID.str.contains(path.stem).any() == False :\n",
    "        df_acordaos = df_acordaos.append({'ID': path.stem, 'DECISAO': texto}, ignore_index=True)"
   ]
  },
  {
   "cell_type": "code",
   "execution_count": 18,
   "metadata": {},
   "outputs": [
    {
     "data": {
      "text/html": [
       "<div>\n",
       "<style scoped>\n",
       "    .dataframe tbody tr th:only-of-type {\n",
       "        vertical-align: middle;\n",
       "    }\n",
       "\n",
       "    .dataframe tbody tr th {\n",
       "        vertical-align: top;\n",
       "    }\n",
       "\n",
       "    .dataframe thead th {\n",
       "        text-align: right;\n",
       "    }\n",
       "</style>\n",
       "<table border=\"1\" class=\"dataframe\">\n",
       "  <thead>\n",
       "    <tr style=\"text-align: right;\">\n",
       "      <th></th>\n",
       "      <th>ID</th>\n",
       "      <th>DECISAO</th>\n",
       "    </tr>\n",
       "  </thead>\n",
       "  <tbody>\n",
       "    <tr>\n",
       "      <th>306980</th>\n",
       "      <td>AC-002740-2018-PL</td>\n",
       "      <td>Relatório\\nAdoto, como Relatório, a instrução ...</td>\n",
       "    </tr>\n",
       "    <tr>\n",
       "      <th>306981</th>\n",
       "      <td>AC-002939-2018-PL</td>\n",
       "      <td>Relatório\\nTrata-se de representação apresenta...</td>\n",
       "    </tr>\n",
       "    <tr>\n",
       "      <th>306982</th>\n",
       "      <td>AC-002743-2018-PL</td>\n",
       "      <td>Relatório\\nTrata-se de apartado da auditoria d...</td>\n",
       "    </tr>\n",
       "    <tr>\n",
       "      <th>306983</th>\n",
       "      <td>AR-002346-2018-PL</td>\n",
       "      <td>Acórdão\\nACÓRDÃO Nº 2346/2018 - TCU - Plenário...</td>\n",
       "    </tr>\n",
       "    <tr>\n",
       "      <th>306984</th>\n",
       "      <td>AC-012879-2018-1C</td>\n",
       "      <td>Relatório\\nAdoto, como relatório, a instrução ...</td>\n",
       "    </tr>\n",
       "  </tbody>\n",
       "</table>\n",
       "</div>"
      ],
      "text/plain": [
       "                       ID                                            DECISAO\n",
       "306980  AC-002740-2018-PL  Relatório\\nAdoto, como Relatório, a instrução ...\n",
       "306981  AC-002939-2018-PL  Relatório\\nTrata-se de representação apresenta...\n",
       "306982  AC-002743-2018-PL  Relatório\\nTrata-se de apartado da auditoria d...\n",
       "306983  AR-002346-2018-PL  Acórdão\\nACÓRDÃO Nº 2346/2018 - TCU - Plenário...\n",
       "306984  AC-012879-2018-1C  Relatório\\nAdoto, como relatório, a instrução ..."
      ]
     },
     "execution_count": 18,
     "metadata": {},
     "output_type": "execute_result"
    }
   ],
   "source": [
    "df_acordaos.tail(5)"
   ]
  },
  {
   "cell_type": "code",
   "execution_count": null,
   "metadata": {},
   "outputs": [
    {
     "name": "stdout",
     "output_type": "stream",
     "text": [
      "Duration: 0:01:09.769327\n"
     ]
    }
   ],
   "source": [
    "mt.save_file(df_acordaos, 'dados/df_acordaos.csv')"
   ]
  },
  {
   "cell_type": "code",
   "execution_count": null,
   "metadata": {},
   "outputs": [],
   "source": [
    "os.kill(os.getpid(), signal.SIGKILL)"
   ]
  }
 ],
 "metadata": {
  "kernelspec": {
   "display_name": "Python 3",
   "language": "python",
   "name": "python3"
  },
  "language_info": {
   "codemirror_mode": {
    "name": "ipython",
    "version": 3
   },
   "file_extension": ".py",
   "mimetype": "text/x-python",
   "name": "python",
   "nbconvert_exporter": "python",
   "pygments_lexer": "ipython3",
   "version": "3.8.5"
  }
 },
 "nbformat": 4,
 "nbformat_minor": 4
}
