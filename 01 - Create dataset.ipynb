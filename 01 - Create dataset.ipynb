{
 "cells": [
  {
   "cell_type": "code",
   "execution_count": 1,
   "metadata": {},
   "outputs": [],
   "source": [
    "import sqlite3\n",
    "import zipfile\n",
    "\n",
    "import pandas as pd\n",
    "\n",
    "from datetime import datetime\n",
    "from tools import criaChaveAcordaoPrincipal"
   ]
  },
  {
   "cell_type": "markdown",
   "metadata": {},
   "source": [
    "## Conhecer a base de dados dos acórdãos do TCU"
   ]
  },
  {
   "cell_type": "markdown",
   "metadata": {},
   "source": [
    "A base de dados dos acórdãos do TCU foi disponibilizada para download público na plataforma Kaggle. Os dados dizem respeito aos acórdãos proferidos pelo TCU entre os anos de 1992 até 30/08/2019.\n",
    "Acesse o endereço <https://www.kaggle.com/ferraz/acordaos-tcu> e baixe o arquivo no link Download (4GB) e salve na pasta '/dados'.\n",
    "github: <https://github.com/netoferraz/acordaos-tcu>"
   ]
  },
  {
   "cell_type": "code",
   "execution_count": 3,
   "metadata": {},
   "outputs": [],
   "source": [
    "# with zipfile.ZipFile('dados/330881_660826_bundle_archive.zip', 'r') as zip_ref:\n",
    "#     zip_ref.extractall()"
   ]
  },
  {
   "cell_type": "code",
   "execution_count": 6,
   "metadata": {},
   "outputs": [],
   "source": [
    "# Cria conexão com a base de datos sqlite\n",
    "conn = sql ite3.connect('dados/tcu-acordaos.db')"
   ]
  },
  {
   "cell_type": "code",
   "execution_count": 5,
   "metadata": {},
   "outputs": [],
   "source": [
    "# Cria o dataframe df_acordaos\n",
    "df_acordaos = pd.read_sql_query('SELECT * from acordaos', conn)"
   ]
  },
  {
   "cell_type": "code",
   "execution_count": 7,
   "metadata": {
    "tags": []
   },
   "outputs": [
    {
     "name": "stdout",
     "output_type": "stream",
     "text": [
      "(298942, 20) \n",
      "\n",
      "Index(['id', 'urn', 'ano_acordao', 'numero_acordao', 'relator', 'processo',\n",
      "       'tipo_processo', 'data_sessao', 'numero_ata',\n",
      "       'interessado_reponsavel_recorrente', 'entidade', 'representante_mp',\n",
      "       'unidade_tecnica', 'repr_legal', 'assunto', 'sumario', 'acordao',\n",
      "       'quorum', 'relatorio', 'voto'],\n",
      "      dtype='object') \n",
      "\n",
      "<class 'pandas.core.frame.DataFrame'>\n",
      "RangeIndex: 298942 entries, 0 to 298941\n",
      "Data columns (total 20 columns):\n",
      " #   Column                             Non-Null Count   Dtype \n",
      "---  ------                             --------------   ----- \n",
      " 0   id                                 298942 non-null  int64 \n",
      " 1   urn                                298942 non-null  object\n",
      " 2   ano_acordao                        298942 non-null  int64 \n",
      " 3   numero_acordao                     298123 non-null  object\n",
      " 4   relator                            298470 non-null  object\n",
      " 5   processo                           298562 non-null  object\n",
      " 6   tipo_processo                      298470 non-null  object\n",
      " 7   data_sessao                        298562 non-null  object\n",
      " 8   numero_ata                         298470 non-null  object\n",
      " 9   interessado_reponsavel_recorrente  297679 non-null  object\n",
      " 10  entidade                           297777 non-null  object\n",
      " 11  representante_mp                   297854 non-null  object\n",
      " 12  unidade_tecnica                    298138 non-null  object\n",
      " 13  repr_legal                         298285 non-null  object\n",
      " 14  assunto                            266551 non-null  object\n",
      " 15  sumario                            269290 non-null  object\n",
      " 16  acordao                            298447 non-null  object\n",
      " 17  quorum                             269543 non-null  object\n",
      " 18  relatorio                          269199 non-null  object\n",
      " 19  voto                               269199 non-null  object\n",
      "dtypes: int64(2), object(18)\n",
      "memory usage: 45.6+ MB\n",
      "None \n",
      "\n"
     ]
    }
   ],
   "source": [
    "print(df_acordaos.shape, '\\n')\n",
    "\n",
    "# Mostra as colunas da base\n",
    "print(df_acordaos.columns, '\\n')\n",
    "\n",
    "print(df_acordaos.info(), '\\n')"
   ]
  },
  {
   "cell_type": "code",
   "execution_count": 8,
   "metadata": {},
   "outputs": [],
   "source": [
    "# Transfora em string as colunas ano_acordao\n",
    "df_acordaos['ano_acordao'] = df_acordaos['ano_acordao'].map(str)"
   ]
  },
  {
   "cell_type": "code",
   "execution_count": 9,
   "metadata": {},
   "outputs": [],
   "source": [
    "# Retira colunas que não interessam para o trabalho\n",
    "df_acordaos = df_acordaos.drop(['representante_mp', 'assunto', 'unidade_tecnica', 'repr_legal', 'quorum',\n",
    "                               'interessado_reponsavel_recorrente'], axis=1)"
   ]
  },
  {
   "cell_type": "code",
   "execution_count": 10,
   "metadata": {
    "tags": []
   },
   "outputs": [
    {
     "name": "stdout",
     "output_type": "stream",
     "text": [
      "<class 'pandas.core.frame.DataFrame'>\n",
      "RangeIndex: 298942 entries, 0 to 298941\n",
      "Data columns (total 14 columns):\n",
      " #   Column          Non-Null Count   Dtype \n",
      "---  ------          --------------   ----- \n",
      " 0   ID              298942 non-null  int64 \n",
      " 1   URN             298942 non-null  object\n",
      " 2   ANO_ACORDAO     298942 non-null  object\n",
      " 3   NUMERO_ACORDAO  298123 non-null  object\n",
      " 4   RELATOR         298470 non-null  object\n",
      " 5   PROCESSO        298562 non-null  object\n",
      " 6   TIPO_PROCESSO   298470 non-null  object\n",
      " 7   DATA_SESSAO     298562 non-null  object\n",
      " 8   NUMERO_ATA      298470 non-null  object\n",
      " 9   ENTIDADE        297777 non-null  object\n",
      " 10  SUMARIO         269290 non-null  object\n",
      " 11  ACORDAO         298447 non-null  object\n",
      " 12  RELATORIO       269199 non-null  object\n",
      " 13  VOTO            269199 non-null  object\n",
      "dtypes: int64(1), object(13)\n",
      "memory usage: 31.9+ MB\n"
     ]
    }
   ],
   "source": [
    "df_acordaos.rename(str.upper, axis='columns', inplace=True)\n",
    "df_acordaos.info()"
   ]
  },
  {
   "cell_type": "code",
   "execution_count": 11,
   "metadata": {
    "tags": []
   },
   "outputs": [
    {
     "name": "stdout",
     "output_type": "stream",
     "text": [
      "Qtde de acordãos sem número de processo:  380\n",
      "Qtde de acordãos com tipo de processo SIGILOSO:  5201\n",
      "Qtde de acordãos com acordao SIGILOSO:  1787\n",
      "Qtde de acordãos com voto SIGILOSO:  2597\n",
      "Qtde de acordãos com entidade SIGILOSO:  5542\n",
      "Qtde de acordãos com Número de Acórdão não utilizado:  92\n"
     ]
    }
   ],
   "source": [
    "print('Qtde de acordãos sem número de processo: ', df_acordaos[df_acordaos.PROCESSO.isnull()].shape[0])\n",
    "print('Qtde de acordãos com tipo de processo SIGILOSO: ', df_acordaos[(df_acordaos.TIPO_PROCESSO == 'SIGILOSO')].shape[0])\n",
    "print('Qtde de acordãos com acordao SIGILOSO: ', df_acordaos[(df_acordaos.ACORDAO == 'SIGILOSO') | (df_acordaos.ACORDAO == 'None')].shape[0])\n",
    "print('Qtde de acordãos com voto SIGILOSO: ', df_acordaos[(df_acordaos.VOTO == 'SIGILOSO')  | (df_acordaos.VOTO == 'None')].shape[0])\n",
    "print('Qtde de acordãos com entidade SIGILOSO: ', df_acordaos[(df_acordaos.ENTIDADE == 'SIGILOSO')  | (df_acordaos.ENTIDADE == 'None')].shape[0])\n",
    "print('Qtde de acordãos com Número de Acórdão não utilizado: ', df_acordaos[df_acordaos.SUMARIO == 'Número de Acórdão não utilizado'].shape[0])"
   ]
  },
  {
   "cell_type": "code",
   "execution_count": 12,
   "metadata": {},
   "outputs": [
    {
     "data": {
      "text/plain": [
       "5630"
      ]
     },
     "execution_count": 12,
     "metadata": {},
     "output_type": "execute_result"
    }
   ],
   "source": [
    "df_acordaos[(df_acordaos['ENTIDADE'] == 'SIGILOSO') | (df_acordaos['TIPO_PROCESSO'].str.upper == 'SIGILOGO')\n",
    "       | (df_acordaos['SUMARIO'].str.upper == 'SIGILOGO')\n",
    "       | (df_acordaos['ACORDAO'].str.upper == 'SIGILOGO')\n",
    "       | (df_acordaos['RELATORIO'].str.upper == 'SIGILOGO')\n",
    "       | (df_acordaos['ENTIDADE'].str.upper == 'SIGILOGO')\n",
    "       | (df_acordaos['VOTO'].str.upper == 'SIGILOGO')\n",
    "        | (df_acordaos.SUMARIO == 'Número de Acórdão não utilizado')].shape[0]"
   ]
  },
  {
   "cell_type": "code",
   "execution_count": 13,
   "metadata": {
    "tags": []
   },
   "outputs": [
    {
     "name": "stdout",
     "output_type": "stream",
     "text": [
      "298562\n",
      "293361\n",
      "293087\n",
      "292277\n",
      "292207\n",
      "292115\n"
     ]
    }
   ],
   "source": [
    "df_acordaos = df_acordaos[df_acordaos.PROCESSO.notnull()]\n",
    "print(df_acordaos.shape[0])\n",
    "df_acordaos = df_acordaos.drop(df_acordaos.index[df_acordaos['TIPO_PROCESSO'] =='SIGILOSO'])\n",
    "print(df_acordaos.shape[0])\n",
    "df_acordaos = df_acordaos.drop(df_acordaos.index[(df_acordaos['ACORDAO'] == 'SIGILOSO') | (df_acordaos['ACORDAO'] == 'None')])\n",
    "print(df_acordaos.shape[0])\n",
    "df_acordaos = df_acordaos.drop(df_acordaos.index[(df_acordaos['VOTO'] == 'SIGILOSO') | (df_acordaos['VOTO'] == 'None')])\n",
    "print(df_acordaos.shape[0])\n",
    "df_acordaos = df_acordaos.drop(df_acordaos.index[(df_acordaos['ENTIDADE'] == 'SIGILOSO') | (df_acordaos['ENTIDADE'] == 'None')])\n",
    "print(df_acordaos.shape[0])\n",
    "df_acordaos = df_acordaos.drop(df_acordaos.index[(df_acordaos['SUMARIO'] == 'Número de Acórdão não utilizado')])\n",
    "print(df_acordaos.shape[0])"
   ]
  },
  {
   "cell_type": "code",
   "execution_count": 14,
   "metadata": {
    "tags": []
   },
   "outputs": [
    {
     "name": "stdout",
     "output_type": "stream",
     "text": [
      "Qtde de acordãos sem número de processo:  0\n",
      "Qtde de acordãos com tipo de processo SIGILOSO:  0\n",
      "Qtde de acordãos com acordao SIGILOSO:  0\n",
      "Qtde de acordãos com voto SIGILOSO:  0\n",
      "Qtde de acordãos com entidade SIGILOSO:  0\n",
      "Qtde de acordãos com Número de Acórdão não utilizado:  0\n"
     ]
    }
   ],
   "source": [
    "print('Qtde de acordãos sem número de processo: ', df_acordaos[df_acordaos.PROCESSO.isnull()].shape[0])\n",
    "print('Qtde de acordãos com tipo de processo SIGILOSO: ', df_acordaos[(df_acordaos.TIPO_PROCESSO == 'SIGILOSO')].shape[0])\n",
    "print('Qtde de acordãos com acordao SIGILOSO: ', df_acordaos[(df_acordaos.ACORDAO == 'SIGILOSO') | (df_acordaos.ACORDAO == 'None')].shape[0])\n",
    "print('Qtde de acordãos com voto SIGILOSO: ', df_acordaos[(df_acordaos.VOTO == 'SIGILOSO')  | (df_acordaos.VOTO == 'None')].shape[0])\n",
    "print('Qtde de acordãos com entidade SIGILOSO: ', df_acordaos[(df_acordaos.ENTIDADE == 'SIGILOSO')  | (df_acordaos.ENTIDADE == 'None')].shape[0])\n",
    "print('Qtde de acordãos com Número de Acórdão não utilizado: ', df_acordaos[df_acordaos.SUMARIO == 'Número de Acórdão não utilizado'].shape[0])"
   ]
  },
  {
   "cell_type": "code",
   "execution_count": 15,
   "metadata": {},
   "outputs": [
    {
     "data": {
      "text/plain": [
       "0"
      ]
     },
     "execution_count": 15,
     "metadata": {},
     "output_type": "execute_result"
    }
   ],
   "source": [
    "df_acordaos[(df_acordaos['ENTIDADE'] == 'SIGILOSO') | (df_acordaos['TIPO_PROCESSO'].str.upper == 'SIGILOGO')\n",
    "       | (df_acordaos['SUMARIO'].str.upper == 'SIGILOGO')\n",
    "       | (df_acordaos['ACORDAO'].str.upper == 'SIGILOGO')\n",
    "       | (df_acordaos['RELATORIO'].str.upper == 'SIGILOGO')\n",
    "       | (df_acordaos['ENTIDADE'].str.upper == 'SIGILOGO')\n",
    "       | (df_acordaos['VOTO'].str.upper == 'SIGILOGO')\n",
    "        | (df_acordaos.SUMARIO == 'Número de Acórdão não utilizado')].shape[0]"
   ]
  },
  {
   "cell_type": "code",
   "execution_count": 16,
   "metadata": {},
   "outputs": [
    {
     "data": {
      "text/html": [
       "<div>\n",
       "<style scoped>\n",
       "    .dataframe tbody tr th:only-of-type {\n",
       "        vertical-align: middle;\n",
       "    }\n",
       "\n",
       "    .dataframe tbody tr th {\n",
       "        vertical-align: top;\n",
       "    }\n",
       "\n",
       "    .dataframe thead th {\n",
       "        text-align: right;\n",
       "    }\n",
       "</style>\n",
       "<table border=\"1\" class=\"dataframe\">\n",
       "  <thead>\n",
       "    <tr style=\"text-align: right;\">\n",
       "      <th></th>\n",
       "      <th>ID</th>\n",
       "      <th>URN</th>\n",
       "      <th>ANO_ACORDAO</th>\n",
       "      <th>NUMERO_ACORDAO</th>\n",
       "      <th>RELATOR</th>\n",
       "      <th>PROCESSO</th>\n",
       "      <th>TIPO_PROCESSO</th>\n",
       "      <th>DATA_SESSAO</th>\n",
       "      <th>NUMERO_ATA</th>\n",
       "      <th>ENTIDADE</th>\n",
       "      <th>SUMARIO</th>\n",
       "      <th>ACORDAO</th>\n",
       "      <th>RELATORIO</th>\n",
       "      <th>VOTO</th>\n",
       "    </tr>\n",
       "  </thead>\n",
       "  <tbody>\n",
       "    <tr>\n",
       "      <th>294848</th>\n",
       "      <td>294849</td>\n",
       "      <td>NA</td>\n",
       "      <td>2019</td>\n",
       "      <td>2011</td>\n",
       "      <td>AROLDO CEDRAZ</td>\n",
       "      <td>017.162/2007-1</td>\n",
       "      <td>Tomada de contas especial instaurada em razão ...</td>\n",
       "      <td>28/08/2019</td>\n",
       "      <td>33/2019-Plenário</td>\n",
       "      <td>Associação dos Irrigantes da Barragem de Terra...</td>\n",
       "      <td>TOMADA DE CONTAS ESPECIAL. NÃO COMPROVAÇÃO DA ...</td>\n",
       "      <td>VISTOS, relatados e discutidos estes autos de ...</td>\n",
       "      <td>Inicio este Relatório transcrevendo, com algun...</td>\n",
       "      <td>Conforme consignado no Relatório precedente, t...</td>\n",
       "    </tr>\n",
       "    <tr>\n",
       "      <th>295941</th>\n",
       "      <td>295942</td>\n",
       "      <td>NA</td>\n",
       "      <td>2019</td>\n",
       "      <td>2011</td>\n",
       "      <td>AROLDO CEDRAZ</td>\n",
       "      <td>017.162/2007-1</td>\n",
       "      <td>Tomada de contas especial instaurada em razão ...</td>\n",
       "      <td>28/08/2019</td>\n",
       "      <td>33/2019-Plenário</td>\n",
       "      <td>Associação dos Irrigantes da Barragem de Terra...</td>\n",
       "      <td>TOMADA DE CONTAS ESPECIAL. NÃO COMPROVAÇÃO DA ...</td>\n",
       "      <td>VISTOS, relatados e discutidos estes autos de ...</td>\n",
       "      <td>Inicio este Relatório transcrevendo, com algun...</td>\n",
       "      <td>Conforme consignado no Relatório precedente, t...</td>\n",
       "    </tr>\n",
       "  </tbody>\n",
       "</table>\n",
       "</div>"
      ],
      "text/plain": [
       "            ID URN ANO_ACORDAO NUMERO_ACORDAO        RELATOR        PROCESSO  \\\n",
       "294848  294849  NA        2019           2011  AROLDO CEDRAZ  017.162/2007-1   \n",
       "295941  295942  NA        2019           2011  AROLDO CEDRAZ  017.162/2007-1   \n",
       "\n",
       "                                            TIPO_PROCESSO DATA_SESSAO  \\\n",
       "294848  Tomada de contas especial instaurada em razão ...  28/08/2019   \n",
       "295941  Tomada de contas especial instaurada em razão ...  28/08/2019   \n",
       "\n",
       "              NUMERO_ATA                                           ENTIDADE  \\\n",
       "294848  33/2019-Plenário  Associação dos Irrigantes da Barragem de Terra...   \n",
       "295941  33/2019-Plenário  Associação dos Irrigantes da Barragem de Terra...   \n",
       "\n",
       "                                                  SUMARIO  \\\n",
       "294848  TOMADA DE CONTAS ESPECIAL. NÃO COMPROVAÇÃO DA ...   \n",
       "295941  TOMADA DE CONTAS ESPECIAL. NÃO COMPROVAÇÃO DA ...   \n",
       "\n",
       "                                                  ACORDAO  \\\n",
       "294848  VISTOS, relatados e discutidos estes autos de ...   \n",
       "295941  VISTOS, relatados e discutidos estes autos de ...   \n",
       "\n",
       "                                                RELATORIO  \\\n",
       "294848  Inicio este Relatório transcrevendo, com algun...   \n",
       "295941  Inicio este Relatório transcrevendo, com algun...   \n",
       "\n",
       "                                                     VOTO  \n",
       "294848  Conforme consignado no Relatório precedente, t...  \n",
       "295941  Conforme consignado no Relatório precedente, t...  "
      ]
     },
     "execution_count": 16,
     "metadata": {},
     "output_type": "execute_result"
    }
   ],
   "source": [
    "df_acordaos[df_acordaos.duplicated(['NUMERO_ACORDAO', 'PROCESSO', 'DATA_SESSAO'])]"
   ]
  },
  {
   "cell_type": "code",
   "execution_count": 17,
   "metadata": {},
   "outputs": [],
   "source": [
    "df_acordaos = df_acordaos.drop(295941)"
   ]
  },
  {
   "cell_type": "code",
   "execution_count": 18,
   "metadata": {},
   "outputs": [
    {
     "data": {
      "text/plain": [
       "49041"
      ]
     },
     "execution_count": 18,
     "metadata": {},
     "output_type": "execute_result"
    }
   ],
   "source": [
    "df_acordaos[df_acordaos.URN == 'NA'].shape[0]"
   ]
  },
  {
   "cell_type": "code",
   "execution_count": 19,
   "metadata": {
    "tags": []
   },
   "outputs": [
    {
     "name": "stdout",
     "output_type": "stream",
     "text": [
      "<class 'pandas.core.frame.DataFrame'>\n",
      "Int64Index: 292114 entries, 0 to 298941\n",
      "Data columns (total 14 columns):\n",
      " #   Column          Non-Null Count   Dtype \n",
      "---  ------          --------------   ----- \n",
      " 0   ID              292114 non-null  int64 \n",
      " 1   URN             292114 non-null  object\n",
      " 2   ANO_ACORDAO     292114 non-null  object\n",
      " 3   NUMERO_ACORDAO  292114 non-null  object\n",
      " 4   RELATOR         292114 non-null  object\n",
      " 5   PROCESSO        292114 non-null  object\n",
      " 6   TIPO_PROCESSO   292114 non-null  object\n",
      " 7   DATA_SESSAO     292114 non-null  object\n",
      " 8   NUMERO_ATA      292114 non-null  object\n",
      " 9   ENTIDADE        291421 non-null  object\n",
      " 10  SUMARIO         263189 non-null  object\n",
      " 11  ACORDAO         292091 non-null  object\n",
      " 12  RELATORIO       263190 non-null  object\n",
      " 13  VOTO            263190 non-null  object\n",
      "dtypes: int64(1), object(13)\n",
      "memory usage: 33.4+ MB\n"
     ]
    }
   ],
   "source": [
    "df_acordaos.info()"
   ]
  },
  {
   "cell_type": "code",
   "execution_count": 20,
   "metadata": {
    "tags": []
   },
   "outputs": [
    {
     "name": "stdout",
     "output_type": "stream",
     "text": [
      "Duration: 0:00:09.241384\n"
     ]
    }
   ],
   "source": [
    "start_time = datetime.now()\n",
    "\n",
    "df_acordaos['ID'] = df_acordaos.apply(criaChaveAcordaoPrincipal, axis=1)\n",
    "\n",
    "print('Duration: {}'.format(datetime.now() - start_time))"
   ]
  },
  {
   "cell_type": "code",
   "execution_count": 21,
   "metadata": {},
   "outputs": [
    {
     "ename": "KeyboardInterrupt",
     "evalue": "",
     "output_type": "error",
     "traceback": [
      "\u001B[0;31m---------------------------------------------------------------------------\u001B[0m",
      "\u001B[0;31mKeyboardInterrupt\u001B[0m                         Traceback (most recent call last)",
      "\u001B[0;32m<ipython-input-21-615b6fc0dabe>\u001B[0m in \u001B[0;36m<module>\u001B[0;34m\u001B[0m\n\u001B[1;32m      2\u001B[0m \u001B[0mstart_time\u001B[0m \u001B[0;34m=\u001B[0m \u001B[0mdatetime\u001B[0m\u001B[0;34m.\u001B[0m\u001B[0mnow\u001B[0m\u001B[0;34m(\u001B[0m\u001B[0;34m)\u001B[0m\u001B[0;34m\u001B[0m\u001B[0;34m\u001B[0m\u001B[0m\n\u001B[1;32m      3\u001B[0m \u001B[0;34m\u001B[0m\u001B[0m\n\u001B[0;32m----> 4\u001B[0;31m \u001B[0mdf_acordaos\u001B[0m\u001B[0;34m.\u001B[0m\u001B[0mto_csv\u001B[0m\u001B[0;34m(\u001B[0m\u001B[0;34m'dados/df_acordaos.csv'\u001B[0m\u001B[0;34m,\u001B[0m \u001B[0msep\u001B[0m\u001B[0;34m=\u001B[0m\u001B[0;34m'|'\u001B[0m\u001B[0;34m,\u001B[0m \u001B[0mindex\u001B[0m\u001B[0;34m=\u001B[0m\u001B[0;32mFalse\u001B[0m\u001B[0;34m,\u001B[0m \u001B[0mcompression\u001B[0m\u001B[0;34m=\u001B[0m\u001B[0;34m'gzip'\u001B[0m\u001B[0;34m,\u001B[0m \u001B[0mencoding\u001B[0m\u001B[0;34m=\u001B[0m\u001B[0;34m'utf-8'\u001B[0m\u001B[0;34m)\u001B[0m\u001B[0;34m\u001B[0m\u001B[0;34m\u001B[0m\u001B[0m\n\u001B[0m\u001B[1;32m      5\u001B[0m \u001B[0;34m\u001B[0m\u001B[0m\n\u001B[1;32m      6\u001B[0m \u001B[0mprint\u001B[0m\u001B[0;34m(\u001B[0m\u001B[0;34m'Duration: {}'\u001B[0m\u001B[0;34m.\u001B[0m\u001B[0mformat\u001B[0m\u001B[0;34m(\u001B[0m\u001B[0mdatetime\u001B[0m\u001B[0;34m.\u001B[0m\u001B[0mnow\u001B[0m\u001B[0;34m(\u001B[0m\u001B[0;34m)\u001B[0m \u001B[0;34m-\u001B[0m \u001B[0mstart_time\u001B[0m\u001B[0;34m)\u001B[0m\u001B[0;34m)\u001B[0m\u001B[0;34m\u001B[0m\u001B[0;34m\u001B[0m\u001B[0m\n",
      "\u001B[0;32m~/anaconda3/envs/servio/lib/python3.8/site-packages/pandas/core/generic.py\u001B[0m in \u001B[0;36mto_csv\u001B[0;34m(self, path_or_buf, sep, na_rep, float_format, columns, header, index, index_label, mode, encoding, compression, quoting, quotechar, line_terminator, chunksize, date_format, doublequote, escapechar, decimal, errors)\u001B[0m\n\u001B[1;32m   3165\u001B[0m             \u001B[0mdecimal\u001B[0m\u001B[0;34m=\u001B[0m\u001B[0mdecimal\u001B[0m\u001B[0;34m,\u001B[0m\u001B[0;34m\u001B[0m\u001B[0;34m\u001B[0m\u001B[0m\n\u001B[1;32m   3166\u001B[0m         )\n\u001B[0;32m-> 3167\u001B[0;31m         \u001B[0mformatter\u001B[0m\u001B[0;34m.\u001B[0m\u001B[0msave\u001B[0m\u001B[0;34m(\u001B[0m\u001B[0;34m)\u001B[0m\u001B[0;34m\u001B[0m\u001B[0;34m\u001B[0m\u001B[0m\n\u001B[0m\u001B[1;32m   3168\u001B[0m \u001B[0;34m\u001B[0m\u001B[0m\n\u001B[1;32m   3169\u001B[0m         \u001B[0;32mif\u001B[0m \u001B[0mpath_or_buf\u001B[0m \u001B[0;32mis\u001B[0m \u001B[0;32mNone\u001B[0m\u001B[0;34m:\u001B[0m\u001B[0;34m\u001B[0m\u001B[0;34m\u001B[0m\u001B[0m\n",
      "\u001B[0;32m~/anaconda3/envs/servio/lib/python3.8/site-packages/pandas/io/formats/csvs.py\u001B[0m in \u001B[0;36msave\u001B[0;34m(self)\u001B[0m\n\u001B[1;32m    204\u001B[0m             )\n\u001B[1;32m    205\u001B[0m \u001B[0;34m\u001B[0m\u001B[0m\n\u001B[0;32m--> 206\u001B[0;31m             \u001B[0mself\u001B[0m\u001B[0;34m.\u001B[0m\u001B[0m_save\u001B[0m\u001B[0;34m(\u001B[0m\u001B[0;34m)\u001B[0m\u001B[0;34m\u001B[0m\u001B[0;34m\u001B[0m\u001B[0m\n\u001B[0m\u001B[1;32m    207\u001B[0m \u001B[0;34m\u001B[0m\u001B[0m\n\u001B[1;32m    208\u001B[0m         \u001B[0;32mfinally\u001B[0m\u001B[0;34m:\u001B[0m\u001B[0;34m\u001B[0m\u001B[0;34m\u001B[0m\u001B[0m\n",
      "\u001B[0;32m~/anaconda3/envs/servio/lib/python3.8/site-packages/pandas/io/formats/csvs.py\u001B[0m in \u001B[0;36m_save\u001B[0;34m(self)\u001B[0m\n\u001B[1;32m    326\u001B[0m                 \u001B[0;32mbreak\u001B[0m\u001B[0;34m\u001B[0m\u001B[0;34m\u001B[0m\u001B[0m\n\u001B[1;32m    327\u001B[0m \u001B[0;34m\u001B[0m\u001B[0m\n\u001B[0;32m--> 328\u001B[0;31m             \u001B[0mself\u001B[0m\u001B[0;34m.\u001B[0m\u001B[0m_save_chunk\u001B[0m\u001B[0;34m(\u001B[0m\u001B[0mstart_i\u001B[0m\u001B[0;34m,\u001B[0m \u001B[0mend_i\u001B[0m\u001B[0;34m)\u001B[0m\u001B[0;34m\u001B[0m\u001B[0;34m\u001B[0m\u001B[0m\n\u001B[0m\u001B[1;32m    329\u001B[0m \u001B[0;34m\u001B[0m\u001B[0m\n\u001B[1;32m    330\u001B[0m     \u001B[0;32mdef\u001B[0m \u001B[0m_save_chunk\u001B[0m\u001B[0;34m(\u001B[0m\u001B[0mself\u001B[0m\u001B[0;34m,\u001B[0m \u001B[0mstart_i\u001B[0m\u001B[0;34m:\u001B[0m \u001B[0mint\u001B[0m\u001B[0;34m,\u001B[0m \u001B[0mend_i\u001B[0m\u001B[0;34m:\u001B[0m \u001B[0mint\u001B[0m\u001B[0;34m)\u001B[0m \u001B[0;34m->\u001B[0m \u001B[0;32mNone\u001B[0m\u001B[0;34m:\u001B[0m\u001B[0;34m\u001B[0m\u001B[0;34m\u001B[0m\u001B[0m\n",
      "\u001B[0;32m~/anaconda3/envs/servio/lib/python3.8/site-packages/pandas/io/formats/csvs.py\u001B[0m in \u001B[0;36m_save_chunk\u001B[0;34m(self, start_i, end_i)\u001B[0m\n\u001B[1;32m    360\u001B[0m         )\n\u001B[1;32m    361\u001B[0m \u001B[0;34m\u001B[0m\u001B[0m\n\u001B[0;32m--> 362\u001B[0;31m         \u001B[0mlibwriters\u001B[0m\u001B[0;34m.\u001B[0m\u001B[0mwrite_csv_rows\u001B[0m\u001B[0;34m(\u001B[0m\u001B[0mself\u001B[0m\u001B[0;34m.\u001B[0m\u001B[0mdata\u001B[0m\u001B[0;34m,\u001B[0m \u001B[0mix\u001B[0m\u001B[0;34m,\u001B[0m \u001B[0mself\u001B[0m\u001B[0;34m.\u001B[0m\u001B[0mnlevels\u001B[0m\u001B[0;34m,\u001B[0m \u001B[0mself\u001B[0m\u001B[0;34m.\u001B[0m\u001B[0mcols\u001B[0m\u001B[0;34m,\u001B[0m \u001B[0mself\u001B[0m\u001B[0;34m.\u001B[0m\u001B[0mwriter\u001B[0m\u001B[0;34m)\u001B[0m\u001B[0;34m\u001B[0m\u001B[0;34m\u001B[0m\u001B[0m\n\u001B[0m",
      "\u001B[0;32mpandas/_libs/writers.pyx\u001B[0m in \u001B[0;36mpandas._libs.writers.write_csv_rows\u001B[0;34m()\u001B[0m\n",
      "\u001B[0;32m~/anaconda3/envs/servio/lib/python3.8/gzip.py\u001B[0m in \u001B[0;36mwrite\u001B[0;34m(self, data)\u001B[0m\n\u001B[1;32m    255\u001B[0m             \u001B[0mself\u001B[0m\u001B[0;34m.\u001B[0m\u001B[0mfileobj\u001B[0m\u001B[0;34m.\u001B[0m\u001B[0mwrite\u001B[0m\u001B[0;34m(\u001B[0m\u001B[0mfname\u001B[0m \u001B[0;34m+\u001B[0m \u001B[0;34mb'\\000'\u001B[0m\u001B[0;34m)\u001B[0m\u001B[0;34m\u001B[0m\u001B[0;34m\u001B[0m\u001B[0m\n\u001B[1;32m    256\u001B[0m \u001B[0;34m\u001B[0m\u001B[0m\n\u001B[0;32m--> 257\u001B[0;31m     \u001B[0;32mdef\u001B[0m \u001B[0mwrite\u001B[0m\u001B[0;34m(\u001B[0m\u001B[0mself\u001B[0m\u001B[0;34m,\u001B[0m\u001B[0mdata\u001B[0m\u001B[0;34m)\u001B[0m\u001B[0;34m:\u001B[0m\u001B[0;34m\u001B[0m\u001B[0;34m\u001B[0m\u001B[0m\n\u001B[0m\u001B[1;32m    258\u001B[0m         \u001B[0mself\u001B[0m\u001B[0;34m.\u001B[0m\u001B[0m_check_not_closed\u001B[0m\u001B[0;34m(\u001B[0m\u001B[0;34m)\u001B[0m\u001B[0;34m\u001B[0m\u001B[0;34m\u001B[0m\u001B[0m\n\u001B[1;32m    259\u001B[0m         \u001B[0;32mif\u001B[0m \u001B[0mself\u001B[0m\u001B[0;34m.\u001B[0m\u001B[0mmode\u001B[0m \u001B[0;34m!=\u001B[0m \u001B[0mWRITE\u001B[0m\u001B[0;34m:\u001B[0m\u001B[0;34m\u001B[0m\u001B[0;34m\u001B[0m\u001B[0m\n",
      "\u001B[0;31mKeyboardInterrupt\u001B[0m: "
     ]
    }
   ],
   "source": [
    "# Salva o arquivo em um csv compactado reduzindo o arquivo de 4GB para ~900MB\n",
    "start_time = datetime.now()\n",
    "\n",
    "df_acordaos.to_csv('dados/df_acordaos.csv', sep='|', index=False, compression='gzip', encoding='utf-8')\n",
    "\n",
    "print('Duration: {}'.format(datetime.now() - start_time))"
   ]
  }
 ],
 "metadata": {
  "kernelspec": {
   "display_name": "Python 3",
   "language": "python",
   "name": "python3"
  },
  "language_info": {
   "codemirror_mode": {
    "name": "ipython",
    "version": 3
   },
   "file_extension": ".py",
   "mimetype": "text/x-python",
   "name": "python",
   "nbconvert_exporter": "python",
   "pygments_lexer": "ipython3",
   "version": "3.8.0"
  }
 },
 "nbformat": 4,
 "nbformat_minor": 4
}