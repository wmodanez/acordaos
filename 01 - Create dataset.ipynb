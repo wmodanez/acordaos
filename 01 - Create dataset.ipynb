{
 "cells": [
  {
   "cell_type": "code",
   "execution_count": null,
   "metadata": {},
   "outputs": [],
   "source": [
    "import sqlite3\n",
    "import zipfile\n",
    "\n",
    "import pandas as pd"
   ]
  },
  {
   "cell_type": "markdown",
   "metadata": {},
   "source": [
    "## Conhecer a base de dados dos acórdãos do TCU"
   ]
  },
  {
   "cell_type": "markdown",
   "metadata": {},
   "source": [
    "A base de dados dos acórdãos do TCU foi disponibilizada para download público na plataforma Kaggle. Os dados dizem respeito aos acórdãos proferidos pelo TCU entre os anos de 1992 até 30/08/2019.\n",
    "Acesse o endereço <https://www.kaggle.com/ferraz/acordaos-tcu> e baixe o arquivo no link Download (4GB) e salve na pasta '/dados'.\n",
    "github: <https://github.com/netoferraz/acordaos-tcu>"
   ]
  },
  {
   "cell_type": "code",
   "execution_count": null,
   "metadata": {},
   "outputs": [],
   "source": [
    "with zipfile.ZipFile('dados/330881_660826_bundle_archive.zip', 'r') as zip_ref:\n",
    "    zip_ref.extractall()"
   ]
  },
  {
   "cell_type": "code",
   "execution_count": null,
   "metadata": {},
   "outputs": [],
   "source": [
    "# Cria conexão com a base de datos sqlite\n",
    "conn = sqlite3.connect('dados/tcu-acordaos.db')"
   ]
  },
  {
   "cell_type": "code",
   "execution_count": null,
   "metadata": {},
   "outputs": [],
   "source": [
    "# Cria o dataframe df_acordaos\n",
    "df_acordaos = pd.read_sql_query('SELECT * from acordaos', conn)"
   ]
  },
  {
   "cell_type": "code",
   "execution_count": null,
   "metadata": {},
   "outputs": [],
   "source": [
    "# Salva o arquivo em um csv compactado\n",
    "df_acordaos.to_csv('dados/df_acordaos.csv', sep='|', index=False, compression='gzip')"
   ]
  },
  {
   "cell_type": "code",
   "execution_count": null,
   "metadata": {},
   "outputs": [],
   "source": [
    "# Lê o arquivo de um csv compactado\n",
    "df_acordaos = pd.read_csv('dados/df_acordaos.csv', sep='|', compression='gzip', low_memory=False)"
   ]
  },
  {
   "cell_type": "code",
   "execution_count": null,
   "metadata": {},
   "outputs": [],
   "source": [
    "print(df_acordaos.shape)\n",
    "\n",
    "# Mostra as colunas da base\n",
    "print(df_acordaos.columns)"
   ]
  },
  {
   "cell_type": "code",
   "execution_count": null,
   "metadata": {},
   "outputs": [],
   "source": [
    "# Remoção dos registros do tipo sigiloso, pois os mesmos não possuem dados disponíveis\n",
    "df_acordaos = df_acordaos[df_acordaos.tipo_processo != 'SIGILOSO']"
   ]
  },
  {
   "cell_type": "code",
   "execution_count": null,
   "metadata": {},
   "outputs": [],
   "source": [
    "print(df_acordaos.shape)\n",
    "\n",
    "# Mostra as colunas da base\n",
    "print(df_acordaos.columns)"
   ]
  },
  {
   "cell_type": "code",
   "execution_count": null,
   "metadata": {},
   "outputs": [],
   "source": [
    "def update_dataframe(df):\n",
    "    for index, row in df.iterrows():\n",
    "        if row.acordao.notnull():\n",
    "            df.at[index, 'tipo'] = 'acordao'\n",
    "            df.at[index, 'texto'] = df.iloc[index].acordao\n",
    "        elif row.relatorio.notnull():\n",
    "            df.at[index, 'tipo'] = 'relatorio'\n",
    "            df.at[index, 'texto'] = df.iloc[index].relatorio\n",
    "        elif row.voto.notnull():\n",
    "            df.at[index, 'tipo'] = 'voto'\n",
    "            df.at[index, 'texto'] = df.iloc[index].voto\n",
    "        else:\n",
    "            print('Nada foi feito na linha: ', index)"
   ]
  },
  {
   "cell_type": "code",
   "execution_count": null,
   "metadata": {},
   "outputs": [],
   "source": [
    "# Retira colunas que não interessam para o trabalho\n",
    "df_acordaos = df_acordaos.drop(['representante_mp', 'assunto', 'unidade_tecnica', 'repr_legal', 'quorum'], axis=1)"
   ]
  },
  {
   "cell_type": "code",
   "execution_count": null,
   "metadata": {},
   "outputs": [],
   "source": [
    "df_acordaos = df_acordaos[df_acordaos.processo.notnull()]"
   ]
  },
  {
   "cell_type": "code",
   "execution_count": null,
   "metadata": {},
   "outputs": [],
   "source": [
    "# Cria coluna \"decisao\" contendo a união dos textos das colunas \"relatorio\", \"voto\" e \"acordao\"\n",
    "df_acordaos['decisao'] = df_acordaos.relatorio + ' ' + df_acordaos.voto + ' ' + df_acordaos.acordao"
   ]
  },
  {
   "cell_type": "code",
   "execution_count": null,
   "metadata": {},
   "outputs": [],
   "source": [
    "print(df_acordaos.shape)"
   ]
  },
  {
   "cell_type": "code",
   "execution_count": null,
   "metadata": {},
   "outputs": [],
   "source": [
    "# Salva o arquivo em um csv compactado\n",
    "df_acordaos.to_csv('dados/df_acordaos.csv', sep='|', index=False, compression='gzip')"
   ]
  }
 ],
 "metadata": {
  "kernelspec": {
   "display_name": "Python 3",
   "language": "python",
   "name": "python3"
  },
  "language_info": {
   "codemirror_mode": {
    "name": "ipython",
    "version": 3
   },
   "file_extension": ".py",
   "mimetype": "text/x-python",
   "name": "python",
   "nbconvert_exporter": "python",
   "pygments_lexer": "ipython3",
   "version": "3.8.3"
  }
 },
 "nbformat": 4,
 "nbformat_minor": 4
}
