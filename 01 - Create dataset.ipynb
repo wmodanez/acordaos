{
 "cells": [
  {
   "cell_type": "code",
   "execution_count": null,
   "outputs": [],
   "source": [
    "import sqlite3\n",
    "import zipfile\n",
    "\n",
    "import numpy as np\n",
    "import pandas as pd\n",
    "\n",
    "from datetime import datetime\n",
    "from tools import criaChaveAcordaoPrincipal"
   ],
   "metadata": {
    "collapsed": false,
    "pycharm": {
     "name": "#%%\n"
    }
   }
  },
  {
   "cell_type": "markdown",
   "source": [
    "## Conhecer a base de dados dos acórdãos do TCU"
   ],
   "metadata": {
    "collapsed": false
   }
  },
  {
   "cell_type": "markdown",
   "source": [
    "A base de dados dos acórdãos do TCU foi disponibilizada para download público na plataforma Kaggle. Os dados dizem respeito aos acórdãos proferidos pelo TCU entre os anos de 1992 até 30/08/2019.\n",
    "Acesse o endereço <https://www.kaggle.com/ferraz/acordaos-tcu> e baixe o arquivo no link Download (4GB) e salve na pasta '/dados'.\n",
    "github: <https://github.com/netoferraz/acordaos-tcu>"
   ],
   "metadata": {
    "collapsed": false
   }
  },
  {
   "cell_type": "code",
   "execution_count": null,
   "outputs": [],
   "source": [
    "# Remover os comentário das linhas abaixo caso ainda não tenha feito a descompactação\n",
    "# with zipfile.ZipFile('dados/330881_660826_bundle_archive.zip', 'r') as zip_ref:\n",
    "#     zip_ref.extractall()"
   ],
   "metadata": {
    "collapsed": false,
    "pycharm": {
     "name": "#%%\n"
    }
   }
  },
  {
   "cell_type": "code",
   "execution_count": null,
   "outputs": [],
   "source": [
    "# Cria conexão com a base de datos sqlite\n",
    "conn = sqlite3.connect('dados/tcu-acordaos.db')"
   ],
   "metadata": {
    "collapsed": false,
    "pycharm": {
     "name": "#%%\n"
    }
   }
  },
  {
   "cell_type": "code",
   "execution_count": null,
   "outputs": [],
   "source": [
    "# Cria o dataframe df_acordaos\n",
    "df_acordaos = pd.read_sql_query('SELECT * from acordaos', conn)"
   ],
   "metadata": {
    "collapsed": false,
    "pycharm": {
     "name": "#%%\n"
    }
   }
  },
  {
   "cell_type": "code",
   "execution_count": null,
   "outputs": [],
   "source": [
    "print(df_acordaos.shape, '\\n')\n",
    "\n",
    "# Mostra as colunas da base\n",
    "print(df_acordaos.columns, '\\n')\n",
    "\n",
    "print(df_acordaos.info(), '\\n')"
   ],
   "metadata": {
    "collapsed": false,
    "pycharm": {
     "name": "#%%\n"
    }
   }
  },
  {
   "cell_type": "code",
   "execution_count": null,
   "outputs": [],
   "source": [
    "# Transfora em string as colunas ano_acordao\n",
    "df_acordaos['ano_acordao'] = df_acordaos['ano_acordao'].map(str)"
   ],
   "metadata": {
    "collapsed": false,
    "pycharm": {
     "name": "#%%\n"
    }
   }
  },
  {
   "cell_type": "code",
   "execution_count": null,
   "outputs": [],
   "source": [
    "df_acordaos.rename(str.upper, axis='columns', inplace=True)\n",
    "df_acordaos.info()"
   ],
   "metadata": {
    "collapsed": false,
    "pycharm": {
     "name": "#%%\n"
    }
   }
  },
  {
   "cell_type": "code",
   "execution_count": null,
   "outputs": [],
   "source": [
    "# Verifica a quantidade de registros marcados como None\n",
    "print(df_acordaos[df_acordaos['ACORDAO'].values == None].shape[0])\n",
    "print(df_acordaos[df_acordaos['RELATORIO'].values == None].shape[0])\n",
    "print(df_acordaos[df_acordaos['VOTO'].values == None].shape[0])\n",
    "\n",
    "# Converte os valores None para np.NaN\n",
    "df_acordaos.loc[df_acordaos['ACORDAO'].values == None, 'ACORDAO'] = np.NaN\n",
    "df_acordaos.loc[df_acordaos['RELATORIO'].values == None, 'RELATORIO'] = np.NaN\n",
    "df_acordaos.loc[df_acordaos['VOTO'].values == None, 'VOTO'] = np.NaN\n",
    "\n",
    "# Confirmação\n",
    "print(df_acordaos[df_acordaos['ACORDAO'].values == None].shape[0])\n",
    "print(df_acordaos[df_acordaos['RELATORIO'].values == None].shape[0])\n",
    "print(df_acordaos[df_acordaos['VOTO'].values == None].shape[0])"
   ],
   "metadata": {
    "collapsed": false,
    "pycharm": {
     "name": "#%%\n"
    }
   }
  },
  {
   "cell_type": "code",
   "execution_count": null,
   "outputs": [],
   "source": [
    "# Retira colunas que não interessam para o trabalho\n",
    "df_acordaos = df_acordaos.drop(['REPRESENTANTE_MP', 'ASSUNTO', 'UNIDADE_TECNICA', 'REPR_LEGAL', 'QUORUM', \n",
    "                                'INTERESSADO_REPONSAVEL_RECORRENTE'], axis=1)"
   ],
   "metadata": {
    "collapsed": false,
    "pycharm": {
     "name": "#%%\n"
    }
   }
  },
  {
   "cell_type": "code",
   "execution_count": null,
   "outputs": [],
   "source": [
    "def imprime_proc_sigilo():\n",
    "    print('Qtde de acordãos sem número de processo: ', df_acordaos[df_acordaos.PROCESSO.isnull()].shape[0])\n",
    "    print('Qtde de acordãos com tipo de processo SIGILOSO: ', df_acordaos[(df_acordaos.TIPO_PROCESSO == 'SIGILOSO')].shape[0])\n",
    "    print('Qtde de acordãos com acordao SIGILOSO: ', df_acordaos[(df_acordaos.ACORDAO == 'SIGILOSO') | (df_acordaos.ACORDAO == 'None')].shape[0])\n",
    "    print('Qtde de acordãos com voto SIGILOSO: ', df_acordaos[(df_acordaos.VOTO == 'SIGILOSO')  | (df_acordaos.VOTO == 'None')].shape[0])\n",
    "    print('Qtde de acordãos com entidade SIGILOSO: ', df_acordaos[(df_acordaos.ENTIDADE == 'SIGILOSO')  | (df_acordaos.ENTIDADE == 'None')].shape[0])\n",
    "    print('Qtde de acordãos com Número de Acórdão não utilizado: ', df_acordaos[df_acordaos.SUMARIO == 'Número de Acórdão não utilizado'].shape[0], '\\n')\n",
    "    \n",
    "    qtdeSigiloso = df_acordaos[(df_acordaos['ENTIDADE'] == 'SIGILOSO') | (df_acordaos['TIPO_PROCESSO'].str.upper == 'SIGILOGO')\n",
    "                               | (df_acordaos['SUMARIO'].str.upper == 'SIGILOGO')\n",
    "                               | (df_acordaos['ACORDAO'].str.upper == 'SIGILOGO')\n",
    "                               | (df_acordaos['RELATORIO'].str.upper == 'SIGILOGO')\n",
    "                               | (df_acordaos['ENTIDADE'].str.upper == 'SIGILOGO')\n",
    "                               | (df_acordaos['VOTO'].str.upper == 'SIGILOGO')\n",
    "                               | (df_acordaos.SUMARIO == 'Número de Acórdão não utilizado')].shape[0]\n",
    "\n",
    "    print('Quantidade de acordãos marcados com sigilo: ', qtdeSigiloso, '\\n')\n",
    "    del qtdeSigiloso"
   ],
   "metadata": {
    "collapsed": false,
    "pycharm": {
     "name": "#%%\n"
    }
   }
  },
  {
   "cell_type": "code",
   "execution_count": null,
   "outputs": [],
   "source": [
    "imprime_proc_sigilo()\n",
    "\n",
    "\n",
    "print('Removendo os registros...')\n",
    "df_acordaos = df_acordaos[df_acordaos.PROCESSO.notnull()]\n",
    "print(df_acordaos.shape[0])\n",
    "df_acordaos = df_acordaos.drop(df_acordaos.index[df_acordaos['TIPO_PROCESSO'] =='SIGILOSO'])\n",
    "print(df_acordaos.shape[0])\n",
    "df_acordaos = df_acordaos.drop(df_acordaos.index[(df_acordaos['ACORDAO'] == 'SIGILOSO') | (df_acordaos['ACORDAO'] == 'None')])\n",
    "print(df_acordaos.shape[0])\n",
    "df_acordaos = df_acordaos.drop(df_acordaos.index[(df_acordaos['VOTO'] == 'SIGILOSO') | (df_acordaos['VOTO'] == 'None')])\n",
    "print(df_acordaos.shape[0])\n",
    "df_acordaos = df_acordaos.drop(df_acordaos.index[(df_acordaos['ENTIDADE'] == 'SIGILOSO') | (df_acordaos['ENTIDADE'] == 'None')])\n",
    "print(df_acordaos.shape[0])\n",
    "df_acordaos = df_acordaos.drop(df_acordaos.index[(df_acordaos['SUMARIO'] == 'Número de Acórdão não utilizado')])\n",
    "print(df_acordaos.shape[0], '\\n')\n",
    "\n",
    "\n",
    "imprime_proc_sigilo()"
   ],
   "metadata": {
    "collapsed": false,
    "pycharm": {
     "name": "#%%\n"
    }
   }
  },
  {
   "cell_type": "code",
   "execution_count": null,
   "outputs": [],
   "source": [
    "start_time = datetime.now()\n",
    "\n",
    "df_acordaos['ID'] = df_acordaos.apply(criaChaveAcordaoPrincipal, axis=1)\n",
    "\n",
    "print('Duration: {}'.format(datetime.now() - start_time))"
   ],
   "metadata": {
    "collapsed": false,
    "pycharm": {
     "name": "#%%\n"
    }
   }
  },
  {
   "cell_type": "code",
   "execution_count": null,
   "outputs": [],
   "source": [
    "df_acordaos[df_acordaos.duplicated(['NUMERO_ACORDAO', 'PROCESSO', 'DATA_SESSAO'])]"
   ],
   "metadata": {
    "collapsed": false,
    "pycharm": {
     "name": "#%%\n"
    }
   }
  },
  {
   "cell_type": "code",
   "execution_count": null,
   "outputs": [],
   "source": [
    "# TODO criar function para tratar quando houver mais registros duplicados\n",
    "df_acordaos = df_acordaos.drop(295941)"
   ],
   "metadata": {
    "collapsed": false,
    "pycharm": {
     "name": "#%%\n"
    }
   }
  },
  {
   "cell_type": "code",
   "execution_count": null,
   "outputs": [],
   "source": [
    "print('Quantidade de ACÓRDÃOS nulos: ', df_acordaos[df_acordaos['ACORDAO'].isnull() == True].shape[0])\n",
    "print('Quantidade de registros repetidos nos campos VOTO e ACÓRDAO:', df_acordaos[df_acordaos['VOTO'].eq(df_acordaos['ACORDAO'])].shape[0])\n",
    "print('Quantidade de registros repetidos nos campos RELATÓRIO e ACÓRDAO:', df_acordaos[df_acordaos['RELATORIO'].eq(df_acordaos['ACORDAO'])].shape[0])"
   ],
   "metadata": {
    "collapsed": false,
    "pycharm": {
     "name": "#%%\n"
    }
   }
  },
  {
   "cell_type": "code",
   "execution_count": null,
   "outputs": [],
   "source": [
    "df_acordaos['DECISAO'] = df_acordaos['ACORDAO'].map(str) + ' ' + df_acordaos['VOTO'].map(str) + ' ' + df_acordaos['RELATORIO'].map(str)"
   ],
   "metadata": {
    "collapsed": false,
    "pycharm": {
     "name": "#%%\n"
    }
   }
  },
  {
   "cell_type": "code",
   "execution_count": null,
   "outputs": [],
   "source": [
    "# Retira colunas que não interessam para o trabalho\n",
    "df_acordaos = df_acordaos.drop(['URN', 'ANO_ACORDAO', 'NUMERO_ACORDAO', 'RELATOR', 'PROCESSO',\n",
    "                               'DATA_SESSAO', 'NUMERO_ATA', 'ENTIDADE', 'SUMARIO', 'TIPO_PROCESSO',\n",
    "                               'ACORDAO', 'VOTO', 'RELATORIO'], axis=1)\n",
    "\n",
    "df_acordaos.insert(2, 'LABEL', '')\n",
    "df_acordaos.info()"
   ],
   "metadata": {
    "collapsed": false,
    "pycharm": {
     "name": "#%%\n"
    }
   }
  },
  {
   "cell_type": "code",
   "execution_count": null,
   "outputs": [],
   "source": [
    "# Salva o arquivo em um csv compactado reduzindo o arquivo de 4GB para ~900MB\n",
    "start_time = datetime.now()\n",
    "\n",
    "df_acordaos.to_csv('dados/df_acordaos.csv', sep='|', index=False, compression='gzip', encoding='utf-8')\n",
    "\n",
    "print('Duration: {}'.format(datetime.now() - start_time))"
   ],
   "metadata": {
    "collapsed": false,
    "pycharm": {
     "name": "#%%\n"
    }
   }
  },
  {
   "cell_type": "markdown",
   "source": [
    "### Testes"
   ],
   "metadata": {
    "collapsed": false
   }
  },
  {
   "cell_type": "code",
   "execution_count": null,
   "outputs": [],
   "source": [
    "df_temp = df_acordaos.copy()"
   ],
   "metadata": {
    "collapsed": false,
    "pycharm": {
     "name": "#%%\n"
    }
   }
  },
  {
   "cell_type": "code",
   "execution_count": null,
   "outputs": [],
   "source": [
    "print(df_temp[df_temp['DECISAO'].notnull()].shape[0])"
   ],
   "metadata": {
    "collapsed": false,
    "pycharm": {
     "name": "#%%\n"
    }
   }
  },
  {
   "cell_type": "code",
   "execution_count": null,
   "outputs": [],
   "source": [
    "print(df_temp[df_temp['DECISAO'].isnull() == True].shape[0])"
   ],
   "metadata": {
    "collapsed": false,
    "pycharm": {
     "name": "#%%\n"
    }
   }
  },
  {
   "cell_type": "code",
   "execution_count": null,
   "outputs": [],
   "source": [
    "df_dupl = df_temp[df_temp.duplicated(['DECISAO'])]\n",
    "df_dupl.info()"
   ],
   "metadata": {
    "collapsed": false,
    "pycharm": {
     "name": "#%%\n"
    }
   }
  },
  {
   "cell_type": "code",
   "execution_count": null,
   "outputs": [],
   "source": [
    "df_dupl"
   ],
   "metadata": {
    "collapsed": false,
    "pycharm": {
     "name": "#%%\n"
    }
   }
  },
  {
   "cell_type": "code",
   "execution_count": null,
   "outputs": [],
   "source": [
    "# Lê o arquivo de um csv compactado\n",
    "df_acordaos = pd.read_csv('dados/df_acordaos.csv', sep='|', compression='gzip')"
   ],
   "metadata": {
    "collapsed": false,
    "pycharm": {
     "name": "#%%\n"
    }
   }
  }
 ],
 "metadata": {
  "kernelspec": {
   "display_name": "Python 3",
   "language": "python",
   "name": "python3"
  },
  "language_info": {
   "codemirror_mode": {
    "name": "ipython",
    "version": 3
   },
   "file_extension": ".py",
   "mimetype": "text/x-python",
   "name": "python",
   "nbconvert_exporter": "python",
   "pygments_lexer": "ipython3",
   "version": "3.8.0"
  }
 },
 "nbformat": 4,
 "nbformat_minor": 4
}