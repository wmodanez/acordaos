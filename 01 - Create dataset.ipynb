{
 "cells": [
  {
   "cell_type": "code",
   "execution_count": 1,
   "metadata": {
    "collapsed": false,
    "jupyter": {
     "outputs_hidden": false
    },
    "pycharm": {
     "name": "#%%\n"
    }
   },
   "outputs": [],
   "source": [
    "import re\n",
    "import tools\n",
    "import sqlite3\n",
    "import zipfile\n",
    "\n",
    "import numpy as np\n",
    "import pandas as pd\n",
    "\n",
    "from datetime import datetime"
   ]
  },
  {
   "cell_type": "markdown",
   "metadata": {},
   "source": [
    "## Conhecer a base de dados dos acórdãos do TCU"
   ]
  },
  {
   "cell_type": "markdown",
   "metadata": {},
   "source": [
    "A base de dados dos acórdãos do TCU foi disponibilizada para download público na plataforma Kaggle. Os dados dizem respeito aos acórdãos proferidos pelo TCU entre os anos de 1992 até 30/08/2019.\n",
    "Acesse o endereço <https://www.kaggle.com/ferraz/acordaos-tcu> e baixe o arquivo no link Download (4GB) e salve na pasta '/dados'.\n",
    "github: <https://github.com/netoferraz/acordaos-tcu>"
   ]
  },
  {
   "cell_type": "code",
   "execution_count": null,
   "metadata": {
    "collapsed": false,
    "jupyter": {
     "outputs_hidden": false
    },
    "pycharm": {
     "name": "#%%\n"
    }
   },
   "outputs": [],
   "source": [
    "# Remover os comentário das linhas abaixo caso ainda não tenha feito a descompactação\n",
    "# with zipfile.ZipFile('dados/330881_660826_bundle_archive.zip', 'r') as zip_ref:\n",
    "#     zip_ref.extractall()"
   ]
  },
  {
   "cell_type": "code",
   "execution_count": 3,
   "metadata": {
    "jupyter": {
     "source_hidden": true
    },
    "pycharm": {
     "name": "#%%\n"
    }
   },
   "outputs": [],
   "source": [
    "# Cria conexão com a base de datos sqlite\n",
    "conn = sqlite3.connect('dados/tcu-acordaos.db')"
   ]
  },
  {
   "cell_type": "code",
   "execution_count": 4,
   "metadata": {
    "collapsed": false,
    "jupyter": {
     "outputs_hidden": false
    },
    "pycharm": {
     "name": "#%%\n"
    }
   },
   "outputs": [
    {
     "name": "stdout",
     "output_type": "stream",
     "text": [
      "Duration: 0:00:13.333707\n"
     ]
    }
   ],
   "source": [
    "# Cria o dataframe df_acordaos\n",
    "start_time = datetime.now()\n",
    "df_acordaos = pd.read_sql_query('SELECT * from acordaos', conn)\n",
    "print('Duration: {}'.format(datetime.now() - start_time))"
   ]
  },
  {
   "cell_type": "code",
   "execution_count": 5,
   "metadata": {
    "collapsed": false,
    "jupyter": {
     "outputs_hidden": false
    },
    "pycharm": {
     "name": "#%%\n"
    }
   },
   "outputs": [
    {
     "name": "stdout",
     "output_type": "stream",
     "text": [
      "(298942, 20) \n",
      "\n",
      "Index(['id', 'urn', 'ano_acordao', 'numero_acordao', 'relator', 'processo',\n",
      "       'tipo_processo', 'data_sessao', 'numero_ata',\n",
      "       'interessado_reponsavel_recorrente', 'entidade', 'representante_mp',\n",
      "       'unidade_tecnica', 'repr_legal', 'assunto', 'sumario', 'acordao',\n",
      "       'quorum', 'relatorio', 'voto'],\n",
      "      dtype='object') \n",
      "\n",
      "<class 'pandas.core.frame.DataFrame'>\n",
      "RangeIndex: 298942 entries, 0 to 298941\n",
      "Data columns (total 20 columns):\n",
      " #   Column                             Non-Null Count   Dtype \n",
      "---  ------                             --------------   ----- \n",
      " 0   id                                 298942 non-null  int64 \n",
      " 1   urn                                298942 non-null  object\n",
      " 2   ano_acordao                        298942 non-null  int64 \n",
      " 3   numero_acordao                     298123 non-null  object\n",
      " 4   relator                            298470 non-null  object\n",
      " 5   processo                           298562 non-null  object\n",
      " 6   tipo_processo                      298470 non-null  object\n",
      " 7   data_sessao                        298562 non-null  object\n",
      " 8   numero_ata                         298470 non-null  object\n",
      " 9   interessado_reponsavel_recorrente  297679 non-null  object\n",
      " 10  entidade                           297777 non-null  object\n",
      " 11  representante_mp                   297854 non-null  object\n",
      " 12  unidade_tecnica                    298138 non-null  object\n",
      " 13  repr_legal                         298285 non-null  object\n",
      " 14  assunto                            266551 non-null  object\n",
      " 15  sumario                            269290 non-null  object\n",
      " 16  acordao                            298447 non-null  object\n",
      " 17  quorum                             269543 non-null  object\n",
      " 18  relatorio                          269199 non-null  object\n",
      " 19  voto                               269199 non-null  object\n",
      "dtypes: int64(2), object(18)\n",
      "memory usage: 45.6+ MB\n",
      "None \n",
      "\n"
     ]
    }
   ],
   "source": [
    "print(df_acordaos.shape, '\\n')\n",
    "\n",
    "# Mostra as colunas da base\n",
    "print(df_acordaos.columns, '\\n')\n",
    "\n",
    "print(df_acordaos.info(), '\\n')"
   ]
  },
  {
   "cell_type": "code",
   "execution_count": 6,
   "metadata": {
    "collapsed": false,
    "jupyter": {
     "outputs_hidden": false
    },
    "pycharm": {
     "name": "#%%\n"
    }
   },
   "outputs": [
    {
     "name": "stdout",
     "output_type": "stream",
     "text": [
      "<class 'pandas.core.frame.DataFrame'>\n",
      "RangeIndex: 298942 entries, 0 to 298941\n",
      "Data columns (total 20 columns):\n",
      " #   Column                             Non-Null Count   Dtype \n",
      "---  ------                             --------------   ----- \n",
      " 0   ID                                 298942 non-null  int64 \n",
      " 1   URN                                298942 non-null  object\n",
      " 2   ANO_ACORDAO                        298942 non-null  object\n",
      " 3   NUMERO_ACORDAO                     298123 non-null  object\n",
      " 4   RELATOR                            298470 non-null  object\n",
      " 5   PROCESSO                           298562 non-null  object\n",
      " 6   TIPO_PROCESSO                      298470 non-null  object\n",
      " 7   DATA_SESSAO                        298562 non-null  object\n",
      " 8   NUMERO_ATA                         298470 non-null  object\n",
      " 9   INTERESSADO_REPONSAVEL_RECORRENTE  297679 non-null  object\n",
      " 10  ENTIDADE                           297777 non-null  object\n",
      " 11  REPRESENTANTE_MP                   297854 non-null  object\n",
      " 12  UNIDADE_TECNICA                    298138 non-null  object\n",
      " 13  REPR_LEGAL                         298285 non-null  object\n",
      " 14  ASSUNTO                            266551 non-null  object\n",
      " 15  SUMARIO                            269290 non-null  object\n",
      " 16  ACORDAO                            298447 non-null  object\n",
      " 17  QUORUM                             269543 non-null  object\n",
      " 18  RELATORIO                          269199 non-null  object\n",
      " 19  VOTO                               269199 non-null  object\n",
      "dtypes: int64(1), object(19)\n",
      "memory usage: 45.6+ MB\n"
     ]
    }
   ],
   "source": [
    "# Transfora em string as colunas ano_acordao\n",
    "df_acordaos['ano_acordao'] = df_acordaos['ano_acordao'].map(str)\n",
    "\n",
    "df_acordaos.rename(str.upper, axis='columns', inplace=True)\n",
    "df_acordaos.info()"
   ]
  },
  {
   "cell_type": "code",
   "execution_count": 7,
   "metadata": {
    "collapsed": false,
    "jupyter": {
     "outputs_hidden": false
    },
    "pycharm": {
     "name": "#%%\n"
    }
   },
   "outputs": [
    {
     "name": "stdout",
     "output_type": "stream",
     "text": [
      "495\n",
      "29743\n",
      "29743\n",
      "0\n",
      "0\n",
      "0\n"
     ]
    }
   ],
   "source": [
    "# Verifica a quantidade de registros marcados como None\n",
    "print(df_acordaos[df_acordaos['ACORDAO'].values == None].shape[0])\n",
    "print(df_acordaos[df_acordaos['RELATORIO'].values == None].shape[0])\n",
    "print(df_acordaos[df_acordaos['VOTO'].values == None].shape[0])\n",
    "\n",
    "# Converte os valores None para np.NaN\n",
    "df_acordaos.loc[df_acordaos['ACORDAO'].values == None, 'ACORDAO'] = np.NaN\n",
    "df_acordaos.loc[df_acordaos['RELATORIO'].values == None, 'RELATORIO'] = np.NaN\n",
    "df_acordaos.loc[df_acordaos['VOTO'].values == None, 'VOTO'] = np.NaN\n",
    "\n",
    "# Confirmação\n",
    "print(df_acordaos[df_acordaos['ACORDAO'].values == None].shape[0])\n",
    "print(df_acordaos[df_acordaos['RELATORIO'].values == None].shape[0])\n",
    "print(df_acordaos[df_acordaos['VOTO'].values == None].shape[0])"
   ]
  },
  {
   "cell_type": "code",
   "execution_count": 8,
   "metadata": {
    "collapsed": false,
    "jupyter": {
     "outputs_hidden": false
    },
    "pycharm": {
     "name": "#%%\n"
    }
   },
   "outputs": [],
   "source": [
    "# Retira colunas que não interessam para o trabalho\n",
    "df_acordaos = df_acordaos.drop(['REPRESENTANTE_MP', 'UNIDADE_TECNICA', 'REPR_LEGAL', 'QUORUM', \n",
    "                                'INTERESSADO_REPONSAVEL_RECORRENTE'], axis=1)"
   ]
  },
  {
   "cell_type": "code",
   "execution_count": 9,
   "metadata": {
    "collapsed": false,
    "jupyter": {
     "outputs_hidden": false
    },
    "pycharm": {
     "name": "#%%\n"
    }
   },
   "outputs": [],
   "source": [
    "def imprime_proc_sigilo():\n",
    "    print('Qtde de acordãos sem número de processo: ', df_acordaos[df_acordaos.PROCESSO.isnull()].shape[0])\n",
    "    print('Qtde de acordãos com tipo de processo SIGILOSO: ', df_acordaos[(df_acordaos.TIPO_PROCESSO == 'SIGILOSO')].shape[0])\n",
    "    print('Qtde de acordãos com acordao SIGILOSO: ', df_acordaos[(df_acordaos.ACORDAO == 'SIGILOSO') | (df_acordaos.ACORDAO == 'None')].shape[0])\n",
    "    print('Qtde de acordãos com voto SIGILOSO: ', df_acordaos[(df_acordaos.VOTO == 'SIGILOSO')  | (df_acordaos.VOTO == 'None')].shape[0])\n",
    "    print('Qtde de acordãos com entidade SIGILOSO: ', df_acordaos[(df_acordaos.ENTIDADE == 'SIGILOSO')  | (df_acordaos.ENTIDADE == 'None')].shape[0])\n",
    "    print('Qtde de acordãos com Número de Acórdão não utilizado: ', df_acordaos[df_acordaos.SUMARIO == 'Número de Acórdão não utilizado'].shape[0], '\\n')\n",
    "    \n",
    "    qtdeSigiloso = df_acordaos[(df_acordaos['ENTIDADE'] == 'SIGILOSO') | (df_acordaos['TIPO_PROCESSO'].str.upper == 'SIGILOGO')\n",
    "                               | (df_acordaos['SUMARIO'].str.upper == 'SIGILOGO')\n",
    "                               | (df_acordaos['ACORDAO'].str.upper == 'SIGILOGO')\n",
    "                               | (df_acordaos['RELATORIO'].str.upper == 'SIGILOGO')\n",
    "                               | (df_acordaos['ENTIDADE'].str.upper == 'SIGILOGO')\n",
    "                               | (df_acordaos['VOTO'].str.upper == 'SIGILOGO')\n",
    "                               | (df_acordaos.SUMARIO == 'Número de Acórdão não utilizado')].shape[0]\n",
    "\n",
    "    print('Quantidade de acordãos marcados com sigilo: ', qtdeSigiloso, '\\n')\n",
    "    del qtdeSigiloso"
   ]
  },
  {
   "cell_type": "code",
   "execution_count": 10,
   "metadata": {
    "collapsed": false,
    "jupyter": {
     "outputs_hidden": false
    },
    "pycharm": {
     "name": "#%%\n"
    }
   },
   "outputs": [
    {
     "name": "stdout",
     "output_type": "stream",
     "text": [
      "Qtde de acordãos sem número de processo:  380\n",
      "Qtde de acordãos com tipo de processo SIGILOSO:  5201\n",
      "Qtde de acordãos com acordao SIGILOSO:  1787\n",
      "Qtde de acordãos com voto SIGILOSO:  2597\n",
      "Qtde de acordãos com entidade SIGILOSO:  5542\n",
      "Qtde de acordãos com Número de Acórdão não utilizado:  92 \n",
      "\n",
      "Quantidade de acordãos marcados com sigilo:  5630 \n",
      "\n",
      "Removendo os registros...\n",
      "298562\n",
      "293361\n",
      "293087\n",
      "292277\n",
      "292207\n",
      "292115 \n",
      "\n",
      "Qtde de acordãos sem número de processo:  0\n",
      "Qtde de acordãos com tipo de processo SIGILOSO:  0\n",
      "Qtde de acordãos com acordao SIGILOSO:  0\n",
      "Qtde de acordãos com voto SIGILOSO:  0\n",
      "Qtde de acordãos com entidade SIGILOSO:  0\n",
      "Qtde de acordãos com Número de Acórdão não utilizado:  0 \n",
      "\n",
      "Quantidade de acordãos marcados com sigilo:  0 \n",
      "\n"
     ]
    }
   ],
   "source": [
    "imprime_proc_sigilo()\n",
    "\n",
    "\n",
    "print('Removendo os registros...')\n",
    "df_acordaos = df_acordaos[df_acordaos.PROCESSO.notnull()]\n",
    "print(df_acordaos.shape[0])\n",
    "df_acordaos = df_acordaos.drop(df_acordaos.index[df_acordaos['TIPO_PROCESSO'] =='SIGILOSO'])\n",
    "print(df_acordaos.shape[0])\n",
    "df_acordaos = df_acordaos.drop(df_acordaos.index[(df_acordaos['ACORDAO'] == 'SIGILOSO') | (df_acordaos['ACORDAO'] == 'None')])\n",
    "print(df_acordaos.shape[0])\n",
    "df_acordaos = df_acordaos.drop(df_acordaos.index[(df_acordaos['VOTO'] == 'SIGILOSO') | (df_acordaos['VOTO'] == 'None')])\n",
    "print(df_acordaos.shape[0])\n",
    "df_acordaos = df_acordaos.drop(df_acordaos.index[(df_acordaos['ENTIDADE'] == 'SIGILOSO') | (df_acordaos['ENTIDADE'] == 'None')])\n",
    "print(df_acordaos.shape[0])\n",
    "df_acordaos = df_acordaos.drop(df_acordaos.index[(df_acordaos['SUMARIO'] == 'Número de Acórdão não utilizado')])\n",
    "print(df_acordaos.shape[0], '\\n')\n",
    "\n",
    "\n",
    "imprime_proc_sigilo()"
   ]
  },
  {
   "cell_type": "code",
   "execution_count": 11,
   "metadata": {},
   "outputs": [],
   "source": [
    "pattern = re.compile('\\D')\n",
    "\n",
    "\n",
    "def format_numero_acordao(valor):\n",
    "    string = re.sub(pattern, '', valor)\n",
    "    if len(string)>4:\n",
    "        return string[:-4]\n",
    "    else:\n",
    "        return string"
   ]
  },
  {
   "cell_type": "code",
   "execution_count": 12,
   "metadata": {},
   "outputs": [],
   "source": [
    "df_acordaos.NUMERO_ACORDAO = df_acordaos.NUMERO_ACORDAO.apply(format_numero_acordao)"
   ]
  },
  {
   "cell_type": "code",
   "execution_count": 13,
   "metadata": {
    "collapsed": false,
    "jupyter": {
     "outputs_hidden": false
    },
    "pycharm": {
     "name": "#%%\n"
    }
   },
   "outputs": [
    {
     "name": "stdout",
     "output_type": "stream",
     "text": [
      "Duration: 0:00:09.701902\n"
     ]
    }
   ],
   "source": [
    "start_time = datetime.now()\n",
    "\n",
    "df_acordaos['ID'] = df_acordaos.apply(tools.criaChaveAcordaoPrincipal, axis=1)\n",
    "\n",
    "print('Duration: {}'.format(datetime.now() - start_time))"
   ]
  },
  {
   "cell_type": "code",
   "execution_count": 14,
   "metadata": {
    "collapsed": false,
    "jupyter": {
     "outputs_hidden": false
    },
    "pycharm": {
     "name": "#%%\n"
    }
   },
   "outputs": [
    {
     "data": {
      "text/html": [
       "<div>\n",
       "<style scoped>\n",
       "    .dataframe tbody tr th:only-of-type {\n",
       "        vertical-align: middle;\n",
       "    }\n",
       "\n",
       "    .dataframe tbody tr th {\n",
       "        vertical-align: top;\n",
       "    }\n",
       "\n",
       "    .dataframe thead th {\n",
       "        text-align: right;\n",
       "    }\n",
       "</style>\n",
       "<table border=\"1\" class=\"dataframe\">\n",
       "  <thead>\n",
       "    <tr style=\"text-align: right;\">\n",
       "      <th></th>\n",
       "      <th>ID</th>\n",
       "      <th>URN</th>\n",
       "      <th>ANO_ACORDAO</th>\n",
       "      <th>NUMERO_ACORDAO</th>\n",
       "      <th>RELATOR</th>\n",
       "      <th>PROCESSO</th>\n",
       "      <th>TIPO_PROCESSO</th>\n",
       "      <th>DATA_SESSAO</th>\n",
       "      <th>NUMERO_ATA</th>\n",
       "      <th>ENTIDADE</th>\n",
       "      <th>ASSUNTO</th>\n",
       "      <th>SUMARIO</th>\n",
       "      <th>ACORDAO</th>\n",
       "      <th>RELATORIO</th>\n",
       "      <th>VOTO</th>\n",
       "    </tr>\n",
       "  </thead>\n",
       "  <tbody>\n",
       "    <tr>\n",
       "      <th>294848</th>\n",
       "      <td>AC-002011-2019-PL</td>\n",
       "      <td>NA</td>\n",
       "      <td>2019</td>\n",
       "      <td>2011</td>\n",
       "      <td>AROLDO CEDRAZ</td>\n",
       "      <td>017.162/2007-1</td>\n",
       "      <td>Tomada de contas especial instaurada em razão ...</td>\n",
       "      <td>28/08/2019</td>\n",
       "      <td>33/2019-Plenário</td>\n",
       "      <td>Associação dos Irrigantes da Barragem de Terra...</td>\n",
       "      <td>Tomada de contas especial instaurada em razão ...</td>\n",
       "      <td>TOMADA DE CONTAS ESPECIAL. NÃO COMPROVAÇÃO DA ...</td>\n",
       "      <td>VISTOS, relatados e discutidos estes autos de ...</td>\n",
       "      <td>Inicio este Relatório transcrevendo, com algun...</td>\n",
       "      <td>Conforme consignado no Relatório precedente, t...</td>\n",
       "    </tr>\n",
       "    <tr>\n",
       "      <th>295941</th>\n",
       "      <td>AC-002011-2019-PL</td>\n",
       "      <td>NA</td>\n",
       "      <td>2019</td>\n",
       "      <td>2011</td>\n",
       "      <td>AROLDO CEDRAZ</td>\n",
       "      <td>017.162/2007-1</td>\n",
       "      <td>Tomada de contas especial instaurada em razão ...</td>\n",
       "      <td>28/08/2019</td>\n",
       "      <td>33/2019-Plenário</td>\n",
       "      <td>Associação dos Irrigantes da Barragem de Terra...</td>\n",
       "      <td>Tomada de contas especial instaurada em razão ...</td>\n",
       "      <td>TOMADA DE CONTAS ESPECIAL. NÃO COMPROVAÇÃO DA ...</td>\n",
       "      <td>VISTOS, relatados e discutidos estes autos de ...</td>\n",
       "      <td>Inicio este Relatório transcrevendo, com algun...</td>\n",
       "      <td>Conforme consignado no Relatório precedente, t...</td>\n",
       "    </tr>\n",
       "  </tbody>\n",
       "</table>\n",
       "</div>"
      ],
      "text/plain": [
       "                       ID  ...                                               VOTO\n",
       "294848  AC-002011-2019-PL  ...  Conforme consignado no Relatório precedente, t...\n",
       "295941  AC-002011-2019-PL  ...  Conforme consignado no Relatório precedente, t...\n",
       "\n",
       "[2 rows x 15 columns]"
      ]
     },
     "execution_count": 14,
     "metadata": {},
     "output_type": "execute_result"
    }
   ],
   "source": [
    "df_acordaos[df_acordaos.duplicated(['NUMERO_ACORDAO', 'PROCESSO', 'DATA_SESSAO'])]"
   ]
  },
  {
   "cell_type": "code",
   "execution_count": 15,
   "metadata": {
    "collapsed": false,
    "jupyter": {
     "outputs_hidden": false
    },
    "pycharm": {
     "name": "#%%\n"
    }
   },
   "outputs": [],
   "source": [
    "df_acordaos.drop_duplicates(subset=['NUMERO_ACORDAO', 'PROCESSO', 'DATA_SESSAO'], keep='last', inplace=True)"
   ]
  },
  {
   "cell_type": "code",
   "execution_count": 16,
   "metadata": {
    "collapsed": false,
    "jupyter": {
     "outputs_hidden": false
    },
    "pycharm": {
     "name": "#%%\n"
    }
   },
   "outputs": [
    {
     "name": "stdout",
     "output_type": "stream",
     "text": [
      "Quantidade de ACÓRDÃOS nulos:  23\n",
      "Quantidade de registros repetidos nos campos VOTO e ACÓRDAO: 19\n",
      "Quantidade de registros repetidos nos campos RELATÓRIO e ACÓRDAO: 18\n"
     ]
    }
   ],
   "source": [
    "print('Quantidade de ACÓRDÃOS nulos: ', df_acordaos[df_acordaos['ACORDAO'].isnull() == True].shape[0])\n",
    "print('Quantidade de registros repetidos nos campos VOTO e ACÓRDAO:', df_acordaos[df_acordaos['VOTO'].eq(df_acordaos['ACORDAO'])].shape[0])\n",
    "print('Quantidade de registros repetidos nos campos RELATÓRIO e ACÓRDAO:', df_acordaos[df_acordaos['RELATORIO'].eq(df_acordaos['ACORDAO'])].shape[0])"
   ]
  },
  {
   "cell_type": "code",
   "execution_count": 17,
   "metadata": {
    "collapsed": false,
    "jupyter": {
     "outputs_hidden": false
    },
    "pycharm": {
     "name": "#%%\n"
    }
   },
   "outputs": [],
   "source": [
    "df_acordaos['DECISAO'] = df_acordaos['ACORDAO'].map(str) + ' ' + df_acordaos['VOTO'].map(str) + ' ' + df_acordaos['RELATORIO'].map(str)"
   ]
  },
  {
   "cell_type": "code",
   "execution_count": 18,
   "metadata": {
    "collapsed": false,
    "jupyter": {
     "outputs_hidden": false
    },
    "pycharm": {
     "name": "#%%\n"
    }
   },
   "outputs": [
    {
     "name": "stdout",
     "output_type": "stream",
     "text": [
      "<class 'pandas.core.frame.DataFrame'>\n",
      "Int64Index: 292113 entries, 0 to 298941\n",
      "Data columns (total 3 columns):\n",
      " #   Column   Non-Null Count   Dtype \n",
      "---  ------   --------------   ----- \n",
      " 0   ID       292113 non-null  object\n",
      " 1   ASSUNTO  260194 non-null  object\n",
      " 2   DECISAO  292113 non-null  object\n",
      "dtypes: object(3)\n",
      "memory usage: 8.9+ MB\n"
     ]
    }
   ],
   "source": [
    "# Retira colunas que não interessam para o trabalho\n",
    "df_acordaos = df_acordaos.drop(['URN', 'ANO_ACORDAO', \n",
    "                                'NUMERO_ACORDAO', 'RELATOR', 'PROCESSO', 'DATA_SESSAO', 'NUMERO_ATA', \n",
    "                                'ENTIDADE', 'SUMARIO', 'TIPO_PROCESSO', 'ACORDAO', 'VOTO', 'RELATORIO'], axis=1)\n",
    "\n",
    "df_acordaos.info()"
   ]
  },
  {
   "cell_type": "markdown",
   "metadata": {},
   "source": [
    "<h2>Trabalhando com o dataset de acórdãos rotulados"
   ]
  },
  {
   "cell_type": "code",
   "execution_count": 19,
   "metadata": {
    "pycharm": {
     "name": "#%%\n"
    }
   },
   "outputs": [],
   "source": [
    "df_rotulados = pd.read_excel('dados/acordaos_rotulados.xlsx', sheet_name='Sheet1')\n",
    "df_rotulados.insert(0, 'ID', '')"
   ]
  },
  {
   "cell_type": "code",
   "execution_count": 20,
   "metadata": {
    "collapsed": false,
    "jupyter": {
     "outputs_hidden": false
    },
    "pycharm": {
     "name": "#%%\n"
    }
   },
   "outputs": [],
   "source": [
    "df_rotulados.rename(str.upper, axis='columns', inplace=True)\n",
    "df_rotulados.rename(columns={'LABELCLASSE': 'CLASSE_TEMP', 'TÍTULO': 'TITULO', 'SUMÁRIO': 'SUMARIO', \n",
    "                            'TIPO DE PROCESSO': 'TIPO_PROCESSO',\n",
    "                           'INTERESSADO / RESPONSÁVEL / RECORRENTE': 'INTERESSADO', \n",
    "                           'REPRESENTANTE DO MINISTÉRIO PÚBLICO': 'REP_MP',\n",
    "                           'UNIDADE TÉCNICA': 'UNIDADE_TECNICA', 'REPRESENTANTE LEGAL': 'REP_LEGAL',\n",
    "                           'ENDEREÇO DO ARQUIVO': 'FILE_PATH'}, inplace=True)\n"
   ]
  },
  {
   "cell_type": "code",
   "execution_count": 21,
   "metadata": {
    "collapsed": false,
    "jupyter": {
     "outputs_hidden": false
    },
    "pycharm": {
     "name": "#%%\n"
    }
   },
   "outputs": [
    {
     "data": {
      "text/plain": [
       "13    107\n",
       "5      96\n",
       "14     82\n",
       "8      57\n",
       "9      49\n",
       "11     46\n",
       "7      46\n",
       "10     41\n",
       "6      25\n",
       "12     22\n",
       "4      21\n",
       "3      19\n",
       "2      17\n",
       "1       6\n",
       "Name: CLASSE_TEMP, dtype: int64"
      ]
     },
     "execution_count": 21,
     "metadata": {},
     "output_type": "execute_result"
    }
   ],
   "source": [
    "# Converte a classe em categorias\n",
    "for i in range(0,14):\n",
    "    df_rotulados.loc[df_rotulados['CLASSE_TEMP'] == 'classe' + str(i+1), ['CLASSE_TEMP']] = i+1\n",
    "    \n",
    "df_rotulados.CLASSE_TEMP.value_counts()"
   ]
  },
  {
   "cell_type": "code",
   "execution_count": 22,
   "metadata": {
    "collapsed": false,
    "jupyter": {
     "outputs_hidden": false
    },
    "pycharm": {
     "name": "#%%\n"
    }
   },
   "outputs": [],
   "source": [
    "# Insere o valor do campo ID\n",
    "for index, row in df_rotulados.iterrows():\n",
    "    df_rotulados.loc[index, 'ID'] = tools.criaChaveAcordao(df_rotulados.iloc[index].TITULO)"
   ]
  },
  {
   "cell_type": "code",
   "execution_count": 23,
   "metadata": {
    "collapsed": false,
    "jupyter": {
     "outputs_hidden": false
    },
    "pycharm": {
     "name": "#%%\n"
    }
   },
   "outputs": [
    {
     "name": "stdout",
     "output_type": "stream",
     "text": [
      "<class 'pandas.core.frame.DataFrame'>\n",
      "Int64Index: 479 entries, 0 to 633\n",
      "Data columns (total 2 columns):\n",
      " #   Column  Non-Null Count  Dtype \n",
      "---  ------  --------------  ----- \n",
      " 0   ID      479 non-null    object\n",
      " 1   CLASSE  479 non-null    object\n",
      "dtypes: object(2)\n",
      "memory usage: 11.2+ KB\n"
     ]
    }
   ],
   "source": [
    "df_temp = df_rotulados.copy()\n",
    "\n",
    "# Retira colunas que não interessam para o trabalho\n",
    "df_rotulados = df_rotulados[['ID']]\n",
    "df_rotulados.insert(1, 'CLASSE', '0')\n",
    "df_rotulados.drop_duplicates(subset=['ID'], keep='first', inplace=True)\n",
    "df_rotulados.info()"
   ]
  },
  {
   "cell_type": "code",
   "execution_count": 24,
   "metadata": {},
   "outputs": [],
   "source": [
    "def agrupar_multi_labels(df_base, df_compare):\n",
    "    count = 0\n",
    "    for index, row in df_base.iterrows():\n",
    "        for index_comp, row_comp in df_compare.iterrows():\n",
    "            try:\n",
    "                if row.ID == row_comp.ID:\n",
    "                    if row.CLASSE == '0':\n",
    "                        df_base.loc[index]['CLASSE'] = str(row_comp.CLASSE_TEMP)\n",
    "                    else:\n",
    "                        df_base.loc[index]['CLASSE'] = df_base.loc[index]['CLASSE'] + ';' + str(row_comp.CLASSE_TEMP)\n",
    "            except Exception as ex:\n",
    "                print(ex)\n",
    "    return df_base"
   ]
  },
  {
   "cell_type": "code",
   "execution_count": 25,
   "metadata": {},
   "outputs": [
    {
     "name": "stdout",
     "output_type": "stream",
     "text": [
      "Duration: 0:00:22.172912\n"
     ]
    }
   ],
   "source": [
    "start_time = datetime.now()\n",
    "df_rotulados = agrupar_multi_labels(df_rotulados, df_temp)\n",
    "print('Duration: {}'.format(datetime.now() - start_time))\n",
    "del df_temp"
   ]
  },
  {
   "cell_type": "code",
   "execution_count": 26,
   "metadata": {},
   "outputs": [
    {
     "name": "stdout",
     "output_type": "stream",
     "text": [
      "<class 'pandas.core.frame.DataFrame'>\n",
      "Int64Index: 292113 entries, 0 to 292112\n",
      "Data columns (total 4 columns):\n",
      " #   Column   Non-Null Count   Dtype \n",
      "---  ------   --------------   ----- \n",
      " 0   ID       292113 non-null  object\n",
      " 1   ASSUNTO  260194 non-null  object\n",
      " 2   DECISAO  292113 non-null  object\n",
      " 3   CLASSE   448 non-null     object\n",
      "dtypes: object(4)\n",
      "memory usage: 11.1+ MB\n"
     ]
    }
   ],
   "source": [
    "df_left = pd.merge(df_acordaos, df_rotulados, on='ID', how='left')\n",
    "del df_acordaos\n",
    "df_left.info()"
   ]
  },
  {
   "cell_type": "code",
   "execution_count": 27,
   "metadata": {
    "collapsed": false,
    "jupyter": {
     "outputs_hidden": false
    },
    "pycharm": {
     "name": "#%%\n"
    }
   },
   "outputs": [
    {
     "name": "stdout",
     "output_type": "stream",
     "text": [
      "Duration: 0:01:11.476355\n"
     ]
    }
   ],
   "source": [
    "# Salva o arquivo em um csv\n",
    "tools.save_file(df_left, 'dados/df_acordaos.csv')"
   ]
  },
  {
   "cell_type": "code",
   "execution_count": 28,
   "metadata": {},
   "outputs": [],
   "source": [
    "new_columns = ['CLASSE1', 'CLASSE2', 'CLASSE3', 'CLASSE4']\n",
    "df_temp = df_left[df_left.CLASSE.notnull()][['ID', 'CLASSE', 'ASSUNTO', 'DECISAO']]\n",
    "df = pd.DataFrame(df_temp.CLASSE.str.split(';').tolist(), columns= new_columns)\n",
    "df_temp = df_temp.assign(CLASSE1 = df.CLASSE1.tolist())\n",
    "df_temp = df_temp.assign(CLASSE2 = df.CLASSE2.tolist())\n",
    "df_temp = df_temp.assign(CLASSE3 = df.CLASSE3.tolist())\n",
    "df_temp = df_temp.assign(CLASSE4 = df.CLASSE4.tolist())\n",
    "del df_left\n",
    "df_temp.drop('CLASSE', axis=1, inplace=True)"
   ]
  },
  {
   "cell_type": "code",
   "execution_count": 29,
   "metadata": {},
   "outputs": [
    {
     "name": "stdout",
     "output_type": "stream",
     "text": [
      "Duration: 0:00:00.972902\n"
     ]
    }
   ],
   "source": [
    "tools.save_file(df_temp, 'dados/df_rotulados.csv')\n",
    "del df_temp"
   ]
  }
 ],
 "metadata": {
  "kernelspec": {
   "display_name": "xpython",
   "language": "python",
   "name": "xpython"
  },
  "language_info": {
   "file_extension": ".py",
   "mimetype": "text/x-python",
   "name": "python",
   "version": "3.8.2"
  }
 },
 "nbformat": 4,
 "nbformat_minor": 4
}
