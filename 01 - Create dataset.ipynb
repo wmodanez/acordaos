{
 "cells": [
  {
   "cell_type": "code",
   "execution_count": 1,
   "metadata": {
    "collapsed": false,
    "jupyter": {
     "outputs_hidden": false
    },
    "pycharm": {
     "name": "#%%\n"
    }
   },
   "outputs": [],
   "source": [
    "import re\n",
    "\n",
    "import numpy as np\n",
    "import pandas as pd\n",
    "\n",
    "from pathlib import Path\n",
    "from datetime import datetime"
   ]
  },
  {
   "cell_type": "code",
   "execution_count": 2,
   "metadata": {},
   "outputs": [
    {
     "name": "stdout",
     "output_type": "stream",
     "text": [
      "Duration: 0:00:38.754526\n",
      "<class 'pandas.core.frame.DataFrame'>\n",
      "RangeIndex: 309806 entries, 0 to 309805\n",
      "Data columns (total 28 columns):\n",
      " #   Column                            Non-Null Count   Dtype  \n",
      "---  ------                            --------------   -----  \n",
      " 0   ACORDAO                           288120 non-null  object \n",
      " 1   ADVOGADO                          223477 non-null  object \n",
      " 2   ANOACORDAO                        309806 non-null  int64  \n",
      " 3   ASSUNTO                           77524 non-null   object \n",
      " 4   COLEGIADO                         309806 non-null  object \n",
      " 5   DATASESSAO                        308360 non-null  object \n",
      " 6   DECISAO                           19451 non-null   object \n",
      " 7   DECLARACAOVOTO                    3328 non-null    object \n",
      " 8   ENTIDADE                          253844 non-null  object \n",
      " 9   INTERESSADOS                      255674 non-null  object \n",
      " 10  MINISTROALEGOUIMPEDIMENTOSESSAO   5185 non-null    object \n",
      " 11  MINISTROAPRESENTOUDECLARACAOVOTO  744 non-null     object \n",
      " 12  MINISTROAUTORVOTOVENCEDOR         198161 non-null  object \n",
      " 13  MINISTROREVISOR                   4722 non-null    object \n",
      " 14  NUMACORDAO                        309806 non-null  object \n",
      " 15  NUMATA                            307239 non-null  object \n",
      " 16  PROC                              307121 non-null  object \n",
      " 17  RECURSOS                          6029 non-null    object \n",
      " 18  RELATOR                           307262 non-null  object \n",
      " 19  RELATORDELIBERACAORECORRIDA       0 non-null       float64\n",
      " 20  RELATORIO                         110737 non-null  object \n",
      " 21  REPRESENTANTEMP                   156269 non-null  object \n",
      " 22  SUMARIO                           115466 non-null  object \n",
      " 23  TIPOPROCESSO                      298928 non-null  object \n",
      " 24  UNIDADETECNICA                    245667 non-null  object \n",
      " 25  VOTO                              110475 non-null  object \n",
      " 26  VOTOCOMPLEMENTAR                  2517 non-null    object \n",
      " 27  VOTOMINISTROREVISOR               2925 non-null    object \n",
      "dtypes: float64(1), int64(1), object(26)\n",
      "memory usage: 66.2+ MB\n"
     ]
    }
   ],
   "source": [
    "# Carregar o dataframe df_acordaos\n",
    "start_time = datetime.now()\n",
    "df_acordaos = pd.read_csv('dados/acordaos.csv', sep=',', error_bad_lines=False, warn_bad_lines=False, low_memory=False)\n",
    "df_acordaos.rename(str.upper, axis='columns', inplace=True)\n",
    "print('Duration: {}'.format(datetime.now() - start_time))\n",
    "df_acordaos.info()"
   ]
  },
  {
   "cell_type": "code",
   "execution_count": 3,
   "metadata": {},
   "outputs": [
    {
     "name": "stdout",
     "output_type": "stream",
     "text": [
      "<class 'pandas.core.frame.DataFrame'>\n",
      "RangeIndex: 309806 entries, 0 to 309805\n",
      "Data columns (total 16 columns):\n",
      " #   Column               Non-Null Count   Dtype \n",
      "---  ------               --------------   ----- \n",
      " 0   ACORDAO              288120 non-null  object\n",
      " 1   ANO_ACORDAO          309806 non-null  int64 \n",
      " 2   ASSUNTO              77524 non-null   object\n",
      " 3   COLEGIADO            309806 non-null  object\n",
      " 4   DATA_SESSAO          308360 non-null  object\n",
      " 5   DECISAO              19451 non-null   object\n",
      " 6   NUMERO_ACORDAO       309806 non-null  object\n",
      " 7   NUMERO_ATA           307239 non-null  object\n",
      " 8   PROCESSO             307121 non-null  object\n",
      " 9   RELATOR              307262 non-null  object\n",
      " 10  RELATORIO            110737 non-null  object\n",
      " 11  SUMARIO              115466 non-null  object\n",
      " 12  TIPO_PROCESSO        298928 non-null  object\n",
      " 13  VOTO                 110475 non-null  object\n",
      " 14  VOTOCOMPLEMENTAR     2517 non-null    object\n",
      " 15  VOTOMINISTROREVISOR  2925 non-null    object\n",
      "dtypes: int64(1), object(15)\n",
      "memory usage: 37.8+ MB\n"
     ]
    }
   ],
   "source": [
    "df_acordaos.drop(['REPRESENTANTEMP', 'UNIDADETECNICA', 'UNIDADETECNICA', 'MINISTROREVISOR',\n",
    "                  'MINISTROAUTORVOTOVENCEDOR', 'MINISTROAPRESENTOUDECLARACAOVOTO',\n",
    "                 'MINISTROALEGOUIMPEDIMENTOSESSAO', 'INTERESSADOS', 'RECURSOS', 'ENTIDADE',\n",
    "                 'DECLARACAOVOTO', 'ADVOGADO', 'RELATORDELIBERACAORECORRIDA'], axis=1, inplace=True)\n",
    "\n",
    "df_acordaos.rename(columns={'ANOACORDAO':'ANO_ACORDAO', 'NUMACORDAO':'NUMERO_ACORDAO',\n",
    "                           'TIPOPROCESSO':'TIPO_PROCESSO', 'DATASESSAO':'DATA_SESSAO',\n",
    "                           'NUMATA':'NUMERO_ATA', 'PROC':'PROCESSO'}, inplace=True)\n",
    "\n",
    "df_acordaos.info()"
   ]
  },
  {
   "cell_type": "code",
   "execution_count": 4,
   "metadata": {},
   "outputs": [],
   "source": [
    "df_acordaos.insert(0, 'ID', range(1, len(df_acordaos)+1))\n",
    "# Transfora em string a coluna ID\n",
    "df_acordaos['ID'] = df_acordaos['ID'].map(str)\n",
    "df_acordaos['ANO_ACORDAO'] = df_acordaos['ANO_ACORDAO'].map(str)\n",
    "df_acordaos.insert(13, 'TIPO_DECISAO', np.NaN)"
   ]
  },
  {
   "cell_type": "code",
   "execution_count": 5,
   "metadata": {},
   "outputs": [],
   "source": [
    "# DE -> DECISAO = 19451 : 647 marcados como SIGILOSO por esse motivo não possui ACORDAO, VOTO, RELATORIO, SUMARIO\n",
    "df_acordaos.loc[(df_acordaos.DECISAO.notnull() == True) & ((df_acordaos.ACORDAO.isnull()==True) | (df_acordaos.ACORDAO.str.contains('SIGILOSO', na=False))), 'TIPO_DECISAO'] = 'DE'"
   ]
  },
  {
   "cell_type": "code",
   "execution_count": 6,
   "metadata": {},
   "outputs": [],
   "source": [
    "# AR -> ACORDAO DE RELACAO : 193963\n",
    "df_acordaos.loc[(df_acordaos.ACORDAO.notnull()) & (df_acordaos.DECISAO.isnull()) & (df_acordaos.RELATORIO.isnull()) & (df_acordaos.VOTO.isnull()), 'TIPO_DECISAO'] = 'AR'"
   ]
  },
  {
   "cell_type": "code",
   "execution_count": 7,
   "metadata": {},
   "outputs": [],
   "source": [
    "df_acordaos.loc[df_acordaos.TIPO_DECISAO.isna(), 'TIPO_DECISAO'] = 'AC'"
   ]
  },
  {
   "cell_type": "code",
   "execution_count": 8,
   "metadata": {},
   "outputs": [
    {
     "name": "stdout",
     "output_type": "stream",
     "text": [
      "<class 'pandas.core.frame.DataFrame'>\n",
      "RangeIndex: 309806 entries, 0 to 309805\n",
      "Data columns (total 18 columns):\n",
      " #   Column               Non-Null Count   Dtype \n",
      "---  ------               --------------   ----- \n",
      " 0   ID                   309806 non-null  object\n",
      " 1   ACORDAO              288120 non-null  object\n",
      " 2   ANO_ACORDAO          309806 non-null  object\n",
      " 3   ASSUNTO              77524 non-null   object\n",
      " 4   COLEGIADO            309806 non-null  object\n",
      " 5   DATA_SESSAO          308360 non-null  object\n",
      " 6   DECISAO              19451 non-null   object\n",
      " 7   NUMERO_ACORDAO       309806 non-null  object\n",
      " 8   NUMERO_ATA           307239 non-null  object\n",
      " 9   PROCESSO             307121 non-null  object\n",
      " 10  RELATOR              307262 non-null  object\n",
      " 11  RELATORIO            110737 non-null  object\n",
      " 12  SUMARIO              115466 non-null  object\n",
      " 13  TIPO_DECISAO         309806 non-null  object\n",
      " 14  TIPO_PROCESSO        298928 non-null  object\n",
      " 15  VOTO                 110475 non-null  object\n",
      " 16  VOTOCOMPLEMENTAR     2517 non-null    object\n",
      " 17  VOTOMINISTROREVISOR  2925 non-null    object\n",
      "dtypes: object(18)\n",
      "memory usage: 42.5+ MB\n"
     ]
    }
   ],
   "source": [
    "df_acordaos.info()"
   ]
  },
  {
   "cell_type": "code",
   "execution_count": 9,
   "metadata": {},
   "outputs": [],
   "source": [
    "def format_numero_acordao(valor):\n",
    "    string = re.sub(re.compile('\\D'), '', valor)\n",
    "    if len(string)>4:\n",
    "        return string[:-4]\n",
    "    else:\n",
    "        return string\n",
    "    \n",
    "    \n",
    "def extrairTipoSessao(texto):\n",
    "    if len(re.findall('PRIMEIRA', texto)) != 0:\n",
    "        return '1C'\n",
    "    elif len(re.findall('SEGUNDA', texto)) > 0:\n",
    "        return '2C'\n",
    "    else:\n",
    "        return 'PL'\n",
    "    \n",
    "    \n",
    "def criaChaveAcordao(row):\n",
    "\n",
    "    return row.TIPO_DECISAO + '-' + row.NUMERO_ACORDAO.zfill(6) + '-' + str(row.ANO_ACORDAO) + '-' + extrairTipoSessao(row.COLEGIADO.upper())"
   ]
  },
  {
   "cell_type": "code",
   "execution_count": 10,
   "metadata": {},
   "outputs": [],
   "source": [
    "df_acordaos.NUMERO_ACORDAO = df_acordaos.NUMERO_ACORDAO.apply(format_numero_acordao)"
   ]
  },
  {
   "cell_type": "code",
   "execution_count": 11,
   "metadata": {
    "collapsed": false,
    "jupyter": {
     "outputs_hidden": false
    },
    "pycharm": {
     "name": "#%%\n"
    }
   },
   "outputs": [
    {
     "name": "stdout",
     "output_type": "stream",
     "text": [
      "Duration: 0:00:07.649222\n"
     ]
    }
   ],
   "source": [
    "start_time = datetime.now()\n",
    "\n",
    "df_acordaos.ID = df_acordaos.apply(criaChaveAcordao, axis=1)\n",
    "\n",
    "print('Duration: {}'.format(datetime.now() - start_time))"
   ]
  },
  {
   "cell_type": "code",
   "execution_count": 12,
   "metadata": {},
   "outputs": [],
   "source": [
    "# 2871 registros com os campos, ACORDAO, DECISAO, VOTO e RELATORIO nulos simultaneamente e por isso excluídos\n",
    "df_acordaos.drop(df_acordaos.loc[(df_acordaos.ACORDAO.isnull()) & df_acordaos.DECISAO.isnull() & df_acordaos.RELATORIO.isnull() & df_acordaos.VOTO.isnull()].index, inplace=True)"
   ]
  },
  {
   "cell_type": "code",
   "execution_count": 13,
   "metadata": {},
   "outputs": [],
   "source": [
    "# Registros marcados como SILIGOSO e por esse motivo convertidos para NaN a fim de padronização\n",
    "df_acordaos.loc[(df_acordaos.ACORDAO.str.lower() == 'sigiloso'), 'ACORDAO'] = np.NaN\n",
    "df_acordaos.loc[(df_acordaos.DECISAO.str.lower() == 'sigiloso'), 'DECISAO'] = np.NaN\n",
    "df_acordaos.loc[(df_acordaos.RELATORIO.str.lower() == 'sigiloso'), 'RELATORIO'] = np.NaN\n",
    "df_acordaos.loc[(df_acordaos.VOTO.str.lower() == 'sigiloso'), 'VOTO'] = np.NaN"
   ]
  },
  {
   "cell_type": "code",
   "execution_count": 14,
   "metadata": {},
   "outputs": [],
   "source": [
    "df_acordaos.fillna('', inplace=True)"
   ]
  },
  {
   "cell_type": "code",
   "execution_count": 15,
   "metadata": {
    "collapsed": false,
    "jupyter": {
     "outputs_hidden": false
    },
    "pycharm": {
     "name": "#%%\n"
    }
   },
   "outputs": [],
   "source": [
    "df_acordaos['DECISAO'] = df_acordaos.ACORDAO + ' ' + df_acordaos.DECISAO + ' ' + df_acordaos.RELATORIO + ' ' + df_acordaos.VOTO + ' ' + df_acordaos.VOTOCOMPLEMENTAR + ' ' + df_acordaos.VOTOMINISTROREVISOR"
   ]
  },
  {
   "cell_type": "code",
   "execution_count": 16,
   "metadata": {
    "collapsed": false,
    "jupyter": {
     "outputs_hidden": false
    },
    "pycharm": {
     "name": "#%%\n"
    }
   },
   "outputs": [
    {
     "name": "stdout",
     "output_type": "stream",
     "text": [
      "<class 'pandas.core.frame.DataFrame'>\n",
      "Int64Index: 306935 entries, 0 to 309804\n",
      "Data columns (total 2 columns):\n",
      " #   Column   Non-Null Count   Dtype \n",
      "---  ------   --------------   ----- \n",
      " 0   ID       306935 non-null  object\n",
      " 1   DECISAO  306935 non-null  object\n",
      "dtypes: object(2)\n",
      "memory usage: 7.0+ MB\n"
     ]
    }
   ],
   "source": [
    "# Retira colunas que não interessam para o trabalho\n",
    "df_acordaos = df_acordaos.drop(['ANO_ACORDAO', 'ASSUNTO', 'COLEGIADO', 'DATA_SESSAO', 'NUMERO_ACORDAO', \n",
    "                                'NUMERO_ATA', 'PROCESSO', 'RELATOR', 'SUMARIO', 'TIPO_PROCESSO', 'ACORDAO', \n",
    "                                'VOTO', 'RELATORIO', 'VOTOCOMPLEMENTAR', 'VOTOMINISTROREVISOR', \n",
    "                                'TIPO_DECISAO'], axis=1)\n",
    "\n",
    "df_acordaos.info()"
   ]
  },
  {
   "cell_type": "code",
   "execution_count": 17,
   "metadata": {},
   "outputs": [
    {
     "data": {
      "text/html": [
       "<div>\n",
       "<style scoped>\n",
       "    .dataframe tbody tr th:only-of-type {\n",
       "        vertical-align: middle;\n",
       "    }\n",
       "\n",
       "    .dataframe tbody tr th {\n",
       "        vertical-align: top;\n",
       "    }\n",
       "\n",
       "    .dataframe thead th {\n",
       "        text-align: right;\n",
       "    }\n",
       "</style>\n",
       "<table border=\"1\" class=\"dataframe\">\n",
       "  <thead>\n",
       "    <tr style=\"text-align: right;\">\n",
       "      <th></th>\n",
       "      <th>ID</th>\n",
       "      <th>DECISAO</th>\n",
       "    </tr>\n",
       "  </thead>\n",
       "  <tbody>\n",
       "    <tr>\n",
       "      <th>15023</th>\n",
       "      <td>AC-000168-1997-1C</td>\n",
       "      <td>VISTOS,  relatados  e  discutidos estes autos ...</td>\n",
       "    </tr>\n",
       "    <tr>\n",
       "      <th>44659</th>\n",
       "      <td>AC-000333-2003-2C</td>\n",
       "      <td>VISTOS, relatados e discutidos estes autos de ...</td>\n",
       "    </tr>\n",
       "  </tbody>\n",
       "</table>\n",
       "</div>"
      ],
      "text/plain": [
       "                      ID                                            DECISAO\n",
       "15023  AC-000168-1997-1C  VISTOS,  relatados  e  discutidos estes autos ...\n",
       "44659  AC-000333-2003-2C  VISTOS, relatados e discutidos estes autos de ..."
      ]
     },
     "execution_count": 17,
     "metadata": {},
     "output_type": "execute_result"
    }
   ],
   "source": [
    "df_acordaos.sample(2)"
   ]
  },
  {
   "cell_type": "code",
   "execution_count": 18,
   "metadata": {},
   "outputs": [],
   "source": [
    "# df_acordaos.to_csv('dados/df_acordaos.csv', sep='|', index=False)"
   ]
  },
  {
   "cell_type": "markdown",
   "metadata": {},
   "source": [
    "<h2>Trabalhando com o dataset de acórdãos rotulados"
   ]
  },
  {
   "cell_type": "code",
   "execution_count": 19,
   "metadata": {
    "pycharm": {
     "name": "#%%\n"
    }
   },
   "outputs": [
    {
     "name": "stdout",
     "output_type": "stream",
     "text": [
      "<class 'pandas.core.frame.DataFrame'>\n",
      "RangeIndex: 330 entries, 0 to 329\n",
      "Data columns (total 4 columns):\n",
      " #   Column      Non-Null Count  Dtype  \n",
      "---  ------      --------------  -----  \n",
      " 0   NUMACORDAO  330 non-null    object \n",
      " 1   LABEL_A     330 non-null    int64  \n",
      " 2   LABEL_B     32 non-null     float64\n",
      " 3   LABEL_C     3 non-null      float64\n",
      "dtypes: float64(2), int64(1), object(1)\n",
      "memory usage: 10.4+ KB\n"
     ]
    }
   ],
   "source": [
    "df_rotulados = pd.read_csv('dados/AC_CLASS_IMPORT.csv', sep=';', encoding='iso-8859-1')\n",
    "df_rotulados.info()"
   ]
  },
  {
   "cell_type": "code",
   "execution_count": 20,
   "metadata": {},
   "outputs": [
    {
     "name": "stdout",
     "output_type": "stream",
     "text": [
      "<class 'pandas.core.frame.DataFrame'>\n",
      "RangeIndex: 330 entries, 0 to 329\n",
      "Data columns (total 4 columns):\n",
      " #   Column   Non-Null Count  Dtype \n",
      "---  ------   --------------  ----- \n",
      " 0   ID       330 non-null    object\n",
      " 1   LABEL_A  330 non-null    object\n",
      " 2   LABEL_B  32 non-null     object\n",
      " 3   LABEL_C  3 non-null      object\n",
      "dtypes: object(4)\n",
      "memory usage: 10.4+ KB\n"
     ]
    }
   ],
   "source": [
    "df_rotulados.rename(columns={'NUMACORDAO': 'ID'}, inplace=True)\n",
    "\n",
    "df_rotulados.fillna(0, inplace=True)\n",
    "\n",
    "df_rotulados.LABEL_A = df_rotulados.LABEL_A.astype(str)\n",
    "\n",
    "df_rotulados.LABEL_B = df_rotulados.LABEL_B.astype(int).astype(str)\n",
    "df_rotulados.loc[df_rotulados.LABEL_B == '0', 'LABEL_B'] = np.NaN\n",
    "\n",
    "df_rotulados.LABEL_C = df_rotulados.LABEL_C.astype(int).astype(str)\n",
    "df_rotulados.loc[df_rotulados.LABEL_C == '0', 'LABEL_C'] = np.NaN\n",
    "\n",
    "df_rotulados.info()"
   ]
  },
  {
   "cell_type": "code",
   "execution_count": 21,
   "metadata": {
    "collapsed": true,
    "jupyter": {
     "outputs_hidden": true
    }
   },
   "outputs": [
    {
     "data": {
      "text/html": [
       "<div>\n",
       "<style scoped>\n",
       "    .dataframe tbody tr th:only-of-type {\n",
       "        vertical-align: middle;\n",
       "    }\n",
       "\n",
       "    .dataframe tbody tr th {\n",
       "        vertical-align: top;\n",
       "    }\n",
       "\n",
       "    .dataframe thead th {\n",
       "        text-align: right;\n",
       "    }\n",
       "</style>\n",
       "<table border=\"1\" class=\"dataframe\">\n",
       "  <thead>\n",
       "    <tr style=\"text-align: right;\">\n",
       "      <th></th>\n",
       "      <th>ID</th>\n",
       "      <th>LABEL_A</th>\n",
       "      <th>LABEL_B</th>\n",
       "      <th>LABEL_C</th>\n",
       "    </tr>\n",
       "  </thead>\n",
       "  <tbody>\n",
       "    <tr>\n",
       "      <th>0</th>\n",
       "      <td>AC-000035-2018-PL</td>\n",
       "      <td>1</td>\n",
       "      <td>2</td>\n",
       "      <td>NaN</td>\n",
       "    </tr>\n",
       "    <tr>\n",
       "      <th>1</th>\n",
       "      <td>AC-000043-2008-PL</td>\n",
       "      <td>7</td>\n",
       "      <td>NaN</td>\n",
       "      <td>NaN</td>\n",
       "    </tr>\n",
       "    <tr>\n",
       "      <th>2</th>\n",
       "      <td>AC-000103-2009-PL</td>\n",
       "      <td>7</td>\n",
       "      <td>NaN</td>\n",
       "      <td>NaN</td>\n",
       "    </tr>\n",
       "    <tr>\n",
       "      <th>3</th>\n",
       "      <td>AC-000107-2009-PL</td>\n",
       "      <td>2</td>\n",
       "      <td>NaN</td>\n",
       "      <td>NaN</td>\n",
       "    </tr>\n",
       "    <tr>\n",
       "      <th>4</th>\n",
       "      <td>AC-000111-2016-PL</td>\n",
       "      <td>7</td>\n",
       "      <td>NaN</td>\n",
       "      <td>NaN</td>\n",
       "    </tr>\n",
       "    <tr>\n",
       "      <th>...</th>\n",
       "      <td>...</td>\n",
       "      <td>...</td>\n",
       "      <td>...</td>\n",
       "      <td>...</td>\n",
       "    </tr>\n",
       "    <tr>\n",
       "      <th>325</th>\n",
       "      <td>DE-000417-2002-PL</td>\n",
       "      <td>2</td>\n",
       "      <td>NaN</td>\n",
       "      <td>NaN</td>\n",
       "    </tr>\n",
       "    <tr>\n",
       "      <th>326</th>\n",
       "      <td>DE-000434-1993-PL</td>\n",
       "      <td>5</td>\n",
       "      <td>7</td>\n",
       "      <td>NaN</td>\n",
       "    </tr>\n",
       "    <tr>\n",
       "      <th>327</th>\n",
       "      <td>DE-000767-1998-PL</td>\n",
       "      <td>2</td>\n",
       "      <td>NaN</td>\n",
       "      <td>NaN</td>\n",
       "    </tr>\n",
       "    <tr>\n",
       "      <th>328</th>\n",
       "      <td>DE-001025-2001-PL</td>\n",
       "      <td>5</td>\n",
       "      <td>NaN</td>\n",
       "      <td>NaN</td>\n",
       "    </tr>\n",
       "    <tr>\n",
       "      <th>329</th>\n",
       "      <td>DE-001224-2002-PL</td>\n",
       "      <td>7</td>\n",
       "      <td>NaN</td>\n",
       "      <td>NaN</td>\n",
       "    </tr>\n",
       "  </tbody>\n",
       "</table>\n",
       "<p>330 rows × 4 columns</p>\n",
       "</div>"
      ],
      "text/plain": [
       "                    ID LABEL_A LABEL_B LABEL_C\n",
       "0    AC-000035-2018-PL       1       2     NaN\n",
       "1    AC-000043-2008-PL       7     NaN     NaN\n",
       "2    AC-000103-2009-PL       7     NaN     NaN\n",
       "3    AC-000107-2009-PL       2     NaN     NaN\n",
       "4    AC-000111-2016-PL       7     NaN     NaN\n",
       "..                 ...     ...     ...     ...\n",
       "325  DE-000417-2002-PL       2     NaN     NaN\n",
       "326  DE-000434-1993-PL       5       7     NaN\n",
       "327  DE-000767-1998-PL       2     NaN     NaN\n",
       "328  DE-001025-2001-PL       5     NaN     NaN\n",
       "329  DE-001224-2002-PL       7     NaN     NaN\n",
       "\n",
       "[330 rows x 4 columns]"
      ]
     },
     "execution_count": 21,
     "metadata": {},
     "output_type": "execute_result"
    }
   ],
   "source": [
    "df_rotulados"
   ]
  },
  {
   "cell_type": "code",
   "execution_count": 22,
   "metadata": {},
   "outputs": [],
   "source": [
    "# df_acordaos = pd.read_csv('dados/df_acordaos.csv', sep='|')"
   ]
  },
  {
   "cell_type": "code",
   "execution_count": 23,
   "metadata": {},
   "outputs": [],
   "source": [
    "path = 'dados/'\n",
    "# Seguindo os parâmetros da lib pathlib\n",
    "type_file = '**/*.txt'"
   ]
  },
  {
   "cell_type": "code",
   "execution_count": 24,
   "metadata": {},
   "outputs": [
    {
     "name": "stdout",
     "output_type": "stream",
     "text": [
      "<class 'pandas.core.frame.DataFrame'>\n",
      "Int64Index: 306935 entries, 0 to 309804\n",
      "Data columns (total 2 columns):\n",
      " #   Column   Non-Null Count   Dtype \n",
      "---  ------   --------------   ----- \n",
      " 0   ID       306935 non-null  object\n",
      " 1   DECISAO  306935 non-null  object\n",
      "dtypes: object(2)\n",
      "memory usage: 7.0+ MB\n"
     ]
    }
   ],
   "source": [
    "df_acordaos.info()"
   ]
  },
  {
   "cell_type": "code",
   "execution_count": 25,
   "metadata": {},
   "outputs": [],
   "source": [
    "for path in Path('dados/').rglob('**/*.txt'):\n",
    "    texto = ''\n",
    "    with path.open() as f:\n",
    "        texto += f.read()\n",
    "    df_acordaos = df_acordaos.append({'ID': path.stem, 'DECISAO': texto}, ignore_index=True)"
   ]
  },
  {
   "cell_type": "code",
   "execution_count": 26,
   "metadata": {},
   "outputs": [
    {
     "name": "stdout",
     "output_type": "stream",
     "text": [
      "<class 'pandas.core.frame.DataFrame'>\n",
      "RangeIndex: 306988 entries, 0 to 306987\n",
      "Data columns (total 2 columns):\n",
      " #   Column   Non-Null Count   Dtype \n",
      "---  ------   --------------   ----- \n",
      " 0   ID       306988 non-null  object\n",
      " 1   DECISAO  306988 non-null  object\n",
      "dtypes: object(2)\n",
      "memory usage: 4.7+ MB\n"
     ]
    }
   ],
   "source": [
    "df_acordaos.info()"
   ]
  },
  {
   "cell_type": "code",
   "execution_count": 27,
   "metadata": {
    "collapsed": true,
    "jupyter": {
     "outputs_hidden": true
    }
   },
   "outputs": [
    {
     "data": {
      "text/html": [
       "<div>\n",
       "<style scoped>\n",
       "    .dataframe tbody tr th:only-of-type {\n",
       "        vertical-align: middle;\n",
       "    }\n",
       "\n",
       "    .dataframe tbody tr th {\n",
       "        vertical-align: top;\n",
       "    }\n",
       "\n",
       "    .dataframe thead th {\n",
       "        text-align: right;\n",
       "    }\n",
       "</style>\n",
       "<table border=\"1\" class=\"dataframe\">\n",
       "  <thead>\n",
       "    <tr style=\"text-align: right;\">\n",
       "      <th></th>\n",
       "      <th>ID</th>\n",
       "      <th>DECISAO</th>\n",
       "    </tr>\n",
       "  </thead>\n",
       "  <tbody>\n",
       "    <tr>\n",
       "      <th>3390</th>\n",
       "      <td>DE-000088-1993-PL</td>\n",
       "      <td>O Tribunal Pleno, diante das razões expostas ...</td>\n",
       "    </tr>\n",
       "    <tr>\n",
       "      <th>4010</th>\n",
       "      <td>DE-000037-1993-PL</td>\n",
       "      <td>[SIGILOSO] [SIGILOSO]</td>\n",
       "    </tr>\n",
       "    <tr>\n",
       "      <th>4011</th>\n",
       "      <td>DE-000036-1993-PL</td>\n",
       "      <td>[SIGILOSO] [SIGILOSO]</td>\n",
       "    </tr>\n",
       "    <tr>\n",
       "      <th>4066</th>\n",
       "      <td>DE-000029-1993-PL</td>\n",
       "      <td>[SIGILOSO] [SIGILOSO]</td>\n",
       "    </tr>\n",
       "    <tr>\n",
       "      <th>4067</th>\n",
       "      <td>DE-000030-1993-PL</td>\n",
       "      <td>[SIGILOSO] [SIGILOSO]</td>\n",
       "    </tr>\n",
       "    <tr>\n",
       "      <th>4081</th>\n",
       "      <td>DE-000026-1993-PL</td>\n",
       "      <td>[SIGILOSO] [SIGILOSO]</td>\n",
       "    </tr>\n",
       "    <tr>\n",
       "      <th>4082</th>\n",
       "      <td>DE-000025-1993-PL</td>\n",
       "      <td>[SIGILOSO] [SIGILOSO]</td>\n",
       "    </tr>\n",
       "    <tr>\n",
       "      <th>4083</th>\n",
       "      <td>DE-000028-1993-PL</td>\n",
       "      <td>[SIGILOSO] [SIGILOSO]</td>\n",
       "    </tr>\n",
       "    <tr>\n",
       "      <th>4168</th>\n",
       "      <td>DE-000018-1993-PL</td>\n",
       "      <td>[SIGILOSO] [SIGILOSO]</td>\n",
       "    </tr>\n",
       "    <tr>\n",
       "      <th>4169</th>\n",
       "      <td>DE-000017-1993-PL</td>\n",
       "      <td>[SIGILOSO] [SIGILOSO]</td>\n",
       "    </tr>\n",
       "    <tr>\n",
       "      <th>4170</th>\n",
       "      <td>DE-000016-1993-PL</td>\n",
       "      <td>[SIGILOSO] [SIGILOSO]</td>\n",
       "    </tr>\n",
       "    <tr>\n",
       "      <th>4171</th>\n",
       "      <td>DE-000007-1993-PL</td>\n",
       "      <td>[SIGILOSO] [SIGILOSO]</td>\n",
       "    </tr>\n",
       "    <tr>\n",
       "      <th>4253</th>\n",
       "      <td>DE-000011-1993-PL</td>\n",
       "      <td>[SIGILOSO] [SIGILOSO]</td>\n",
       "    </tr>\n",
       "    <tr>\n",
       "      <th>4254</th>\n",
       "      <td>DE-000010-1993-PL</td>\n",
       "      <td>[SIGILOSO] [SIGILOSO]</td>\n",
       "    </tr>\n",
       "    <tr>\n",
       "      <th>4348</th>\n",
       "      <td>DE-000007-1993-PL</td>\n",
       "      <td>[SIGILOSO] [SIGILOSO]</td>\n",
       "    </tr>\n",
       "    <tr>\n",
       "      <th>4349</th>\n",
       "      <td>DE-000005-1993-PL</td>\n",
       "      <td>[SIGILOSO] [SIGILOSO]</td>\n",
       "    </tr>\n",
       "    <tr>\n",
       "      <th>4350</th>\n",
       "      <td>DE-000002-1993-PL</td>\n",
       "      <td>[SIGILOSO] [SIGILOSO]</td>\n",
       "    </tr>\n",
       "    <tr>\n",
       "      <th>6053</th>\n",
       "      <td>DE-000069-1994-PL</td>\n",
       "      <td>[SIGILOSO] [SIGILOSO]</td>\n",
       "    </tr>\n",
       "    <tr>\n",
       "      <th>6054</th>\n",
       "      <td>DE-000069-1994-PL</td>\n",
       "      <td>[SIGILOSO] [SIGILOSO]</td>\n",
       "    </tr>\n",
       "    <tr>\n",
       "      <th>12802</th>\n",
       "      <td>DE-000017-1996-PL</td>\n",
       "      <td>[SIGILOSO] [SIGILOSO]</td>\n",
       "    </tr>\n",
       "    <tr>\n",
       "      <th>19738</th>\n",
       "      <td>DE-000751-1999-PL</td>\n",
       "      <td>[SIGILOSO] [SIGILOSO]</td>\n",
       "    </tr>\n",
       "    <tr>\n",
       "      <th>22581</th>\n",
       "      <td>DE-000032-1999-PL</td>\n",
       "      <td>[SIGILOSO] [SIGILOSO]</td>\n",
       "    </tr>\n",
       "    <tr>\n",
       "      <th>22596</th>\n",
       "      <td>DE-000030-1999-PL</td>\n",
       "      <td>[SIGILOSO] [SIGILOSO]</td>\n",
       "    </tr>\n",
       "    <tr>\n",
       "      <th>23027</th>\n",
       "      <td>AR-000091-2000-2C</td>\n",
       "      <td>ACÓRDÃO: Os Ministros do Tribunal de Contas da...</td>\n",
       "    </tr>\n",
       "    <tr>\n",
       "      <th>23028</th>\n",
       "      <td>AR-000091-2000-2C</td>\n",
       "      <td>ACÓRDÃO: Os Ministros do Tribunal de Contas da...</td>\n",
       "    </tr>\n",
       "    <tr>\n",
       "      <th>23029</th>\n",
       "      <td>AR-000091-2000-2C</td>\n",
       "      <td>ACÓRDÃO: Os Ministros do Tribunal de Contas da...</td>\n",
       "    </tr>\n",
       "  </tbody>\n",
       "</table>\n",
       "</div>"
      ],
      "text/plain": [
       "                      ID                                            DECISAO\n",
       "3390   DE-000088-1993-PL   O Tribunal Pleno, diante das razões expostas ...\n",
       "4010   DE-000037-1993-PL                              [SIGILOSO] [SIGILOSO]\n",
       "4011   DE-000036-1993-PL                              [SIGILOSO] [SIGILOSO]\n",
       "4066   DE-000029-1993-PL                              [SIGILOSO] [SIGILOSO]\n",
       "4067   DE-000030-1993-PL                              [SIGILOSO] [SIGILOSO]\n",
       "4081   DE-000026-1993-PL                              [SIGILOSO] [SIGILOSO]\n",
       "4082   DE-000025-1993-PL                              [SIGILOSO] [SIGILOSO]\n",
       "4083   DE-000028-1993-PL                              [SIGILOSO] [SIGILOSO]\n",
       "4168   DE-000018-1993-PL                              [SIGILOSO] [SIGILOSO]\n",
       "4169   DE-000017-1993-PL                              [SIGILOSO] [SIGILOSO]\n",
       "4170   DE-000016-1993-PL                              [SIGILOSO] [SIGILOSO]\n",
       "4171   DE-000007-1993-PL                              [SIGILOSO] [SIGILOSO]\n",
       "4253   DE-000011-1993-PL                              [SIGILOSO] [SIGILOSO]\n",
       "4254   DE-000010-1993-PL                              [SIGILOSO] [SIGILOSO]\n",
       "4348   DE-000007-1993-PL                              [SIGILOSO] [SIGILOSO]\n",
       "4349   DE-000005-1993-PL                              [SIGILOSO] [SIGILOSO]\n",
       "4350   DE-000002-1993-PL                              [SIGILOSO] [SIGILOSO]\n",
       "6053   DE-000069-1994-PL                              [SIGILOSO] [SIGILOSO]\n",
       "6054   DE-000069-1994-PL                              [SIGILOSO] [SIGILOSO]\n",
       "12802  DE-000017-1996-PL                              [SIGILOSO] [SIGILOSO]\n",
       "19738  DE-000751-1999-PL                              [SIGILOSO] [SIGILOSO]\n",
       "22581  DE-000032-1999-PL                              [SIGILOSO] [SIGILOSO]\n",
       "22596  DE-000030-1999-PL                              [SIGILOSO] [SIGILOSO]\n",
       "23027  AR-000091-2000-2C  ACÓRDÃO: Os Ministros do Tribunal de Contas da...\n",
       "23028  AR-000091-2000-2C  ACÓRDÃO: Os Ministros do Tribunal de Contas da...\n",
       "23029  AR-000091-2000-2C  ACÓRDÃO: Os Ministros do Tribunal de Contas da..."
      ]
     },
     "execution_count": 27,
     "metadata": {},
     "output_type": "execute_result"
    }
   ],
   "source": [
    "df_acordaos[df_acordaos.duplicated(['ID', 'DECISAO'])]"
   ]
  },
  {
   "cell_type": "code",
   "execution_count": 28,
   "metadata": {},
   "outputs": [],
   "source": [
    "# df_acordaos.drop_duplicates(subset=['ID', 'DECISAO'], keep='first', inplace=True)"
   ]
  },
  {
   "cell_type": "code",
   "execution_count": 29,
   "metadata": {
    "collapsed": true,
    "jupyter": {
     "outputs_hidden": true
    }
   },
   "outputs": [
    {
     "data": {
      "text/html": [
       "<div>\n",
       "<style scoped>\n",
       "    .dataframe tbody tr th:only-of-type {\n",
       "        vertical-align: middle;\n",
       "    }\n",
       "\n",
       "    .dataframe tbody tr th {\n",
       "        vertical-align: top;\n",
       "    }\n",
       "\n",
       "    .dataframe thead th {\n",
       "        text-align: right;\n",
       "    }\n",
       "</style>\n",
       "<table border=\"1\" class=\"dataframe\">\n",
       "  <thead>\n",
       "    <tr style=\"text-align: right;\">\n",
       "      <th></th>\n",
       "      <th>ID</th>\n",
       "      <th>DECISAO</th>\n",
       "    </tr>\n",
       "  </thead>\n",
       "  <tbody>\n",
       "    <tr>\n",
       "      <th>3390</th>\n",
       "      <td>DE-000088-1993-PL</td>\n",
       "      <td>O Tribunal Pleno, diante das razões expostas ...</td>\n",
       "    </tr>\n",
       "    <tr>\n",
       "      <th>4010</th>\n",
       "      <td>DE-000037-1993-PL</td>\n",
       "      <td>[SIGILOSO] [SIGILOSO]</td>\n",
       "    </tr>\n",
       "    <tr>\n",
       "      <th>4011</th>\n",
       "      <td>DE-000036-1993-PL</td>\n",
       "      <td>[SIGILOSO] [SIGILOSO]</td>\n",
       "    </tr>\n",
       "    <tr>\n",
       "      <th>4066</th>\n",
       "      <td>DE-000029-1993-PL</td>\n",
       "      <td>[SIGILOSO] [SIGILOSO]</td>\n",
       "    </tr>\n",
       "    <tr>\n",
       "      <th>4067</th>\n",
       "      <td>DE-000030-1993-PL</td>\n",
       "      <td>[SIGILOSO] [SIGILOSO]</td>\n",
       "    </tr>\n",
       "    <tr>\n",
       "      <th>4081</th>\n",
       "      <td>DE-000026-1993-PL</td>\n",
       "      <td>[SIGILOSO] [SIGILOSO]</td>\n",
       "    </tr>\n",
       "    <tr>\n",
       "      <th>4082</th>\n",
       "      <td>DE-000025-1993-PL</td>\n",
       "      <td>[SIGILOSO] [SIGILOSO]</td>\n",
       "    </tr>\n",
       "    <tr>\n",
       "      <th>4083</th>\n",
       "      <td>DE-000028-1993-PL</td>\n",
       "      <td>[SIGILOSO] [SIGILOSO]</td>\n",
       "    </tr>\n",
       "    <tr>\n",
       "      <th>4168</th>\n",
       "      <td>DE-000018-1993-PL</td>\n",
       "      <td>[SIGILOSO] [SIGILOSO]</td>\n",
       "    </tr>\n",
       "    <tr>\n",
       "      <th>4169</th>\n",
       "      <td>DE-000017-1993-PL</td>\n",
       "      <td>[SIGILOSO] [SIGILOSO]</td>\n",
       "    </tr>\n",
       "    <tr>\n",
       "      <th>4170</th>\n",
       "      <td>DE-000016-1993-PL</td>\n",
       "      <td>[SIGILOSO] [SIGILOSO]</td>\n",
       "    </tr>\n",
       "    <tr>\n",
       "      <th>4171</th>\n",
       "      <td>DE-000007-1993-PL</td>\n",
       "      <td>[SIGILOSO] [SIGILOSO]</td>\n",
       "    </tr>\n",
       "    <tr>\n",
       "      <th>4253</th>\n",
       "      <td>DE-000011-1993-PL</td>\n",
       "      <td>[SIGILOSO] [SIGILOSO]</td>\n",
       "    </tr>\n",
       "    <tr>\n",
       "      <th>4254</th>\n",
       "      <td>DE-000010-1993-PL</td>\n",
       "      <td>[SIGILOSO] [SIGILOSO]</td>\n",
       "    </tr>\n",
       "    <tr>\n",
       "      <th>4348</th>\n",
       "      <td>DE-000007-1993-PL</td>\n",
       "      <td>[SIGILOSO] [SIGILOSO]</td>\n",
       "    </tr>\n",
       "    <tr>\n",
       "      <th>4349</th>\n",
       "      <td>DE-000005-1993-PL</td>\n",
       "      <td>[SIGILOSO] [SIGILOSO]</td>\n",
       "    </tr>\n",
       "    <tr>\n",
       "      <th>4350</th>\n",
       "      <td>DE-000002-1993-PL</td>\n",
       "      <td>[SIGILOSO] [SIGILOSO]</td>\n",
       "    </tr>\n",
       "    <tr>\n",
       "      <th>6053</th>\n",
       "      <td>DE-000069-1994-PL</td>\n",
       "      <td>[SIGILOSO] [SIGILOSO]</td>\n",
       "    </tr>\n",
       "    <tr>\n",
       "      <th>6054</th>\n",
       "      <td>DE-000069-1994-PL</td>\n",
       "      <td>[SIGILOSO] [SIGILOSO]</td>\n",
       "    </tr>\n",
       "    <tr>\n",
       "      <th>12802</th>\n",
       "      <td>DE-000017-1996-PL</td>\n",
       "      <td>[SIGILOSO] [SIGILOSO]</td>\n",
       "    </tr>\n",
       "    <tr>\n",
       "      <th>19738</th>\n",
       "      <td>DE-000751-1999-PL</td>\n",
       "      <td>[SIGILOSO] [SIGILOSO]</td>\n",
       "    </tr>\n",
       "    <tr>\n",
       "      <th>22581</th>\n",
       "      <td>DE-000032-1999-PL</td>\n",
       "      <td>[SIGILOSO] [SIGILOSO]</td>\n",
       "    </tr>\n",
       "    <tr>\n",
       "      <th>22596</th>\n",
       "      <td>DE-000030-1999-PL</td>\n",
       "      <td>[SIGILOSO] [SIGILOSO]</td>\n",
       "    </tr>\n",
       "    <tr>\n",
       "      <th>23027</th>\n",
       "      <td>AR-000091-2000-2C</td>\n",
       "      <td>ACÓRDÃO: Os Ministros do Tribunal de Contas da...</td>\n",
       "    </tr>\n",
       "    <tr>\n",
       "      <th>23028</th>\n",
       "      <td>AR-000091-2000-2C</td>\n",
       "      <td>ACÓRDÃO: Os Ministros do Tribunal de Contas da...</td>\n",
       "    </tr>\n",
       "    <tr>\n",
       "      <th>23029</th>\n",
       "      <td>AR-000091-2000-2C</td>\n",
       "      <td>ACÓRDÃO: Os Ministros do Tribunal de Contas da...</td>\n",
       "    </tr>\n",
       "  </tbody>\n",
       "</table>\n",
       "</div>"
      ],
      "text/plain": [
       "                      ID                                            DECISAO\n",
       "3390   DE-000088-1993-PL   O Tribunal Pleno, diante das razões expostas ...\n",
       "4010   DE-000037-1993-PL                              [SIGILOSO] [SIGILOSO]\n",
       "4011   DE-000036-1993-PL                              [SIGILOSO] [SIGILOSO]\n",
       "4066   DE-000029-1993-PL                              [SIGILOSO] [SIGILOSO]\n",
       "4067   DE-000030-1993-PL                              [SIGILOSO] [SIGILOSO]\n",
       "4081   DE-000026-1993-PL                              [SIGILOSO] [SIGILOSO]\n",
       "4082   DE-000025-1993-PL                              [SIGILOSO] [SIGILOSO]\n",
       "4083   DE-000028-1993-PL                              [SIGILOSO] [SIGILOSO]\n",
       "4168   DE-000018-1993-PL                              [SIGILOSO] [SIGILOSO]\n",
       "4169   DE-000017-1993-PL                              [SIGILOSO] [SIGILOSO]\n",
       "4170   DE-000016-1993-PL                              [SIGILOSO] [SIGILOSO]\n",
       "4171   DE-000007-1993-PL                              [SIGILOSO] [SIGILOSO]\n",
       "4253   DE-000011-1993-PL                              [SIGILOSO] [SIGILOSO]\n",
       "4254   DE-000010-1993-PL                              [SIGILOSO] [SIGILOSO]\n",
       "4348   DE-000007-1993-PL                              [SIGILOSO] [SIGILOSO]\n",
       "4349   DE-000005-1993-PL                              [SIGILOSO] [SIGILOSO]\n",
       "4350   DE-000002-1993-PL                              [SIGILOSO] [SIGILOSO]\n",
       "6053   DE-000069-1994-PL                              [SIGILOSO] [SIGILOSO]\n",
       "6054   DE-000069-1994-PL                              [SIGILOSO] [SIGILOSO]\n",
       "12802  DE-000017-1996-PL                              [SIGILOSO] [SIGILOSO]\n",
       "19738  DE-000751-1999-PL                              [SIGILOSO] [SIGILOSO]\n",
       "22581  DE-000032-1999-PL                              [SIGILOSO] [SIGILOSO]\n",
       "22596  DE-000030-1999-PL                              [SIGILOSO] [SIGILOSO]\n",
       "23027  AR-000091-2000-2C  ACÓRDÃO: Os Ministros do Tribunal de Contas da...\n",
       "23028  AR-000091-2000-2C  ACÓRDÃO: Os Ministros do Tribunal de Contas da...\n",
       "23029  AR-000091-2000-2C  ACÓRDÃO: Os Ministros do Tribunal de Contas da..."
      ]
     },
     "execution_count": 29,
     "metadata": {},
     "output_type": "execute_result"
    }
   ],
   "source": [
    "df_acordaos[df_acordaos.duplicated(['ID', 'DECISAO'])]"
   ]
  },
  {
   "cell_type": "code",
   "execution_count": 30,
   "metadata": {},
   "outputs": [
    {
     "name": "stdout",
     "output_type": "stream",
     "text": [
      "<class 'pandas.core.frame.DataFrame'>\n",
      "Int64Index: 306988 entries, 0 to 306987\n",
      "Data columns (total 5 columns):\n",
      " #   Column   Non-Null Count   Dtype \n",
      "---  ------   --------------   ----- \n",
      " 0   ID       306988 non-null  object\n",
      " 1   DECISAO  306988 non-null  object\n",
      " 2   LABEL_A  328 non-null     object\n",
      " 3   LABEL_B  32 non-null      object\n",
      " 4   LABEL_C  3 non-null       object\n",
      "dtypes: object(5)\n",
      "memory usage: 14.1+ MB\n"
     ]
    }
   ],
   "source": [
    "df_acordaos = pd.merge(df_acordaos, df_rotulados, on='ID', how='left')\n",
    "df_acordaos.info()"
   ]
  },
  {
   "cell_type": "code",
   "execution_count": 32,
   "metadata": {},
   "outputs": [
    {
     "data": {
      "text/plain": [
       "7     152\n",
       "2      61\n",
       "5      48\n",
       "8      22\n",
       "1      20\n",
       "10     10\n",
       "11      6\n",
       "4       4\n",
       "9       3\n",
       "3       2\n",
       "6       2\n",
       "Name: LABEL_A, dtype: int64"
      ]
     },
     "execution_count": 32,
     "metadata": {},
     "output_type": "execute_result"
    }
   ],
   "source": [
    "df_rotulados.LABEL_A.value_counts()"
   ]
  },
  {
   "cell_type": "code",
   "execution_count": 31,
   "metadata": {},
   "outputs": [
    {
     "data": {
      "text/plain": [
       "7     150\n",
       "2      59\n",
       "5      49\n",
       "8      22\n",
       "1      21\n",
       "10     10\n",
       "11      6\n",
       "4       4\n",
       "9       3\n",
       "3       2\n",
       "6       2\n",
       "Name: LABEL_A, dtype: int64"
      ]
     },
     "execution_count": 31,
     "metadata": {},
     "output_type": "execute_result"
    }
   ],
   "source": [
    "df_acordaos.LABEL_A.value_counts()"
   ]
  },
  {
   "cell_type": "code",
   "execution_count": 33,
   "metadata": {
    "collapsed": false,
    "jupyter": {
     "outputs_hidden": false
    },
    "pycharm": {
     "name": "#%%\n"
    }
   },
   "outputs": [],
   "source": [
    "# Salva o arquivo em um csv\n",
    "df_acordaos.loc[df_acordaos.LABEL_A.notnull()].to_csv('dados/df_rotulados.csv', sep='|', index=False)"
   ]
  },
  {
   "cell_type": "code",
   "execution_count": 34,
   "metadata": {},
   "outputs": [],
   "source": [
    "df_acordaos[['ID', 'LABEL_A', 'LABEL_B', 'LABEL_C']].to_csv('dados/temp.csv', sep=';', index=False)"
   ]
  }
 ],
 "metadata": {
  "kernelspec": {
   "display_name": "Python 3",
   "language": "python",
   "name": "python3"
  },
  "language_info": {
   "codemirror_mode": {
    "name": "ipython",
    "version": 3
   },
   "file_extension": ".py",
   "mimetype": "text/x-python",
   "name": "python",
   "nbconvert_exporter": "python",
   "pygments_lexer": "ipython3",
   "version": "3.8.5"
  }
 },
 "nbformat": 4,
 "nbformat_minor": 4
}
