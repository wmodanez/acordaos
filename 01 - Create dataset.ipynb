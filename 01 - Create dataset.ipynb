{
 "cells": [
  {
   "cell_type": "code",
   "execution_count": 1,
   "metadata": {
    "collapsed": false,
    "jupyter": {
     "outputs_hidden": false
    },
    "pycharm": {
     "name": "#%%\n"
    }
   },
   "outputs": [],
   "source": [
    "import sqlite3\n",
    "import zipfile\n",
    "\n",
    "import numpy as np\n",
    "import pandas as pd\n",
    "\n",
    "from datetime import datetime\n",
    "from tools import criaChaveAcordao, criaChaveAcordaoPrincipal"
   ]
  },
  {
   "cell_type": "markdown",
   "metadata": {},
   "source": [
    "## Conhecer a base de dados dos acórdãos do TCU"
   ]
  },
  {
   "cell_type": "markdown",
   "metadata": {},
   "source": [
    "A base de dados dos acórdãos do TCU foi disponibilizada para download público na plataforma Kaggle. Os dados dizem respeito aos acórdãos proferidos pelo TCU entre os anos de 1992 até 30/08/2019.\n",
    "Acesse o endereço <https://www.kaggle.com/ferraz/acordaos-tcu> e baixe o arquivo no link Download (4GB) e salve na pasta '/dados'.\n",
    "github: <https://github.com/netoferraz/acordaos-tcu>"
   ]
  },
  {
   "cell_type": "code",
   "execution_count": null,
   "metadata": {
    "collapsed": false,
    "jupyter": {
     "outputs_hidden": false
    },
    "pycharm": {
     "name": "#%%\n"
    }
   },
   "outputs": [],
   "source": [
    "# Remover os comentário das linhas abaixo caso ainda não tenha feito a descompactação\n",
    "# with zipfile.ZipFile('dados/330881_660826_bundle_archive.zip', 'r') as zip_ref:\n",
    "#     zip_ref.extractall()"
   ]
  },
  {
   "cell_type": "code",
   "execution_count": null,
   "metadata": {
    "collapsed": false,
    "jupyter": {
     "outputs_hidden": false
    },
    "pycharm": {
     "name": "#%%\n"
    }
   },
   "outputs": [],
   "source": [
    "# Cria conexão com a base de datos sqlite\n",
    "conn = sqlite3.connect('dados/tcu-acordaos.db')"
   ]
  },
  {
   "cell_type": "code",
   "execution_count": null,
   "metadata": {
    "collapsed": false,
    "jupyter": {
     "outputs_hidden": false
    },
    "pycharm": {
     "name": "#%%\n"
    }
   },
   "outputs": [],
   "source": [
    "# Cria o dataframe df_acordaos\n",
    "df_acordaos = pd.read_sql_query('SELECT * from acordaos', conn)"
   ]
  },
  {
   "cell_type": "code",
   "execution_count": null,
   "metadata": {
    "collapsed": false,
    "jupyter": {
     "outputs_hidden": false
    },
    "pycharm": {
     "name": "#%%\n"
    }
   },
   "outputs": [],
   "source": [
    "print(df_acordaos.shape, '\\n')\n",
    "\n",
    "# Mostra as colunas da base\n",
    "print(df_acordaos.columns, '\\n')\n",
    "\n",
    "print(df_acordaos.info(), '\\n')"
   ]
  },
  {
   "cell_type": "code",
   "execution_count": null,
   "metadata": {
    "collapsed": false,
    "jupyter": {
     "outputs_hidden": false
    },
    "pycharm": {
     "name": "#%%\n"
    }
   },
   "outputs": [],
   "source": [
    "# Transfora em string as colunas ano_acordao\n",
    "df_acordaos['ano_acordao'] = df_acordaos['ano_acordao'].map(str)"
   ]
  },
  {
   "cell_type": "code",
   "execution_count": null,
   "metadata": {
    "collapsed": false,
    "jupyter": {
     "outputs_hidden": false
    },
    "pycharm": {
     "name": "#%%\n"
    }
   },
   "outputs": [],
   "source": [
    "df_acordaos.rename(str.upper, axis='columns', inplace=True)\n",
    "df_acordaos.info()"
   ]
  },
  {
   "cell_type": "code",
   "execution_count": null,
   "metadata": {
    "collapsed": false,
    "jupyter": {
     "outputs_hidden": false
    },
    "pycharm": {
     "name": "#%%\n"
    }
   },
   "outputs": [],
   "source": [
    "# Verifica a quantidade de registros marcados como None\n",
    "print(df_acordaos[df_acordaos['ACORDAO'].values == None].shape[0])\n",
    "print(df_acordaos[df_acordaos['RELATORIO'].values == None].shape[0])\n",
    "print(df_acordaos[df_acordaos['VOTO'].values == None].shape[0])\n",
    "\n",
    "# Converte os valores None para np.NaN\n",
    "df_acordaos.loc[df_acordaos['ACORDAO'].values == None, 'ACORDAO'] = np.NaN\n",
    "df_acordaos.loc[df_acordaos['RELATORIO'].values == None, 'RELATORIO'] = np.NaN\n",
    "df_acordaos.loc[df_acordaos['VOTO'].values == None, 'VOTO'] = np.NaN\n",
    "\n",
    "# Confirmação\n",
    "print(df_acordaos[df_acordaos['ACORDAO'].values == None].shape[0])\n",
    "print(df_acordaos[df_acordaos['RELATORIO'].values == None].shape[0])\n",
    "print(df_acordaos[df_acordaos['VOTO'].values == None].shape[0])"
   ]
  },
  {
   "cell_type": "code",
   "execution_count": null,
   "metadata": {
    "collapsed": false,
    "jupyter": {
     "outputs_hidden": false
    },
    "pycharm": {
     "name": "#%%\n"
    }
   },
   "outputs": [],
   "source": [
    "# Retira colunas que não interessam para o trabalho\n",
    "df_acordaos = df_acordaos.drop(['REPRESENTANTE_MP', 'ASSUNTO', 'UNIDADE_TECNICA', 'REPR_LEGAL', 'QUORUM', \n",
    "                                'INTERESSADO_REPONSAVEL_RECORRENTE'], axis=1)"
   ]
  },
  {
   "cell_type": "code",
   "execution_count": null,
   "metadata": {
    "collapsed": false,
    "jupyter": {
     "outputs_hidden": false
    },
    "pycharm": {
     "name": "#%%\n"
    }
   },
   "outputs": [],
   "source": [
    "def imprime_proc_sigilo():\n",
    "    print('Qtde de acordãos sem número de processo: ', df_acordaos[df_acordaos.PROCESSO.isnull()].shape[0])\n",
    "    print('Qtde de acordãos com tipo de processo SIGILOSO: ', df_acordaos[(df_acordaos.TIPO_PROCESSO == 'SIGILOSO')].shape[0])\n",
    "    print('Qtde de acordãos com acordao SIGILOSO: ', df_acordaos[(df_acordaos.ACORDAO == 'SIGILOSO') | (df_acordaos.ACORDAO == 'None')].shape[0])\n",
    "    print('Qtde de acordãos com voto SIGILOSO: ', df_acordaos[(df_acordaos.VOTO == 'SIGILOSO')  | (df_acordaos.VOTO == 'None')].shape[0])\n",
    "    print('Qtde de acordãos com entidade SIGILOSO: ', df_acordaos[(df_acordaos.ENTIDADE == 'SIGILOSO')  | (df_acordaos.ENTIDADE == 'None')].shape[0])\n",
    "    print('Qtde de acordãos com Número de Acórdão não utilizado: ', df_acordaos[df_acordaos.SUMARIO == 'Número de Acórdão não utilizado'].shape[0], '\\n')\n",
    "    \n",
    "    qtdeSigiloso = df_acordaos[(df_acordaos['ENTIDADE'] == 'SIGILOSO') | (df_acordaos['TIPO_PROCESSO'].str.upper == 'SIGILOGO')\n",
    "                               | (df_acordaos['SUMARIO'].str.upper == 'SIGILOGO')\n",
    "                               | (df_acordaos['ACORDAO'].str.upper == 'SIGILOGO')\n",
    "                               | (df_acordaos['RELATORIO'].str.upper == 'SIGILOGO')\n",
    "                               | (df_acordaos['ENTIDADE'].str.upper == 'SIGILOGO')\n",
    "                               | (df_acordaos['VOTO'].str.upper == 'SIGILOGO')\n",
    "                               | (df_acordaos.SUMARIO == 'Número de Acórdão não utilizado')].shape[0]\n",
    "\n",
    "    print('Quantidade de acordãos marcados com sigilo: ', qtdeSigiloso, '\\n')\n",
    "    del qtdeSigiloso"
   ]
  },
  {
   "cell_type": "code",
   "execution_count": null,
   "metadata": {
    "collapsed": false,
    "jupyter": {
     "outputs_hidden": false
    },
    "pycharm": {
     "name": "#%%\n"
    }
   },
   "outputs": [],
   "source": [
    "imprime_proc_sigilo()\n",
    "\n",
    "\n",
    "print('Removendo os registros...')\n",
    "df_acordaos = df_acordaos[df_acordaos.PROCESSO.notnull()]\n",
    "print(df_acordaos.shape[0])\n",
    "df_acordaos = df_acordaos.drop(df_acordaos.index[df_acordaos['TIPO_PROCESSO'] =='SIGILOSO'])\n",
    "print(df_acordaos.shape[0])\n",
    "df_acordaos = df_acordaos.drop(df_acordaos.index[(df_acordaos['ACORDAO'] == 'SIGILOSO') | (df_acordaos['ACORDAO'] == 'None')])\n",
    "print(df_acordaos.shape[0])\n",
    "df_acordaos = df_acordaos.drop(df_acordaos.index[(df_acordaos['VOTO'] == 'SIGILOSO') | (df_acordaos['VOTO'] == 'None')])\n",
    "print(df_acordaos.shape[0])\n",
    "df_acordaos = df_acordaos.drop(df_acordaos.index[(df_acordaos['ENTIDADE'] == 'SIGILOSO') | (df_acordaos['ENTIDADE'] == 'None')])\n",
    "print(df_acordaos.shape[0])\n",
    "df_acordaos = df_acordaos.drop(df_acordaos.index[(df_acordaos['SUMARIO'] == 'Número de Acórdão não utilizado')])\n",
    "print(df_acordaos.shape[0], '\\n')\n",
    "\n",
    "\n",
    "imprime_proc_sigilo()"
   ]
  },
  {
   "cell_type": "code",
   "execution_count": null,
   "metadata": {
    "collapsed": false,
    "jupyter": {
     "outputs_hidden": false
    },
    "pycharm": {
     "name": "#%%\n"
    }
   },
   "outputs": [],
   "source": [
    "start_time = datetime.now()\n",
    "\n",
    "df_acordaos['ID'] = df_acordaos.apply(criaChaveAcordaoPrincipal, axis=1)\n",
    "\n",
    "print('Duration: {}'.format(datetime.now() - start_time))"
   ]
  },
  {
   "cell_type": "code",
   "execution_count": null,
   "metadata": {
    "collapsed": false,
    "jupyter": {
     "outputs_hidden": false
    },
    "pycharm": {
     "name": "#%%\n"
    }
   },
   "outputs": [],
   "source": [
    "df_acordaos[df_acordaos.duplicated(['NUMERO_ACORDAO', 'PROCESSO', 'DATA_SESSAO'])]"
   ]
  },
  {
   "cell_type": "code",
   "execution_count": null,
   "metadata": {
    "collapsed": false,
    "jupyter": {
     "outputs_hidden": false
    },
    "pycharm": {
     "name": "#%%\n"
    }
   },
   "outputs": [],
   "source": [
    "# TODO criar function para tratar quando houver mais registros duplicados\n",
    "df_acordaos = df_acordaos.drop(295941)"
   ]
  },
  {
   "cell_type": "code",
   "execution_count": null,
   "metadata": {
    "collapsed": false,
    "jupyter": {
     "outputs_hidden": false
    },
    "pycharm": {
     "name": "#%%\n"
    }
   },
   "outputs": [],
   "source": [
    "print('Quantidade de ACÓRDÃOS nulos: ', df_acordaos[df_acordaos['ACORDAO'].isnull() == True].shape[0])\n",
    "print('Quantidade de registros repetidos nos campos VOTO e ACÓRDAO:', df_acordaos[df_acordaos['VOTO'].eq(df_acordaos['ACORDAO'])].shape[0])\n",
    "print('Quantidade de registros repetidos nos campos RELATÓRIO e ACÓRDAO:', df_acordaos[df_acordaos['RELATORIO'].eq(df_acordaos['ACORDAO'])].shape[0])"
   ]
  },
  {
   "cell_type": "code",
   "execution_count": null,
   "metadata": {
    "collapsed": false,
    "jupyter": {
     "outputs_hidden": false
    },
    "pycharm": {
     "name": "#%%\n"
    }
   },
   "outputs": [],
   "source": [
    "df_acordaos['DECISAO'] = df_acordaos['ACORDAO'].map(str) + ' ' + df_acordaos['VOTO'].map(str) + ' ' + df_acordaos['RELATORIO'].map(str)"
   ]
  },
  {
   "cell_type": "code",
   "execution_count": null,
   "metadata": {
    "collapsed": false,
    "jupyter": {
     "outputs_hidden": false
    },
    "pycharm": {
     "name": "#%%\n"
    }
   },
   "outputs": [],
   "source": [
    "# Retira colunas que não interessam para o trabalho\n",
    "df_acordaos = df_acordaos.drop(['URN', 'ANO_ACORDAO', 'NUMERO_ACORDAO', 'RELATOR', 'PROCESSO',\n",
    "                               'DATA_SESSAO', 'NUMERO_ATA', 'ENTIDADE', 'SUMARIO', 'TIPO_PROCESSO',\n",
    "                               'ACORDAO', 'VOTO', 'RELATORIO'], axis=1)\n",
    "\n",
    "df_acordaos.info()"
   ]
  },
  {
   "cell_type": "code",
   "execution_count": null,
   "metadata": {
    "collapsed": false,
    "jupyter": {
     "outputs_hidden": false
    },
    "pycharm": {
     "name": "#%%\n"
    }
   },
   "outputs": [],
   "source": [
    "# Salva o arquivo em um csv compactado reduzindo o arquivo de 4GB para ~900MB\n",
    "start_time = datetime.now()\n",
    "\n",
    "df_acordaos.to_csv('dados/df_acordaos.csv', sep='|', index=False, compression='gzip', encoding='utf-8')\n",
    "\n",
    "print('Duration: {}'.format(datetime.now() - start_time))"
   ]
  },
  {
   "cell_type": "markdown",
   "metadata": {},
   "source": [
    "### Testes"
   ]
  },
  {
   "cell_type": "code",
   "execution_count": 47,
   "metadata": {
    "collapsed": false,
    "jupyter": {
     "outputs_hidden": false
    },
    "pycharm": {
     "name": "#%%\n"
    }
   },
   "outputs": [],
   "source": [
    "df_positivo = pd.read_excel('dados/acordaopositivo.xlsx', sheet_name='Sheet1')\n",
    "df_positivo.insert(0, 'ID', '')"
   ]
  },
  {
   "cell_type": "code",
   "execution_count": 48,
   "metadata": {
    "collapsed": false,
    "jupyter": {
     "outputs_hidden": false
    },
    "pycharm": {
     "name": "#%%\n"
    }
   },
   "outputs": [],
   "source": [
    "df_positivo.rename(str.upper, axis='columns', inplace=True)\n",
    "df_positivo.rename(columns={'LABELCLASSE': 'LABEL_TEMP', 'TÍTULO': 'TITULO', 'SUMÁRIO': 'SUMARIO', \n",
    "                            'TIPO DE PROCESSO': 'TIPO_PROCESSO',\n",
    "                           'INTERESSADO / RESPONSÁVEL / RECORRENTE': 'INTERESSADO', \n",
    "                           'REPRESENTANTE DO MINISTÉRIO PÚBLICO': 'REP_MP',\n",
    "                           'UNIDADE TÉCNICA': 'UNIDADE_TECNICA', 'REPRESENTANTE LEGAL': 'REP_LEGAL',\n",
    "                           'ENDEREÇO DO ARQUIVO': 'FILE_PATH'}, inplace=True)\n"
   ]
  },
  {
   "cell_type": "code",
   "execution_count": 49,
   "metadata": {
    "collapsed": false,
    "jupyter": {
     "outputs_hidden": false
    },
    "pycharm": {
     "name": "#%%\n"
    }
   },
   "outputs": [],
   "source": [
    "# Converte a classe em categorias\n",
    "for i in range(0,14):\n",
    "    df_positivo.loc[df_positivo['LABEL_TEMP'] == 'classe' + str(i+1), ['LABEL_TEMP']] = i+1"
   ]
  },
  {
   "cell_type": "code",
   "execution_count": 50,
   "metadata": {
    "collapsed": false,
    "jupyter": {
     "outputs_hidden": false
    },
    "pycharm": {
     "name": "#%%\n"
    }
   },
   "outputs": [],
   "source": [
    "# Insere o valor do campo ID\n",
    "for index, row in df_positivo.iterrows():\n",
    "    df_positivo.iloc[index, 0] = criaChaveAcordao(df_positivo.iloc[index].TITULO)"
   ]
  },
  {
   "cell_type": "code",
   "execution_count": 51,
   "metadata": {
    "collapsed": false,
    "jupyter": {
     "outputs_hidden": false
    },
    "pycharm": {
     "name": "#%%\n"
    }
   },
   "outputs": [
    {
     "name": "stdout",
     "output_type": "stream",
     "text": [
      "<class 'pandas.core.frame.DataFrame'>\n",
      "Int64Index: 479 entries, 0 to 633\n",
      "Data columns (total 2 columns):\n",
      " #   Column  Non-Null Count  Dtype \n",
      "---  ------  --------------  ----- \n",
      " 0   ID      479 non-null    object\n",
      " 1   LABEL   479 non-null    object\n",
      "dtypes: object(2)\n",
      "memory usage: 11.2+ KB\n"
     ]
    }
   ],
   "source": [
    "df_temp = df_positivo.copy()\n",
    "\n",
    "# Retira colunas que não interessam para o trabalho\n",
    "df_positivo = df_positivo[['ID']]\n",
    "df_positivo.insert(1, 'LABEL', '0')\n",
    "df_positivo.drop_duplicates(subset=['ID'], keep='first', inplace=True)\n",
    "df_positivo.info()"
   ]
  },
  {
   "cell_type": "code",
   "execution_count": 44,
   "metadata": {},
   "outputs": [],
   "source": [
    "def criar_multi_labels(df_base, df_compare):\n",
    "    count = 0\n",
    "    for index, row in df_base.iterrows():\n",
    "        for index_comp, row_comp in df_compare.iterrows():\n",
    "            try:\n",
    "                if row.ID == row_comp.ID:\n",
    "                    if row.LABEL == '0':\n",
    "                        df_base.loc[index]['LABEL'] = str(row_comp.LABEL_TEMP)\n",
    "                    else:\n",
    "                        df_base.loc[index]['LABEL'] = df_base.loc[index]['LABEL'] + ';' + str(row_comp.LABEL_TEMP)\n",
    "            except Exception as ex:\n",
    "                print(ex.error)\n",
    "    return df_base"
   ]
  },
  {
   "cell_type": "code",
   "execution_count": 45,
   "metadata": {},
   "outputs": [],
   "source": [
    "df_positivo = agrupar_multi_labels(df_positivo, df_temp)"
   ]
  },
  {
   "cell_type": "code",
   "execution_count": null,
   "metadata": {
    "collapsed": false,
    "jupyter": {
     "outputs_hidden": false
    },
    "pycharm": {
     "name": "#%%\n"
    }
   },
   "outputs": [],
   "source": [
    "# Lê o arquivo de um csv compactado\n",
    "df_acordaos = pd.read_csv('dados/df_acordaos.csv', sep='|', compression='gzip')"
   ]
  }
 ],
 "metadata": {
  "kernelspec": {
   "display_name": "Python 3",
   "language": "python",
   "name": "python3"
  },
  "language_info": {
   "codemirror_mode": {
    "name": "ipython",
    "version": 3
   },
   "file_extension": ".py",
   "mimetype": "text/x-python",
   "name": "python",
   "nbconvert_exporter": "python",
   "pygments_lexer": "ipython3",
   "version": "3.8.0"
  }
 },
 "nbformat": 4,
 "nbformat_minor": 4
}
