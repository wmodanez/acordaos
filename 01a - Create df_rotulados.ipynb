{
 "cells": [
  {
   "cell_type": "code",
   "execution_count": 1,
   "metadata": {
    "collapsed": false,
    "jupyter": {
     "outputs_hidden": false
    },
    "pycharm": {
     "name": "#%%\n"
    }
   },
   "outputs": [],
   "source": [
    "import os, signal\n",
    "\n",
    "import numpy as np\n",
    "import pandas as pd\n",
    "import modanez_tools as mt\n",
    "\n",
    "from datetime import datetime"
   ]
  },
  {
   "cell_type": "markdown",
   "metadata": {},
   "source": [
    "<h2>Trabalhando com o dataset de acórdãos rotulados"
   ]
  },
  {
   "cell_type": "code",
   "execution_count": 2,
   "metadata": {
    "pycharm": {
     "name": "#%%\n"
    }
   },
   "outputs": [
    {
     "name": "stdout",
     "output_type": "stream",
     "text": [
      "Duration: 0:00:00.003817\n",
      "<class 'pandas.core.frame.DataFrame'>\n",
      "RangeIndex: 330 entries, 0 to 329\n",
      "Data columns (total 4 columns):\n",
      " #   Column      Non-Null Count  Dtype  \n",
      "---  ------      --------------  -----  \n",
      " 0   NUMACORDAO  330 non-null    object \n",
      " 1   LABEL_A     330 non-null    int64  \n",
      " 2   LABEL_B     32 non-null     float64\n",
      " 3   LABEL_C     3 non-null      float64\n",
      "dtypes: float64(2), int64(1), object(1)\n",
      "memory usage: 10.4+ KB\n"
     ]
    }
   ],
   "source": [
    "df_rotulados = mt.read_file('dados/AC_CLASS_IMPORT.csv', separator=';', encoding='iso-8859-1')\n",
    "df_rotulados.info()"
   ]
  },
  {
   "cell_type": "code",
   "execution_count": 3,
   "metadata": {},
   "outputs": [
    {
     "data": {
      "text/plain": [
       "7     152\n",
       "2      61\n",
       "5      48\n",
       "8      22\n",
       "1      20\n",
       "10     10\n",
       "11      6\n",
       "4       4\n",
       "9       3\n",
       "6       2\n",
       "3       2\n",
       "Name: LABEL_A, dtype: int64"
      ]
     },
     "execution_count": 3,
     "metadata": {},
     "output_type": "execute_result"
    }
   ],
   "source": [
    "df_rotulados.LABEL_A.value_counts()"
   ]
  },
  {
   "cell_type": "code",
   "execution_count": 4,
   "metadata": {},
   "outputs": [
    {
     "data": {
      "text/plain": [
       "7.0    14\n",
       "2.0    10\n",
       "8.0     4\n",
       "5.0     3\n",
       "6.0     1\n",
       "Name: LABEL_B, dtype: int64"
      ]
     },
     "execution_count": 4,
     "metadata": {},
     "output_type": "execute_result"
    }
   ],
   "source": [
    "df_rotulados.LABEL_B.value_counts()"
   ]
  },
  {
   "cell_type": "code",
   "execution_count": 5,
   "metadata": {},
   "outputs": [
    {
     "data": {
      "text/plain": [
       "7.0    2\n",
       "8.0    1\n",
       "Name: LABEL_C, dtype: int64"
      ]
     },
     "execution_count": 5,
     "metadata": {},
     "output_type": "execute_result"
    }
   ],
   "source": [
    "df_rotulados.LABEL_C.value_counts()"
   ]
  },
  {
   "cell_type": "code",
   "execution_count": 6,
   "metadata": {},
   "outputs": [
    {
     "name": "stdout",
     "output_type": "stream",
     "text": [
      "<class 'pandas.core.frame.DataFrame'>\n",
      "RangeIndex: 330 entries, 0 to 329\n",
      "Data columns (total 4 columns):\n",
      " #   Column   Non-Null Count  Dtype \n",
      "---  ------   --------------  ----- \n",
      " 0   ID       330 non-null    object\n",
      " 1   LABEL_A  330 non-null    int64 \n",
      " 2   LABEL_B  330 non-null    int64 \n",
      " 3   LABEL_C  330 non-null    int64 \n",
      "dtypes: int64(3), object(1)\n",
      "memory usage: 10.4+ KB\n"
     ]
    }
   ],
   "source": [
    "df_rotulados.rename(columns={'NUMACORDAO': 'ID'}, inplace=True)\n",
    "\n",
    "df_rotulados.fillna(0, inplace=True)\n",
    "\n",
    "df_rotulados.LABEL_B = df_rotulados.LABEL_B.astype(int)\n",
    "\n",
    "df_rotulados.LABEL_C = df_rotulados.LABEL_C.astype(int)\n",
    "\n",
    "df_rotulados.info()"
   ]
  },
  {
   "cell_type": "code",
   "execution_count": 7,
   "metadata": {},
   "outputs": [
    {
     "name": "stdout",
     "output_type": "stream",
     "text": [
      "Duration: 0:00:37.803639\n"
     ]
    }
   ],
   "source": [
    "df_acordaos = mt.read_file('dados/df_acordaos.csv')"
   ]
  },
  {
   "cell_type": "code",
   "execution_count": 8,
   "metadata": {},
   "outputs": [
    {
     "name": "stdout",
     "output_type": "stream",
     "text": [
      "<class 'pandas.core.frame.DataFrame'>\n",
      "RangeIndex: 306986 entries, 0 to 306985\n",
      "Data columns (total 2 columns):\n",
      " #   Column   Non-Null Count   Dtype \n",
      "---  ------   --------------   ----- \n",
      " 0   ID       306986 non-null  object\n",
      " 1   DECISAO  306986 non-null  object\n",
      "dtypes: object(2)\n",
      "memory usage: 4.7+ MB\n"
     ]
    }
   ],
   "source": [
    "df_acordaos.info()"
   ]
  },
  {
   "cell_type": "code",
   "execution_count": 9,
   "metadata": {},
   "outputs": [],
   "source": [
    "# df_acordaos.drop_duplicates(subset=['ID', 'DECISAO'], keep='first', inplace=True)"
   ]
  },
  {
   "cell_type": "code",
   "execution_count": 10,
   "metadata": {},
   "outputs": [
    {
     "name": "stdout",
     "output_type": "stream",
     "text": [
      "<class 'pandas.core.frame.DataFrame'>\n",
      "Int64Index: 306986 entries, 0 to 306985\n",
      "Data columns (total 5 columns):\n",
      " #   Column   Non-Null Count   Dtype  \n",
      "---  ------   --------------   -----  \n",
      " 0   ID       306986 non-null  object \n",
      " 1   DECISAO  306986 non-null  object \n",
      " 2   LABEL_A  330 non-null     float64\n",
      " 3   LABEL_B  330 non-null     float64\n",
      " 4   LABEL_C  330 non-null     float64\n",
      "dtypes: float64(3), object(2)\n",
      "memory usage: 14.1+ MB\n"
     ]
    }
   ],
   "source": [
    "df_acordaos = pd.merge(df_acordaos, df_rotulados, on='ID', how='left')\n",
    "df_acordaos.info()"
   ]
  },
  {
   "cell_type": "code",
   "execution_count": 11,
   "metadata": {},
   "outputs": [
    {
     "name": "stdout",
     "output_type": "stream",
     "text": [
      "<class 'pandas.core.frame.DataFrame'>\n",
      "Int64Index: 330 entries, 2830 to 306985\n",
      "Data columns (total 5 columns):\n",
      " #   Column   Non-Null Count  Dtype  \n",
      "---  ------   --------------  -----  \n",
      " 0   ID       330 non-null    object \n",
      " 1   DECISAO  330 non-null    object \n",
      " 2   LABEL_A  330 non-null    float64\n",
      " 3   LABEL_B  330 non-null    float64\n",
      " 4   LABEL_C  330 non-null    float64\n",
      "dtypes: float64(3), object(2)\n",
      "memory usage: 15.5+ KB\n"
     ]
    }
   ],
   "source": [
    "df_rotulados = df_acordaos.loc[df_acordaos.LABEL_A.notnull()]\n",
    "df_rotulados.info()"
   ]
  },
  {
   "cell_type": "code",
   "execution_count": 12,
   "metadata": {},
   "outputs": [
    {
     "data": {
      "text/plain": [
       "7.0     152\n",
       "2.0      61\n",
       "5.0      48\n",
       "8.0      22\n",
       "1.0      20\n",
       "10.0     10\n",
       "11.0      6\n",
       "4.0       4\n",
       "9.0       3\n",
       "3.0       2\n",
       "6.0       2\n",
       "Name: LABEL_A, dtype: int64"
      ]
     },
     "execution_count": 12,
     "metadata": {},
     "output_type": "execute_result"
    }
   ],
   "source": [
    "df_rotulados.LABEL_A.value_counts()"
   ]
  },
  {
   "cell_type": "code",
   "execution_count": 13,
   "metadata": {},
   "outputs": [
    {
     "data": {
      "text/plain": [
       "0.0    298\n",
       "7.0     14\n",
       "2.0     10\n",
       "8.0      4\n",
       "5.0      3\n",
       "6.0      1\n",
       "Name: LABEL_B, dtype: int64"
      ]
     },
     "execution_count": 13,
     "metadata": {},
     "output_type": "execute_result"
    }
   ],
   "source": [
    "df_rotulados.LABEL_B.value_counts()"
   ]
  },
  {
   "cell_type": "code",
   "execution_count": 14,
   "metadata": {},
   "outputs": [
    {
     "data": {
      "text/plain": [
       "0.0    327\n",
       "7.0      2\n",
       "8.0      1\n",
       "Name: LABEL_C, dtype: int64"
      ]
     },
     "execution_count": 14,
     "metadata": {},
     "output_type": "execute_result"
    }
   ],
   "source": [
    "df_rotulados.LABEL_C.value_counts()"
   ]
  },
  {
   "cell_type": "code",
   "execution_count": 15,
   "metadata": {},
   "outputs": [
    {
     "name": "stdout",
     "output_type": "stream",
     "text": [
      "<class 'pandas.core.frame.DataFrame'>\n",
      "Int64Index: 306986 entries, 0 to 306985\n",
      "Data columns (total 5 columns):\n",
      " #   Column   Non-Null Count   Dtype \n",
      "---  ------   --------------   ----- \n",
      " 0   ID       306986 non-null  object\n",
      " 1   DECISAO  306986 non-null  object\n",
      " 2   LABEL_A  306986 non-null  int64 \n",
      " 3   LABEL_B  306986 non-null  int64 \n",
      " 4   LABEL_C  306986 non-null  int64 \n",
      "dtypes: int64(3), object(2)\n",
      "memory usage: 14.1+ MB\n"
     ]
    }
   ],
   "source": [
    "df_acordaos.LABEL_A.fillna(0, inplace=True)\n",
    "df_acordaos.LABEL_A = df_acordaos.LABEL_A.astype(int)\n",
    "\n",
    "df_acordaos.LABEL_B.fillna(0, inplace=True)\n",
    "df_acordaos.LABEL_B = df_acordaos.LABEL_B.astype(int)\n",
    "\n",
    "df_acordaos.LABEL_C.fillna(0, inplace=True)\n",
    "df_acordaos.LABEL_C = df_acordaos.LABEL_C.astype(int)\n",
    "df_acordaos.info()"
   ]
  },
  {
   "cell_type": "code",
   "execution_count": 16,
   "metadata": {
    "collapsed": false,
    "jupyter": {
     "outputs_hidden": false
    },
    "pycharm": {
     "name": "#%%\n"
    }
   },
   "outputs": [
    {
     "name": "stdout",
     "output_type": "stream",
     "text": [
      "Duration: 0:00:00.457998\n"
     ]
    }
   ],
   "source": [
    "# Salva o arquivo em um csv\n",
    "mt.save_file(df_acordaos.loc[df_acordaos.LABEL_A != 0], 'dados/df_rotulados.csv')"
   ]
  },
  {
   "cell_type": "code",
   "execution_count": 17,
   "metadata": {},
   "outputs": [
    {
     "name": "stdout",
     "output_type": "stream",
     "text": [
      "Duration: 0:01:00.498898\n"
     ]
    }
   ],
   "source": [
    "mt.save_file(df_acordaos.loc[df_acordaos.LABEL_A == 0], 'dados/df_acordaos_rot.csv')"
   ]
  },
  {
   "cell_type": "code",
   "execution_count": null,
   "metadata": {},
   "outputs": [],
   "source": [
    "os.kill(os.getpid(), signal.SIGKILL)"
   ]
  }
 ],
 "metadata": {
  "kernelspec": {
   "display_name": "Python 3",
   "language": "python",
   "name": "python3"
  },
  "language_info": {
   "codemirror_mode": {
    "name": "ipython",
    "version": 3
   },
   "file_extension": ".py",
   "mimetype": "text/x-python",
   "name": "python",
   "nbconvert_exporter": "python",
   "pygments_lexer": "ipython3",
   "version": "3.8.5"
  }
 },
 "nbformat": 4,
 "nbformat_minor": 4
}
