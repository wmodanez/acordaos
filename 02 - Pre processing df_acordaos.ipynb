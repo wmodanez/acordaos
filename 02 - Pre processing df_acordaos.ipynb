{
 "cells": [
  {
   "cell_type": "markdown",
   "metadata": {},
   "source": [
    "### Tratamento do texto do campo DECISAO do dataset de Acórdãos"
   ]
  },
  {
   "cell_type": "code",
   "execution_count": 1,
   "metadata": {},
   "outputs": [],
   "source": [
    "import os, signal\n",
    "\n",
    "import modanez_tools as mt\n",
    "\n",
    "from datetime import datetime"
   ]
  },
  {
   "cell_type": "code",
   "execution_count": 2,
   "metadata": {},
   "outputs": [
    {
     "name": "stdout",
     "output_type": "stream",
     "text": [
      "Duration: 0:00:37.368783\n",
      "<class 'pandas.core.frame.DataFrame'>\n",
      "RangeIndex: 306986 entries, 0 to 306985\n",
      "Data columns (total 5 columns):\n",
      " #   Column   Non-Null Count   Dtype \n",
      "---  ------   --------------   ----- \n",
      " 0   ID       306986 non-null  object\n",
      " 1   DECISAO  306986 non-null  object\n",
      " 2   LABEL_A  306986 non-null  int64 \n",
      " 3   LABEL_B  306986 non-null  int64 \n",
      " 4   LABEL_C  306986 non-null  int64 \n",
      "dtypes: int64(3), object(2)\n",
      "memory usage: 11.7+ MB\n"
     ]
    }
   ],
   "source": [
    "df_acordaos = mt.read_file('dados/df_acordaos.csv')\n",
    "df_acordaos.info()"
   ]
  },
  {
   "cell_type": "code",
   "execution_count": 3,
   "metadata": {},
   "outputs": [
    {
     "name": "stdout",
     "output_type": "stream",
     "text": [
      "Duration: 0:37:08.883732\n"
     ]
    }
   ],
   "source": [
    "# Aplicação do regex no texto do dataset de acordaos\n",
    "start_time = datetime.now()\n",
    "df_acordaos.DECISAO = df_acordaos.apply(lambda x: mt.padronizacao(x), axis = 1)\n",
    "print('Duration: {}'.format(datetime.now() - start_time))"
   ]
  },
  {
   "cell_type": "code",
   "execution_count": 5,
   "metadata": {},
   "outputs": [
    {
     "name": "stdout",
     "output_type": "stream",
     "text": [
      "Duration: 0:00:48.654806\n"
     ]
    }
   ],
   "source": [
    "mt.save_file(df_acordaos, 'dados/df_acordaos_proc.csv')"
   ]
  },
  {
   "cell_type": "code",
   "execution_count": null,
   "metadata": {},
   "outputs": [],
   "source": [
    "import os, signal\n",
    "os.kill(os.getpid(), signal.SIGKILL)"
   ]
  }
 ],
 "metadata": {
  "kernelspec": {
   "display_name": "Python 3",
   "language": "python",
   "name": "python3"
  },
  "language_info": {
   "codemirror_mode": {
    "name": "ipython",
    "version": 3
   },
   "file_extension": ".py",
   "mimetype": "text/x-python",
   "name": "python",
   "nbconvert_exporter": "python",
   "pygments_lexer": "ipython3",
   "version": "3.8.5"
  }
 },
 "nbformat": 4,
 "nbformat_minor": 4
}
