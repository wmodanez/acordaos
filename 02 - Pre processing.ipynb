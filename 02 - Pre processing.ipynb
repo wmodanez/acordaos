{
 "cells": [
  {
   "cell_type": "markdown",
   "metadata": {},
   "source": [
    "### Tratamento do texto do campo DECISAO do dataset de Acórdãos"
   ]
  },
  {
   "cell_type": "code",
   "execution_count": 1,
   "metadata": {},
   "outputs": [],
   "source": [
    "import re\n",
    "import tools\n",
    "import string\n",
    "import pyperclip as pc\n",
    "\n",
    "import pandas as pd\n",
    "# import texthero as hero\n",
    "# import pre_processing as pp\n",
    "\n",
    "from utils import highlight_regex_matches as hl\n",
    "\n",
    "from datetime import datetime"
   ]
  },
  {
   "cell_type": "code",
   "execution_count": 2,
   "metadata": {},
   "outputs": [],
   "source": [
    "# Configuração para mostrar todas as linhas de um dataframe\n",
    "# pd.set_option('display.max_rows', None)"
   ]
  },
  {
   "cell_type": "code",
   "execution_count": 3,
   "metadata": {},
   "outputs": [
    {
     "name": "stdout",
     "output_type": "stream",
     "text": [
      "Duration: 0:00:41.997628\n"
     ]
    }
   ],
   "source": [
    "df_acordaos = tools.read_file('dados/df_acordaos.csv')\n",
    "# df_acordaos.info()"
   ]
  },
  {
   "cell_type": "code",
   "execution_count": 4,
   "metadata": {},
   "outputs": [
    {
     "name": "stdout",
     "output_type": "stream",
     "text": [
      "Duration: 0:00:00.263774\n"
     ]
    }
   ],
   "source": [
    "df_rotulados = tools.read_file('dados/df_rotulados.csv')\n",
    "# df_rotulados.info()"
   ]
  },
  {
   "cell_type": "code",
   "execution_count": 5,
   "metadata": {
    "jupyter": {
     "source_hidden": true
    }
   },
   "outputs": [],
   "source": [
    "acordao = r'(?:[Aa]c[óo]rd[ãa]os?)'\n",
    "alinea = r'(?:[Aa]l[ií]neas?)'\n",
    "ano = r'((19\\d\\d|20[012]\\d)|(?<=\\/)(\\d{2})(?!\\/)(?!\\d))'\n",
    "artigo = r'(?:artigos?|\\barts?\\.?)'\n",
    "barra = r'(?:\\/)'\n",
    "camara = r'(?:[cC][aâ]mara)'\n",
    "caput = r'(?:[cC]aput)'\n",
    "cef = r'(?:Caixa Econ[oô]mica Federal)'\n",
    "combinado_com = r'(?:c\\/c)'\n",
    "constituicao = r'(?:\\b[cC]\\.?[fF]\\.?\\b|[cC]onstitui[cç][aã]o [fF]ederal|[cC]arta [mM]agna|[cC]arta [mM]agna (do)? ([bB]rasil|[bB]rasileira)\\b)'\n",
    "contrato = r'(?:\\b[cC]ontrato\\b)'\n",
    "da = r'(?:da)?'\n",
    "divisor = r'(?:[\\/|-])'\n",
    "data_full = r'(?:[0-9]{1,2}[\\°|\\º]?)'+divisor+'(?:[0-9]{2})'+divisor+'([0-9]{2,4})'# r'([0-9]{2})'+divisor+'([0-9]{2})'+divisor+'([0-9]{2,4})'\n",
    "de = r'(?:de)?'\n",
    "decreto = r'(?:[dD]ecreto)'\n",
    "decisao = r'(?:[dD]ecis[aã]o)'\n",
    "do = r'(?:do)?'\n",
    "e = r'(?:e)?'\n",
    "hifen = r'(?:-)*'\n",
    "lei = r'(?:[Ll][Ee][Ii])'\n",
    "decreto_lei = decreto + hifen + lei\n",
    "espaco = r'(?:\\s)*'\n",
    "inciso = r'(?:incisos?|\\bincs?.?\\b)'\n",
    "instrucao_normativa = r'(?:\\bInstru[cç][aã]o Normativa\\b)'\n",
    "ldo = r'(?:[lL][dD][oO]|'+ lei + r'(?:[dD]iretrizes [oO]r[cç]ament[aá]rias))'\n",
    "lei_complementar = lei + r'(?:[cC]omplementar)'\n",
    "lei_licitacacao = lei + espaco + de + espaco + r'(?:[lL]icita[cç]([aã]o|[oõ]es))'\n",
    "numero = r'(?:\\bn[\\°|\\º])?'\n",
    "numerais = r'([\\d.]{1,})'\n",
    "ordinais = r'(?:[\\°|\\º|\\ª]?)'\n",
    "paragrafo = r'(?:§ §|§§?|[pP]aragr[aá]fos?)'\n",
    "plenario = r'(?:[pP]len[aá]rio)'\n",
    "precedente = r'(?:[pP]recedente)'\n",
    "paradigma = r'(?:[pP]aradigma)'\n",
    "ponto = r'(?:\\.)?'\n",
    "portaria = r'(?:\\b[pP]ortaria\\b)'\n",
    "regimento_interno = r'(?:[Rr]egimento [Ii]nterno)'\n",
    "relacao = r'(?:[Rr]ela[cç][aã]o)'\n",
    "romano = r'([MDCLXVI]+\\b)'\n",
    "r'\\b([MDCLXVI]+)\\b ?,? ?e? ?'\n",
    "# Remove o ponto de leis, decretos etc\n",
    "sem_ponto = r'(\\d+)(?:\\.)(\\d+)(?=\\/)'\n",
    "sumula = r'(?:\\b[sS][uú]mula\\b)'\n",
    "tcu = r'(?:\\b[tT][cC][uU]|[tT]ribunal de [cC]ontas da [uU]nião\\b)'\n",
    "tcu_opt = r'(?:tcu)*'\n",
    "todos = r'(?:todos)'\n",
    "virgula = r'(?:,)?'\n",
    "underscore = r'(?:_)'\n",
    "unico = '(?:[úÚuU]nico)?'"
   ]
  },
  {
   "cell_type": "code",
   "execution_count": 6,
   "metadata": {
    "jupyter": {
     "source_hidden": true
    }
   },
   "outputs": [],
   "source": [
    "# Definição dos padrões a serem buscados no texto e de como eles serão substituídos\n",
    "pa_lei = re.compile(lei+espaco+numero+espaco+numerais+ordinais+divisor+ano, re.I)\n",
    "re_lei = r'LEI_\\1_\\2'\n",
    "\n",
    "pa_lei_datafull = re.compile(lei+espaco+numero+espaco+numerais+ordinais+virgula+espaco+de+espaco+data_full, re.I)\n",
    "re_lei_datafull = r'LEI_\\1_\\2'\n",
    "\n",
    "pa_decreto = re.compile(decreto+espaco+numerais+ordinais+divisor+ano, re.I)\n",
    "re_decreto = r'DECRETO_\\1_\\2'\n",
    "\n",
    "# pa_portaria\n",
    "# re_portaria\n",
    "\n",
    "pa_artigo = re.compile(artigo+espaco+numerais+ordinais)\n",
    "re_artigo = r'ARTIGO_\\1'\n",
    "\n",
    "pa_paragrafo = re.compile(paragrafo+espaco+numerais+ordinais)\n",
    "re_paragrafo = r'PARAGRAFO_\\1'\n",
    "\n",
    "pa_inciso = re.compile(inciso+espaco+romano, re.I)\n",
    "re_inciso = r'INCISO_\\1'\n",
    "\n",
    "# pa_alinea\n",
    "# re_alinea\n",
    "\n",
    "pa_cef = re.compile(cef, re.I)\n",
    "re_cef = r'CEF'\n",
    "\n",
    "pa_constituicao = re.compile(constituicao, re.I)\n",
    "re_constituicao = r'CONSTITUICAO_FEDERAL'\n",
    "\n",
    "# pa_instrucao_normativa\n",
    "# re_instrucao_normativa\n",
    "\n",
    "pa_tcu = re.compile(tcu, re.I)\n",
    "re_tcu = r'TCU'\n",
    "\n",
    "pa_ritcu = re.compile(regimento_interno+espaco+do+espaco+tcu, re.I)\n",
    "re_ritcu = r'RI_TCU'\n",
    "\n",
    "decisao_camara = espaco+numerais+ordinais+divisor+ano+espaco+hifen+espaco+tcu_opt+espaco+hifen+espaco\n",
    "decisao_pl = decisao_camara+plenario\n",
    "decisao_1c = decisao_camara+'1'+ordinais+espaco+camara\n",
    "decisao_2c = decisao_camara+'2'+ordinais+espaco+camara\n",
    "acordao_relacao = acordao+espaco+de+espaco+relacao\n",
    "\n",
    "pa_acpl = re.compile(acordao+decisao_pl, re.I)\n",
    "re_acpl = r'AC-\\1-\\2-PL'\n",
    "\n",
    "pa_ac1c = re.compile(acordao+decisao_1c, re.I)\n",
    "re_ac1c = r'AC-\\1-\\2-1C'\n",
    "\n",
    "pa_ac2c = re.compile(acordao+decisao_2c, re.I)\n",
    "re_ac2c = r'AC-\\1-\\2-2C'\n",
    "\n",
    "pa_arpl = re.compile(acordao_relacao+decisao_pl, re.I)\n",
    "re_arpl = r'AR-\\1-\\2-PL'\n",
    "\n",
    "pa_ar1c = re.compile(acordao_relacao+decisao_1c, re.I)\n",
    "re_ar1c = r'AR-\\1-\\2-1C'\n",
    "\n",
    "pa_ar2c = re.compile(acordao_relacao+decisao_2c, re.I)\n",
    "re_ar2c = r'AR-\\1-\\2-2C'\n",
    "\n",
    "pa_depl = re.compile(decisao+decisao_pl, re.I)\n",
    "re_depl = r'DE-\\1-\\2-PL'\n",
    "\n",
    "pa_de1c = re.compile(decisao+decisao_1c, re.I)\n",
    "re_de1c = r'DE-\\1-\\2-1C'\n",
    "\n",
    "pa_de2c = re.compile(decisao+decisao_2c, re.I)\n",
    "re_de2c = r'DE-\\1-\\2-2C'\n",
    "\n",
    "pa_ldo = re.compile(ldo, re.I)\n",
    "re_ldo = r'LDO'\n",
    "\n",
    "pa_sem_ponto = re.compile(r'(\\d+)(?:\\.)(\\d+)(?=\\/)')\n",
    "re_sem_ponto = r'\\1\\2'\n",
    "\n",
    "pa_transform_emails = re.compile(r'[^\\s]+@[^\\s]+', re.UNICODE)\n",
    "re_transform_emails = 'EMAIL'\n",
    "\n",
    "pa_transform_url = re.compile(r'(http|https)://[^\\s]+', re.UNICODE)\n",
    "re_transform_url = 'URL'\n",
    "\n",
    "pa_html = re.compile(r'<(\\/|\\\\)?.+?>', re.UNICODE)\n",
    "\n",
    "# pa_remove_numr = re.compile(r'((?<!\\_)([\\d]+)[?=(\\.|\\/|\\°|\\º|\\ª|])|(?<=\\/)([\\d]+)(?=\\.|\\/|\\s|;|,|-)')\n",
    "pa_remove_numr = re.compile(r'(?<=\\s|\\/|\\.|,|:|;)([\\d]+)(?<!\\s|\\))')\n",
    "re_vazio = ''\n",
    "\n",
    "pa_hifens_numr = re.compile(r'(?<=\\s)(-[\\d]+|-)(?<!\\s)')\n",
    "\n",
    "pa_punctuation = re.compile(r'[.,;:?!–\\\\¿\\/\\°\\º\\ª\\(\\)\\$\\%\\&\\#]')\n",
    "\n",
    "pa_2caracter = re.compile(r'(?<=\\s)[a-zA-Z]{1,2}(?=\\s|,|;)')\n",
    "\n",
    "pa_generico = re.compile(r'(fls|folha[s]?|peça[s]?|grifo[s]? nosso[s]?|-?[X]-?|CPF|CNPJ|LTDA)', re.I)\n",
    "\n",
    "pa_espacos = re.compile(r'([\\s]{2,})')\n",
    "re_espacos = ' '"
   ]
  },
  {
   "cell_type": "code",
   "execution_count": 7,
   "metadata": {},
   "outputs": [],
   "source": [
    "# destaque = re.compile('LEI'+underscore+numerais+underscore, re.I)\n",
    "\n",
    "# texto = df_rotulados.iloc[77].DECISAO\n",
    "# texto = pa_sem_ponto.sub(re_sem_ponto, texto)\n",
    "\n",
    "# texto = pa_lei.sub(re_lei, pa_decreto.sub(re_decreto, texto))\n",
    "# texto = pa_inciso.sub(re_inciso, pa_paragrafo.sub(re_paragrafo, pa_artigo.sub(re_artigo, texto)))\n",
    "# texto = pa_tcu.sub(re_tcu, pa_ritcu.sub(re_ritcu, texto))\n",
    "# texto = pa_acpl.sub(re_acpl, pa_ac1c.sub(re_ac1c, pa_ac2c.sub(re_ac2c, pa_constituicao.sub(re_constituicao, texto))))\n",
    "# texto = pa_depl.sub(re_depl, pa_de1c.sub(re_de1c, pa_de2c.sub(re_de2c, texto)))\n",
    "# texto = pa_arpl.sub(re_arpl, pa_ar1c.sub(re_ar1c, pa_ar2c.sub(re_ar2c, texto)))\n",
    "# texto = pa_transform_emails.sub(re_transform_emails, pa_transform_url.sub(re_transform_url, texto))\n",
    "# texto = pa_remove_numr.sub(re_vazio, pa_punctuation.sub(re_vazio, pa_generico.sub(re_vazio, texto)))\n",
    "# texto = pa_2caracter.sub(re_vazio, pa_hifens_numr.sub(re_vazio, texto))\n",
    "# texto = pa_espacos.sub(re_espacos, texto)\n",
    "# pc.copy(texto)\n",
    "\n",
    "# hl(destaque, pa_lei_datafull.sub(re_lei_datafull, texto))"
   ]
  },
  {
   "cell_type": "code",
   "execution_count": 8,
   "metadata": {},
   "outputs": [],
   "source": [
    "def padronizacao(texto):\n",
    "    texto = pa_html.sub(re_espacos, texto.DECISAO.lower())\n",
    "    \n",
    "    texto = pa_sem_ponto.sub(re_sem_ponto, texto)\n",
    "\n",
    "    texto = pa_lei.sub(re_lei, pa_decreto.sub(re_decreto, texto))\n",
    "    texto = pa_inciso.sub(re_inciso, pa_paragrafo.sub(re_paragrafo, pa_artigo.sub(re_artigo, texto)))\n",
    "    texto = pa_tcu.sub(re_tcu, pa_ritcu.sub(re_ritcu, texto))\n",
    "    texto = pa_acpl.sub(re_acpl, pa_ac1c.sub(re_ac1c, pa_ac2c.sub(re_ac2c, pa_constituicao.sub(re_constituicao, texto))))\n",
    "    texto = pa_depl.sub(re_depl, pa_de1c.sub(re_de1c, pa_de2c.sub(re_de2c, texto)))\n",
    "    texto = pa_arpl.sub(re_arpl, pa_ar1c.sub(re_ar1c, pa_ar2c.sub(re_ar2c, texto)))\n",
    "    texto = pa_transform_emails.sub(re_transform_emails, pa_transform_url.sub(re_transform_url, texto))\n",
    "    texto = pa_remove_numr.sub(re_vazio, pa_punctuation.sub(re_vazio, pa_generico.sub(re_vazio, texto)))\n",
    "    texto = pa_2caracter.sub(re_vazio, pa_hifens_numr.sub(re_vazio, texto))\n",
    "    texto = pa_espacos.sub(re_espacos, texto)\n",
    "\n",
    "    return texto\n",
    "    \n"
   ]
  },
  {
   "cell_type": "code",
   "execution_count": 9,
   "metadata": {},
   "outputs": [
    {
     "name": "stdout",
     "output_type": "stream",
     "text": [
      "Duration: 0:00:13.276783\n"
     ]
    }
   ],
   "source": [
    "# Aplicação do regex no texto do dataset dos etiquetados\n",
    "start_time = datetime.now()\n",
    "df_rotulados.DECISAO = df_rotulados.apply(lambda x: padronizacao(x), axis = 1)\n",
    "print('Duration: {}'.format(datetime.now() - start_time))"
   ]
  },
  {
   "cell_type": "code",
   "execution_count": 10,
   "metadata": {},
   "outputs": [
    {
     "name": "stdout",
     "output_type": "stream",
     "text": [
      "Duration: 0:00:00.319682\n"
     ]
    }
   ],
   "source": [
    "start_time = datetime.now()\n",
    "df_rotulados.to_csv('dados/df_rotulados_proc.csv', sep='|', index=False)\n",
    "print('Duration: {}'.format(datetime.now() - start_time))"
   ]
  },
  {
   "cell_type": "code",
   "execution_count": 11,
   "metadata": {},
   "outputs": [
    {
     "name": "stdout",
     "output_type": "stream",
     "text": [
      "Duration: 0:37:38.526097\n"
     ]
    }
   ],
   "source": [
    "# Aplicação do regex no texto do dataset de acordaos\n",
    "start_time = datetime.now()\n",
    "df_acordaos.DECISAO = df_acordaos.apply(lambda x: padronizacao(x), axis = 1)\n",
    "print('Duration: {}'.format(datetime.now() - start_time))"
   ]
  },
  {
   "cell_type": "code",
   "execution_count": 12,
   "metadata": {},
   "outputs": [
    {
     "name": "stdout",
     "output_type": "stream",
     "text": [
      "Duration: 0:00:48.264869\n"
     ]
    }
   ],
   "source": [
    "start_time = datetime.now()\n",
    "df_acordaos.to_csv('dados/df_acordaos_proc.csv', sep='|', index=False)\n",
    "print('Duration: {}'.format(datetime.now() - start_time))"
   ]
  },
  {
   "cell_type": "code",
   "execution_count": 13,
   "metadata": {},
   "outputs": [],
   "source": [
    "# pc.copy(df_rotulados.iloc[177].DECISAO)"
   ]
  },
  {
   "cell_type": "code",
   "execution_count": 14,
   "metadata": {},
   "outputs": [],
   "source": [
    "# from texthero import preprocessing as pp"
   ]
  },
  {
   "cell_type": "code",
   "execution_count": 15,
   "metadata": {},
   "outputs": [],
   "source": [
    "# custom_pipeline = [preprocessing.lowercase,\n",
    "#                   preprocessing.remove_diacritics,\n",
    "#                   preprocessing.remove_whitespace]"
   ]
  },
  {
   "cell_type": "code",
   "execution_count": 16,
   "metadata": {},
   "outputs": [],
   "source": [
    "# start_time = datetime.now()\n",
    "# df_rotulados['EDITADO'] = df_rotulados.DECISAO.pipe(hero.clean)\n",
    "# print('Duration: {}'.format(datetime.now() - start_time))"
   ]
  },
  {
   "cell_type": "code",
   "execution_count": null,
   "metadata": {},
   "outputs": [],
   "source": [
    "import os, signal\n",
    "os.kill(os.getpid(), signal.SIGKILL)"
   ]
  }
 ],
 "metadata": {
  "kernelspec": {
   "display_name": "Python 3",
   "language": "python",
   "name": "python3"
  },
  "language_info": {
   "codemirror_mode": {
    "name": "ipython",
    "version": 3
   },
   "file_extension": ".py",
   "mimetype": "text/x-python",
   "name": "python",
   "nbconvert_exporter": "python",
   "pygments_lexer": "ipython3",
   "version": "3.8.5"
  }
 },
 "nbformat": 4,
 "nbformat_minor": 4
}
