{
 "cells": [
  {
   "cell_type": "markdown",
   "metadata": {},
   "source": [
    "### Tratamento do texto do campo DECISAO do dataset de Acórdãos"
   ]
  },
  {
   "cell_type": "code",
   "execution_count": 99,
   "metadata": {},
   "outputs": [],
   "source": [
    "import tools\n",
    "import string\n",
    "\n",
    "import pandas as pd\n",
    "import pre_processing as pp"
   ]
  },
  {
   "cell_type": "code",
   "execution_count": 39,
   "metadata": {},
   "outputs": [],
   "source": [
    "# Configuração para mostrar todas as linhas de um dataframe\n",
    "pd.set_option('display.max_rows', None)"
   ]
  },
  {
   "cell_type": "code",
   "execution_count": 2,
   "metadata": {},
   "outputs": [
    {
     "name": "stdout",
     "output_type": "stream",
     "text": [
      "Duration: 0:00:43.330830\n"
     ]
    }
   ],
   "source": [
    "df_acordaos = tools.read_file('dados/df_acordaos.csv', '|', 'utf-8')"
   ]
  },
  {
   "cell_type": "code",
   "execution_count": 3,
   "metadata": {},
   "outputs": [
    {
     "name": "stdout",
     "output_type": "stream",
     "text": [
      "<class 'pandas.core.frame.DataFrame'>\n",
      "RangeIndex: 292113 entries, 0 to 292112\n",
      "Data columns (total 3 columns):\n",
      " #   Column   Non-Null Count   Dtype \n",
      "---  ------   --------------   ----- \n",
      " 0   ID       292113 non-null  object\n",
      " 1   DECISAO  292113 non-null  object\n",
      " 2   LABEL    448 non-null     object\n",
      "dtypes: object(3)\n",
      "memory usage: 6.7+ MB\n"
     ]
    }
   ],
   "source": [
    "df_acordaos.info()"
   ]
  },
  {
   "cell_type": "code",
   "execution_count": 104,
   "metadata": {},
   "outputs": [],
   "source": [
    "df_temp = df_acordaos[df_acordaos.LABEL.notnull()][['ID', 'DECISAO', 'LABEL']]\n",
    "df = pd.DataFrame(df_temp.LABEL.str.split(';').tolist(), columns= new_columns)\n",
    "df_temp = df_temp.assign(LABEL1 = df.LABEL1.tolist())\n",
    "df_temp = df_temp.assign(LABEL2 = df.LABEL2.tolist())\n",
    "df_temp = df_temp.assign(LABEL3 = df.LABEL3.tolist())\n",
    "df_temp = df_temp.assign(LABEL4 = df.LABEL4.tolist())\n",
    "del df\n",
    "df_temp.drop('LABEL', axis=1, inplace=True)"
   ]
  }
 ],
 "metadata": {
  "kernelspec": {
   "display_name": "Python 3",
   "language": "python",
   "name": "python3"
  },
  "language_info": {
   "codemirror_mode": {
    "name": "ipython",
    "version": 3
   },
   "file_extension": ".py",
   "mimetype": "text/x-python",
   "name": "python",
   "nbconvert_exporter": "python",
   "pygments_lexer": "ipython3",
   "version": "3.8.0"
  }
 },
 "nbformat": 4,
 "nbformat_minor": 4
}
