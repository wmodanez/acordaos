{
 "cells": [
  {
   "cell_type": "markdown",
   "metadata": {},
   "source": [
    "### Tratamento do texto do campo DECISAO do dataset de Acórdãos rotulados"
   ]
  },
  {
   "cell_type": "code",
   "execution_count": 1,
   "metadata": {},
   "outputs": [],
   "source": [
    "import os, signal\n",
    "\n",
    "import pyperclip as pc\n",
    "import modanez_tools as mt\n",
    "\n",
    "from datetime import datetime\n",
    "# from utils import highlight_regex_matches as hl"
   ]
  },
  {
   "cell_type": "code",
   "execution_count": 2,
   "metadata": {},
   "outputs": [],
   "source": [
    "# Configuração para mostrar todas as linhas de um dataframe\n",
    "# pd.set_option('display.max_rows', None)"
   ]
  },
  {
   "cell_type": "code",
   "execution_count": 3,
   "metadata": {},
   "outputs": [
    {
     "name": "stdout",
     "output_type": "stream",
     "text": [
      "Duration: 0:00:00.233786\n"
     ]
    }
   ],
   "source": [
    "df_rotulados = mt.read_file('dados/df_rotulados.csv')\n",
    "# df_rotulados.info()"
   ]
  },
  {
   "cell_type": "code",
   "execution_count": 4,
   "metadata": {},
   "outputs": [],
   "source": [
    "# destaque = re.compile('LEI'+underscore+numerais+underscore, re.I)\n",
    "\n",
    "# texto = df_rotulados.iloc[77].DECISAO\n",
    "# texto = pa_sem_ponto.sub(re_sem_ponto, texto)\n",
    "\n",
    "# texto = pa_lei.sub(re_lei, pa_decreto.sub(re_decreto, texto))\n",
    "# texto = pa_inciso.sub(re_inciso, pa_paragrafo.sub(re_paragrafo, pa_artigo.sub(re_artigo, texto)))\n",
    "# texto = pa_tcu.sub(re_tcu, pa_ritcu.sub(re_ritcu, texto))\n",
    "# texto = pa_acpl.sub(re_acpl, pa_ac1c.sub(re_ac1c, pa_ac2c.sub(re_ac2c, pa_constituicao.sub(re_constituicao, texto))))\n",
    "# texto = pa_depl.sub(re_depl, pa_de1c.sub(re_de1c, pa_de2c.sub(re_de2c, texto)))\n",
    "# texto = pa_arpl.sub(re_arpl, pa_ar1c.sub(re_ar1c, pa_ar2c.sub(re_ar2c, texto)))\n",
    "# texto = pa_transform_emails.sub(re_transform_emails, pa_transform_url.sub(re_transform_url, texto))\n",
    "# texto = pa_remove_numr.sub(re_vazio, pa_punctuation.sub(re_vazio, pa_generico.sub(re_vazio, texto)))\n",
    "# texto = pa_2caracter.sub(re_vazio, pa_hifens_numr.sub(re_vazio, texto))\n",
    "# texto = pa_espacos.sub(re_espacos, texto)\n",
    "# pc.copy(texto)\n",
    "\n",
    "# hl(destaque, pa_lei_datafull.sub(re_lei_datafull, texto))"
   ]
  },
  {
   "cell_type": "code",
   "execution_count": 5,
   "metadata": {},
   "outputs": [
    {
     "name": "stdout",
     "output_type": "stream",
     "text": [
      "Duration: 0:00:13.517504\n"
     ]
    }
   ],
   "source": [
    "# Aplicação do regex no texto do dataset dos etiquetados\n",
    "start_time = datetime.now()\n",
    "df_rotulados.DECISAO = df_rotulados.apply(lambda x: mt.padronizacao(x), axis = 1)\n",
    "print('Duration: {}'.format(datetime.now() - start_time))"
   ]
  },
  {
   "cell_type": "code",
   "execution_count": 6,
   "metadata": {},
   "outputs": [
    {
     "name": "stdout",
     "output_type": "stream",
     "text": [
      "Duration: 0:00:00.303112\n"
     ]
    }
   ],
   "source": [
    "mt.save_file(df_rotulados,'dados/df_rotulados_proc.csv')"
   ]
  },
  {
   "cell_type": "code",
   "execution_count": 7,
   "metadata": {},
   "outputs": [],
   "source": [
    "# pc.copy(df_rotulados.iloc[177].DECISAO)"
   ]
  },
  {
   "cell_type": "code",
   "execution_count": null,
   "metadata": {},
   "outputs": [],
   "source": [
    "os.kill(os.getpid(), signal.SIGKILL)"
   ]
  }
 ],
 "metadata": {
  "kernelspec": {
   "display_name": "Python 3",
   "language": "python",
   "name": "python3"
  },
  "language_info": {
   "codemirror_mode": {
    "name": "ipython",
    "version": 3
   },
   "file_extension": ".py",
   "mimetype": "text/x-python",
   "name": "python",
   "nbconvert_exporter": "python",
   "pygments_lexer": "ipython3",
   "version": "3.8.5"
  }
 },
 "nbformat": 4,
 "nbformat_minor": 4
}
